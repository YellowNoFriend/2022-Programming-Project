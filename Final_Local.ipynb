{
 "cells": [
  {
   "cell_type": "markdown",
   "metadata": {},
   "source": [
    "# MATH20014 Mathematical Programming: Group 3 Project Submission \n",
    "\n",
    "Group Members: Hamad Babur, Ryan Lam, Jiawei Li, Sherry Shen \n"
   ]
  },
  {
   "cell_type": "markdown",
   "metadata": {},
   "source": [
    "## Table of Contents\n",
    "\n",
    "- [Introduction](#Intro)\n",
    "- Part A: [Introduction to `PyGame`](#PartA)\n",
    "    - Section I: [Animating Ball Motion](#S1)\n",
    "    - Section II: [Sierpenski Triangle](#S2)\n",
    "    - Section III: [Fractals and Trees](#S3)\n",
    "- Part B: [Applications of `Pygame`](#PartB)\n",
    "    - Section I: [Julia and Mandelbrot Sets](#S4)\n",
    "    - Section II: [Tower of Hanoi](#S5)\n",
    "- [Conclusion](#Conc)\n",
    "- [References and Bibilography](#Bib)"
   ]
  },
  {
   "cell_type": "markdown",
   "metadata": {},
   "source": [
    "## Introduction <a name='Intro'></a>\n"
   ]
  },
  {
   "cell_type": "markdown",
   "metadata": {},
   "source": [
    "Recursion is one of the most powerful tools in programming. It is not only a rather intuitive mathematical concept, but it is also easy to implement in any programming language. \n",
    "\n",
    "In this Python project, we will both visually and mathematically appreciate the power of recursion.  We will focus on a set of modules collectively known as `PyGame` [(Shinners, 2021)](#PyGame_Intro). They provide a concise way for us to produce interactive animations within Python.\n",
    "\n",
    "The language of recursion naturally leads to the study of fractals, that is, self-repeating patterns and geometric objects. As we will see later, a lot of patterns in nature are also closely related to fractals.\n"
   ]
  },
  {
   "cell_type": "markdown",
   "metadata": {},
   "source": [
    "The first part of the project consists of three short parts, aiming to understand the power of the `PyGame` module.\n",
    "\n",
    "Firstly, in section 1, we introduce and develop a simple pygame animation function `bouncing_ball`, which is one or more balls bouncing in a square box in two dimensions with various constraints.\n",
    "\n",
    "In section 2, we will introduce fractals through the Sierpinski triangle and make an animation of how the Sierpinski triangles are produced.\n",
    "\n",
    "In section 3, we explore a particular construction and animation of a recursively defined “tree”."
   ]
  },
  {
   "cell_type": "markdown",
   "metadata": {},
   "source": [
    "The second part of the project will focus on some interesting applications when we integrate `PyGame` with different programming techniques.\n",
    "\n",
    "In section 4, we shall look at Julia sequences and we shall animate the Julia set as a transition from one picture to another. In addition to this, we shall look at Mandelbrot sequences, and hence create a program that zooms in and out of the Mandelbrot set.\n",
    "\n",
    "Finally, in section 5, we explore a classical puzzle - the Tower of Hanoi. We will briefly look at the solution, the animation, and other time and space complexity issues.\n"
   ]
  },
  {
   "cell_type": "code",
   "execution_count": 1,
   "metadata": {},
   "outputs": [
    {
     "name": "stdout",
     "output_type": "stream",
     "text": [
      "pygame 2.1.2 (SDL 2.0.18, Python 3.9.7)\n",
      "Hello from the pygame community. https://www.pygame.org/contribute.html\n"
     ]
    }
   ],
   "source": [
    "# Required Imports:\n",
    "import pygame, timeit\n",
    "import matplotlib.pyplot as plt\n",
    "import numpy as np"
   ]
  },
  {
   "cell_type": "markdown",
   "metadata": {},
   "source": [
    "<a name='PartA'></a>\n",
    "## Part A: Introduction to `PyGame`\n"
   ]
  },
  {
   "cell_type": "markdown",
   "metadata": {},
   "source": [
    "In this part, we will demonstrate animating and drawing in `PyGame`, which is very useful for our applications in part B."
   ]
  },
  {
   "cell_type": "markdown",
   "metadata": {},
   "source": [
    "### Section I: Animating Ball Motion <a name='S1'></a>\n"
   ]
  },
  {
   "cell_type": "markdown",
   "metadata": {},
   "source": [
    "### Section II: Sierpenski Triangle <a name='S2'></a>\n"
   ]
  },
  {
   "cell_type": "markdown",
   "metadata": {},
   "source": [
    "### Section III: Fractals and Trees <a name='S3'></a>"
   ]
  },
  {
   "cell_type": "markdown",
   "metadata": {},
   "source": [
    "<a name='PartB'></a>\n",
    "## Part B: Applications of `PyGame` "
   ]
  },
  {
   "cell_type": "markdown",
   "metadata": {},
   "source": [
    "### Section I: Julia and Mandelbrot Sets <a name='S4'></a>"
   ]
  },
  {
   "cell_type": "markdown",
   "metadata": {},
   "source": [
    "### Section II: Tower of Hanoi <a name='S5'></a>"
   ]
  },
  {
   "cell_type": "markdown",
   "metadata": {},
   "source": [
    "\n"
   ]
  },
  {
   "cell_type": "markdown",
   "metadata": {},
   "source": [
    "## Conclusion <a name='Conc'></a>\n"
   ]
  },
  {
   "cell_type": "code",
   "execution_count": null,
   "metadata": {},
   "outputs": [],
   "source": []
  },
  {
   "cell_type": "markdown",
   "metadata": {},
   "source": [
    "## References and Bibilography <a name='Bib'></a>\n"
   ]
  },
  {
   "cell_type": "markdown",
   "metadata": {},
   "source": [
    "<a id='PyGame_Intro'>(Shinners, 2021)</a> Shinners, P. (2021). *Pygame Intro — Pygame v2.1.1 Documentation.* [online] Pygame.org. Available at: http://www.pygame.org/docs/tut/PygameIntro.html [Accessed 5 May 2022]."
   ]
  },
  {
   "cell_type": "markdown",
   "metadata": {},
   "source": []
  },
  {
   "cell_type": "markdown",
   "metadata": {},
   "source": []
  }
 ],
 "metadata": {
  "interpreter": {
   "hash": "f08154012ddadd8e950e6e9e035c7a7b32c136e7647e9b7c77e02eb723a8bedb"
  },
  "kernelspec": {
   "display_name": "Python 3.9.7 ('base')",
   "language": "python",
   "name": "python3"
  },
  "language_info": {
   "codemirror_mode": {
    "name": "ipython",
    "version": 3
   },
   "file_extension": ".py",
   "mimetype": "text/x-python",
   "name": "python",
   "nbconvert_exporter": "python",
   "pygments_lexer": "ipython3",
   "version": "3.9.7"
  }
 },
 "nbformat": 4,
 "nbformat_minor": 2
}
