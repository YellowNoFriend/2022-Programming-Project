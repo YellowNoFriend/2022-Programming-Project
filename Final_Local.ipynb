{
 "cells": [
  {
   "cell_type": "markdown",
   "metadata": {},
   "source": [
    "# MATH20014 Mathematical Programming: Group 3 Project Submission \n",
    "\n",
    "Group Members: Hamad Babur, Ryan Lam, Jiawei Li, Sherry Shen \n"
   ]
  },
  {
   "cell_type": "markdown",
   "metadata": {},
   "source": [
    "## Table of Contents\n",
    "\n",
    "- [Introduction](#Intro)\n",
    "- Part A: [Introduction to `PyGame`](#PartA)\n",
    "    - Section I: [Animating Ball Motion](#S1)\n",
    "    - Section II: [Sierpenski Triangle](#S2)\n",
    "    - Section III: [Fractals and Trees](#S3)\n",
    "- Part B: [Applications of `Pygame`](#PartB)\n",
    "    - Section I: [Julia and Mandelbrot Sets](#S4)\n",
    "    - Section II: [Tower of Hanoi](#S5)\n",
    "- [Conclusion](#Conc)\n",
    "- [References and Bibilography](#Bib)"
   ]
  },
  {
   "cell_type": "markdown",
   "metadata": {},
   "source": [
    "## Introduction <a name='Intro'></a>\n"
   ]
  },
  {
   "cell_type": "markdown",
   "metadata": {},
   "source": [
    "Recursion is one of the most powerful tools in programming. It is not only a rather intuitive mathematical concept, but it is also easy to implement in any programming language. \n",
    "\n",
    "In this Python project, we will both visually and mathematically appreciate the power of recursion.  We will focus on a set of modules collectively known as `PyGame` [(Shinners, 2021)](#PyGame_Intro). They provide a concise way for us to produce interactive animations within Python.\n",
    "\n",
    "The language of recursion naturally leads to the study of fractals, that is, self-repeating patterns and geometric objects. As we will see later, a lot of patterns in nature are also closely related to fractals.\n"
   ]
  },
  {
   "cell_type": "markdown",
   "metadata": {},
   "source": [
    "The first part (part A) of the project consists of three short parts, aiming to understand the power of the `PyGame` module.\n",
    "\n",
    "Firstly, in section A.I, we introduce and develop a simple pygame animation function `bouncing_ball`, which is one or more balls bouncing in a square box in two dimensions with various constraints.\n",
    "\n",
    "In section A.II, we will introduce fractals through the Sierpinski triangle and make an animation of how the Sierpinski triangles are produced.\n",
    "\n",
    "In section A.III, we explore a particular construction and animation of a recursively defined “tree”."
   ]
  },
  {
   "cell_type": "markdown",
   "metadata": {},
   "source": [
    "The second part (part B) of the project will focus on some interesting applications when we integrate `PyGame` with different programming techniques.\n",
    "\n",
    "In section B.I, we shall look at Julia sequences and we shall animate the Julia set as a transition from one picture to another. In addition to this, we shall look at Mandelbrot sequences, and hence create a program that zooms in and out of the Mandelbrot set.\n",
    "\n",
    "Finally, in section B.II, we explore a classical puzzle - the Tower of Hanoi. We will briefly look at the solution, the animation, and other time and space complexity issues.\n"
   ]
  },
  {
   "cell_type": "code",
   "execution_count": 1,
   "metadata": {},
   "outputs": [
    {
     "name": "stdout",
     "output_type": "stream",
     "text": [
      "pygame 2.1.2 (SDL 2.0.18, Python 3.9.7)\n",
      "Hello from the pygame community. https://www.pygame.org/contribute.html\n"
     ]
    }
   ],
   "source": [
    "# Required Imports:\n",
    "import pygame, timeit\n",
    "import matplotlib.pyplot as plt\n",
    "import numpy as np"
   ]
  },
  {
   "cell_type": "markdown",
   "metadata": {},
   "source": [
    "<a id='PartA'></a>\n",
    "## Part A: Introduction to `PyGame`\n"
   ]
  },
  {
   "cell_type": "markdown",
   "metadata": {},
   "source": [
    "In this part, we will demonstrate animating and drawing in `PyGame`, which is very useful for our applications in [part B](#PartB)."
   ]
  },
  {
   "cell_type": "markdown",
   "metadata": {},
   "source": [
    "<a id='S1'></a>\n",
    "### Section I: Animating Ball Motion \n"
   ]
  },
  {
   "cell_type": "markdown",
   "metadata": {},
   "source": [
    "In this section, we will include some brief code to outline the main functionality of PyGame.\n",
    "For this, recall that we are given a pygame animation function bouncing_ball, and we will further develop it such that:\n",
    "\n",
    "1.\tThe user should be able to change the original position of the ball and should be able to change the speed of the ball.\n",
    "2.\tThe ball should slow down under the effect of gravity.\n",
    "3.\tTwo or more balls bounce within the same square (and of one another).\n"
   ]
  },
  {
   "cell_type": "markdown",
   "metadata": {},
   "source": [
    "To do this, we can utilize the power of classes in Python. We can observe that intuitively, a moving ball should have a size, its current position and its current velocity, and we can make the following definition:\n"
   ]
  },
  {
   "cell_type": "code",
   "execution_count": 2,
   "metadata": {},
   "outputs": [],
   "source": [
    "class Ball(object):\n",
    "    '''\n",
    "    The class Ball encapsulate all the information needed to \n",
    "    draw a ball on the PyGame module.\n",
    "    '''\n",
    "    def __init__(self, x, y, x_step, y_step, size=50):\n",
    "        '''\n",
    "        Initialization of the class Ball. \n",
    "        (x, y) - the coordinate relative to the screen, \n",
    "        both of them are float from 0 to 1.\n",
    "        (x_step, y_step) - the velocity of the ball (pixel per frame).\n",
    "        size - optional argument, size of the ball.\n",
    "        '''\n",
    "        self.x = x\n",
    "        self.y = y\n",
    "        self.x_step = x_step\n",
    "        self.y_step = y_step\n",
    "        self.size = size"
   ]
  },
  {
   "cell_type": "markdown",
   "metadata": {},
   "source": [
    "Note that we set the attribute `size` as optional, as this would simplify the initialization of the object a bit.\n",
    "\n",
    "Now we are ready to adapt the code such that gravity is implemented for *one bouncing ball*. Note that in `Pygame`, a coordinate grid is implemented. And the $y$-axis $y=0$ is at the top of the screen, that’s why when gravity is negative, the ball slows down at the top."
   ]
  },
  {
   "cell_type": "code",
   "execution_count": 3,
   "metadata": {},
   "outputs": [],
   "source": [
    "def bouncing_ball_ext(ball, speed_factor=5,gravity=9.81):\n",
    "    '''\n",
    "    Play a bouncing ball animation according to the inputs:\n",
    "    Inputs:\n",
    "    ball - an object from the class Ball\n",
    "    speed_factor - the frames per second of animation\n",
    "    gravity - the drag factor affecting the motion of the ball (positive is upwards)\n",
    "    (N.B., gravity = 0 corresponds to no gravity, obviously)\n",
    "    Output: None\n",
    "    '''\n",
    "    # Required variables, x0, y0 is the starting coordinate of the ball\n",
    "    screen_size = (screen_width, screen_height) = (1080, 800)\n",
    "    white = (255,255,255)\n",
    "    x0, y0 = (screen_width - ball.size)*ball.x, (screen_height - ball.size)*ball.y\n",
    "    g = -gravity\n",
    "    # Used for the pause time in the animation while loop below\n",
    "    frames_per_second = 10 + 10*speed_factor\n",
    "    clock = pygame.time.Clock()\n",
    "    # Set up the animation     \n",
    "    pygame.init()\n",
    "    screen = pygame.display.set_mode(screen_size)\n",
    "    # Titles and Instructions\n",
    "    caption = f'Bouncing Ball with Two Balls with gravity factor {-gravity}'\n",
    "    caption += '                              '\n",
    "    caption += '(Keystroke:  \\'Space\\' to start or pause, \\'ArrowUp/ArrowDown\\' to speed up/down)'\n",
    "    pygame.display.set_caption(caption)\n",
    "    # Load the image\n",
    "    ball_fig = pygame.image.load(\"intro_ball.gif\")\n",
    "    ball_fig = pygame.transform.scale(ball_fig, (ball.size, ball.size))\n",
    "    # Assign an pygame.Rect object to the ball\n",
    "    ball_rect = pygame.Rect(x0,y0,ball.size,ball.size)\n",
    "    # Initalize the Screen\n",
    "    screen.fill(white)\n",
    "    screen.blit(ball_fig, ball_rect)\n",
    "    pygame.display.flip()\n",
    "    # Variable to detect change\n",
    "    keep_running = True\n",
    "    move_ball = False\n",
    "    # Animation loop \n",
    "    while keep_running:\n",
    "        # If a keyboard event happens register it... \n",
    "        for event in pygame.event.get():\n",
    "            if event.type == pygame.QUIT:\n",
    "                keep_running = False\n",
    "            # Start/Stop Animation\n",
    "            elif event.type == pygame.KEYDOWN and event.key == pygame.K_SPACE:\n",
    "                move_ball = not move_ball\n",
    "            # Speed change if ArrowUp/ArrowDown is pressed\n",
    "            elif event.type == pygame.KEYDOWN and event.key == pygame.K_UP:\n",
    "                frames_per_second = (4/3)* frames_per_second\n",
    "            elif event.type == pygame.KEYDOWN and event.key == pygame.K_DOWN:\n",
    "                frames_per_second = 0.75 * frames_per_second\n",
    "        if move_ball:\n",
    "            # Move the ball a step under gravity\n",
    "            ball.y_step += g/(frames_per_second)\n",
    "            ball_rect.x += ball.x_step\n",
    "            ball_rect.y += ball.y_step\n",
    "            if ball_rect.left < 0 or ball_rect.right > screen_width:\n",
    "                ball.x_step = - ball.x_step\n",
    "            if ball_rect.top < 0 or ball_rect.bottom > screen_height:\n",
    "                ball.y_step = - ball.y_step\n",
    "        # Redraw and update the screen\n",
    "        screen.fill(white)\n",
    "        screen.blit(ball_fig, ball_rect)\n",
    "        pygame.display.flip()\n",
    "        clock.tick(frames_per_second)\n",
    "    pygame.quit()\n",
    "    return None "
   ]
  },
  {
   "cell_type": "markdown",
   "metadata": {},
   "source": [
    "We can test our function using one instance of our class `Ball`."
   ]
  },
  {
   "cell_type": "code",
   "execution_count": 4,
   "metadata": {},
   "outputs": [
    {
     "name": "stdout",
     "output_type": "stream",
     "text": [
      "The forward horizontal step size is  x_step = 1.2\n",
      "The forward vertical step size is    y_step = 3\n"
     ]
    }
   ],
   "source": [
    "# A ball positioned at the middle, with velocity (1.2, 3).\n",
    "ballA = Ball(0.5, 0.5, 1.2, 3)\n",
    "bouncing_ball_ext(ballA)"
   ]
  },
  {
   "cell_type": "markdown",
   "metadata": {},
   "source": [
    "Next, we can implement collision between two balls. \n",
    "\n",
    "We assume every collision is *elastic*, that is,  we only have to exchange the velocity between the two balls when a collision is detected."
   ]
  },
  {
   "cell_type": "code",
   "execution_count": null,
   "metadata": {},
   "outputs": [],
   "source": []
  },
  {
   "cell_type": "code",
   "execution_count": null,
   "metadata": {},
   "outputs": [],
   "source": []
  },
  {
   "cell_type": "markdown",
   "metadata": {},
   "source": [
    "<a id='S2'></a>\n",
    "### Section II: Sierpenski Triangle \n"
   ]
  },
  {
   "cell_type": "markdown",
   "metadata": {},
   "source": [
    "<a id='S3'></a>\n",
    "### Section III: Fractals and Trees "
   ]
  },
  {
   "cell_type": "markdown",
   "metadata": {},
   "source": [
    "<a id='PartB'></a>\n",
    "## Part B: Applications of `PyGame` "
   ]
  },
  {
   "cell_type": "markdown",
   "metadata": {},
   "source": [
    "<a id='S4'></a>\n",
    "### Section I: Julia and Mandelbrot Sets "
   ]
  },
  {
   "cell_type": "markdown",
   "metadata": {},
   "source": [
    "<a id='S5'></a>\n",
    "### Section II: Tower of Hanoi "
   ]
  },
  {
   "cell_type": "markdown",
   "metadata": {},
   "source": []
  },
  {
   "cell_type": "markdown",
   "metadata": {},
   "source": []
  },
  {
   "cell_type": "markdown",
   "metadata": {},
   "source": [
    "\n"
   ]
  },
  {
   "cell_type": "markdown",
   "metadata": {},
   "source": [
    "<a id='Conc'></a>\n",
    "## Conclusion "
   ]
  },
  {
   "cell_type": "code",
   "execution_count": null,
   "metadata": {},
   "outputs": [],
   "source": []
  },
  {
   "cell_type": "markdown",
   "metadata": {},
   "source": [
    "<a id='Bib'></a>\n",
    "## References and Bibilography"
   ]
  },
  {
   "cell_type": "markdown",
   "metadata": {},
   "source": [
    "<a id='PyGame_Intro'>(Shinners, 2021)</a> Shinners, P. (2021). *Pygame Intro — Pygame v2.1.1 Documentation.* [online] Pygame.org. Available at: http://www.pygame.org/docs/tut/PygameIntro.html [Accessed 5 May 2022]."
   ]
  }
 ],
 "metadata": {
  "interpreter": {
   "hash": "f08154012ddadd8e950e6e9e035c7a7b32c136e7647e9b7c77e02eb723a8bedb"
  },
  "kernelspec": {
   "display_name": "Python 3.9.7 ('base')",
   "language": "python",
   "name": "python3"
  },
  "language_info": {
   "codemirror_mode": {
    "name": "ipython",
    "version": 3
   },
   "file_extension": ".py",
   "mimetype": "text/x-python",
   "name": "python",
   "nbconvert_exporter": "python",
   "pygments_lexer": "ipython3",
   "version": "3.9.7"
  }
 },
 "nbformat": 4,
 "nbformat_minor": 2
}
