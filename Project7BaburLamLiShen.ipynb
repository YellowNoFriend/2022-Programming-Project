{
 "cells": [
  {
   "cell_type": "markdown",
   "metadata": {},
   "source": [
    "# MATH20014 Mathematical Programming: Group 3 Project Submission \n",
    "\n",
    "Group Members: Hamad Babur, Ryan Lam, Jiawei Li, Sherry Shen \n"
   ]
  },
  {
   "cell_type": "markdown",
   "metadata": {},
   "source": [
    "## Table of Contents\n",
    "\n",
    "- [Introduction](#Intro)\n",
    "- Chapter 1: [Introduction to `PyGame`](#PartA)\n",
    "    - Section 1.1: [Animating Ball Motion](#S1)\n",
    "    - Section 1.2: [Sierpenski Triangle](#S2)\n",
    "    - Section 1.3: [Fractals and Trees](#S3)\n",
    "- Chapter 2: [Applications of `Pygame`](#PartB)\n",
    "    - Section 2.1: [Julia and Mandelbrot Sets](#S4)\n",
    "        - Part 2.1.1: [Animation of Julia Sets](#S4.1)\n",
    "        - Part 2.1.2: [Animation of Mandelbrot Sets](#S4.2)\n",
    "    - Section 2.2: [Tower of Hanoi](#S5)\n",
    "        - Part 2.2.1 [Definitions and Objectives](#S5.1)\n",
    "        - Part 2.2.2 [Producing a Solution](#S5.2)\n",
    "        - Part 2.2.3 [Identifying Valid Moves](#S5.3)\n",
    "        - Part 2.2.4 [Animation of the Puzzles](#S5.4)\n",
    "        - Part 2.2.5 [Extensions](#S5.5)\n",
    "- [Conclusion](#Conc)\n",
    "- [References and Bibilography](#Bib)"
   ]
  },
  {
   "cell_type": "markdown",
   "metadata": {},
   "source": [
    "## Introduction <a name='Intro'></a>\n"
   ]
  },
  {
   "cell_type": "markdown",
   "metadata": {},
   "source": [
    "Recursion is one of the most powerful tools in programming. It is not only a rather intuitive mathematical concept, but it is also easy to implement in any programming language. In this Python project, we shall both visually and mathematically appreciate the power of recursion.  \n",
    "\n",
    "We shall focus on a set of modules collectively known as `PyGame` (see [(Shinners, 2021)](#PyGame_Intro)), as they provide a concise way for us to produce interactive animations within Python. The language of recursion naturally leads to the study of *fractals*, _id est_ self-repeating patterns and geometric objects. As we shall see later, a lot of patterns in nature are also closely related to fractals. "
   ]
  },
  {
   "cell_type": "markdown",
   "metadata": {},
   "source": [
    "The first chapter of the project consists of three short parts, aiming to understand the power of the `PyGame` module. Firstly, in section 1.1, we shall introduce and develop a simple PyGame animation function bouncing_ball, in which one or more balls bounce in a square box in two dimensions with various constraints. In section 1.2, we shall introduce fractals through the Sierpinski triangle and make an animation of how the Sierpinski triangles are produced. In section 1.3, we shall explore a particular construction and animation of a recursively defined “tree”. \n",
    "\n",
    "The second chapter of the project shall focus on some interesting applications when we shall integrate PyGame with different programming techniques. In section 2.1, we shall look at Julia sequences and we shall animate the Julia set as a transition from one picture to another. In addition to this, we shall look at Mandelbrot sequences, and then we shall create a program that zooms in and out of the Mandelbrot set. Finally, in section 2.2, we shall explore a classical puzzle - the Towers of Hanoi. We shall briefly look at the solution, the animation, and other space and time complexity issues."
   ]
  },
  {
   "cell_type": "code",
   "execution_count": 1,
   "metadata": {},
   "outputs": [
    {
     "name": "stdout",
     "output_type": "stream",
     "text": [
      "pygame 2.0.1 (SDL 2.0.14, Python 3.8.8)\n",
      "Hello from the pygame community. https://www.pygame.org/contribute.html\n"
     ]
    }
   ],
   "source": [
    "# Required Imports:\n",
    "import pygame, os, timeit\n",
    "import matplotlib.pyplot as plt\n",
    "import numpy as np\n",
    "# Required Files: intro_ball.gif, intro_ball1.gif, intro_ball2.gif, segoeui.ttf"
   ]
  },
  {
   "cell_type": "markdown",
   "metadata": {},
   "source": [
    "<a id='PartA'></a>\n",
    "## Chapter 1: Introduction to `PyGame`\n"
   ]
  },
  {
   "cell_type": "markdown",
   "metadata": {},
   "source": [
    "In this part, we shall demonstrate animating and drawing in PyGame, which is very useful for our applications in [Chapter 2](#PartB)."
   ]
  },
  {
   "cell_type": "markdown",
   "metadata": {},
   "source": [
    "<a id='S1'></a>\n",
    "### Section 1.1: Animating Ball Motion \n"
   ]
  },
  {
   "cell_type": "markdown",
   "metadata": {},
   "source": [
    "In this section, we shall include some brief code to outline the main functionality of `PyGame`. For this, we shall recall that we are given a function `bouncing_ball` which allow users to play/pause an animation of a ball bouncing on a screen. We shall further develop it such that:\n",
    "\n",
    "1.\tThe user should be able to change the original position of the ball and should be able to change the speed of the ball.\n",
    "\n",
    "2.\tThe ball should slow down under the effect of gravity.\n",
    "\n",
    "3.\tTwo or more balls bounce within the same square (and of one another).\n",
    "\n",
    "We shall call the developed function `bouncing_ball_ext`."
   ]
  },
  {
   "cell_type": "markdown",
   "metadata": {},
   "source": [
    "To do this, we can utilize the power of classes in Python. We can observe that intuitively, a moving ball should have a size, its current position and its current velocity, and we shall introduce ourselves to the following definition:\n"
   ]
  },
  {
   "cell_type": "code",
   "execution_count": 2,
   "metadata": {},
   "outputs": [],
   "source": [
    "class Ball(object):\n",
    "    '''\n",
    "    The class Ball encapsulate all the information needed to \n",
    "    draw a ball on the PyGame module.\n",
    "    '''\n",
    "    def __init__(self, x, y, x_step, y_step, size=50):\n",
    "        '''\n",
    "        Initialization of the class Ball. \n",
    "        (x, y) - the coordinate relative to the screen, \n",
    "        both of them are float from 0 to 1.\n",
    "        (x_step, y_step) - the velocity of the ball (pixel per frame).\n",
    "        size - optional argument, size of the ball.\n",
    "        '''\n",
    "        self.x = x\n",
    "        self.y = y\n",
    "        self.x_step = x_step\n",
    "        self.y_step = y_step\n",
    "        self.size = size"
   ]
  },
  {
   "cell_type": "markdown",
   "metadata": {},
   "source": [
    "Note that we have set the attribute `size` as optional, as this would simplify the initialization of the object a bit.\n",
    "\n",
    "\n",
    "<a id = \"anim-explain\"></a>\n",
    "Now we shall discuss as to how we can implement the animation in the `PyGame` module. This will be a generic design that will be applied to every animation we shall create in the later sections.\n"
   ]
  },
  {
   "cell_type": "markdown",
   "metadata": {},
   "source": [
    "> **Note:** In `pygame`:\n",
    "> \n",
    "> 1. A click of a mouse button or pressing of a keyboard button consists of the following two actions.\n",
    ">\n",
    ">   - Pressing down on a button, which is detected by `event.type == pygame.KEYDOWN` and\n",
    ">\n",
    ">   - Releasing a button, which we will not being using.\n",
    ">\n",
    "> Note that `PyGame` considers the above as two different events.\n",
    ">\n",
    "> 2. A co-ordinate grid is implemented. And the $y$-axis $y=0$ is at the top of the screen, that is why when gravity is negative, the ball slows down at the top.\n",
    "\n",
    "We only use the pressing action to describe a press of the keyboard in this particular function. This is because, for this function, the only time the keyboard is used is when a button/key is being pressed.\n",
    "\n",
    "\n",
    "\n"
   ]
  },
  {
   "cell_type": "markdown",
   "metadata": {},
   "source": [
    "Firstly, an animation program needs to load the files, which can be done by using commnads like `pygame.bilt`, or `pygame.image.load`. Then, we need to initialise `PyGame` with an appropriate screen size and set the time `clock`. Then, we need to load the first picture, and wait for the clocks ticks for a few milliseconds, and then load the next picture. This goes on until the last picture. \n",
    "\n",
    "From here we add in extra features like pausing and speeding up and down the animation. The steps below describe on what the program should do in detail.\n",
    "\n",
    "> 1. Configure screen size and colour as tuples, and store the clock time in a variable.\n",
    ">\n",
    "> 2. Initialise `PyGame`, and set the program window using the screen size tuple used earlier and the title.\n",
    ">\n",
    "> 3. Load the picture above a white background and strech it to the program window.\n",
    ">\n",
    "> 4. Use the current speed factor and the clock time to wait for a specified amount of time, and then load the next picture, replacing the current picture.\n",
    ">\n",
    "> 5. Repeat Step 4 until the last image loads, then go back to the first image and go back to Step 5."
   ]
  },
  {
   "cell_type": "markdown",
   "metadata": {},
   "source": [
    "In addition to this, the program needs to allow the user to stop the animation, speed up the animation and slow down the animation. In order to do this, we shall detect keyboard presses from the user:\n",
    "\n",
    "> - If the user initiates the exit sequence, stop running the program and quit the PyGame window.\n",
    ">\n",
    "> - If the user presses the `Space` button, load the current picture rather than loading the next picture in Step 5 to create a static image.\n",
    ">\n",
    "> - If the user presses the `Up Arrow` button, increase the speed factor to speed up Step 4 above and as a result, this speeds up the animation.\n",
    ">\n",
    "> - If the user presses the `Down Arrow` button, decrease the speed factor to slow down Step 4 above and as a result, this slows down the animation."
   ]
  },
  {
   "cell_type": "markdown",
   "metadata": {},
   "source": [
    "Now we present the implementation of `bouncing_ball_ext` in Python."
   ]
  },
  {
   "cell_type": "code",
   "execution_count": 3,
   "metadata": {},
   "outputs": [],
   "source": [
    "def bouncing_ball_ext(ball, speed_factor=5,gravity=9.81):\n",
    "    '''\n",
    "    Play a bouncing ball animation according to the inputs:\n",
    "    Inputs:\n",
    "    ball - an object from the class Ball\n",
    "    speed_factor - the frames per second of animation\n",
    "    gravity - the drag factor affecting the motion of the ball (positive is upwards)\n",
    "    (N.B., gravity = 0 corresponds to no gravity, obviously)\n",
    "    Output: None\n",
    "    '''\n",
    "    # Required variables, x0, y0 is the starting coordinate of the ball\n",
    "    screen_size = (screen_width, screen_height) = (1080, 800)\n",
    "    white = (255,255,255)\n",
    "    x0, y0 = (screen_width - ball.size)*ball.x, (screen_height - ball.size)*ball.y\n",
    "    g = -gravity\n",
    "    # Used for the pause time in the animation while loop below\n",
    "    frames_per_second = 10 + 10*speed_factor\n",
    "    clock = pygame.time.Clock()\n",
    "    # Set up the animation     \n",
    "    pygame.init()\n",
    "    screen = pygame.display.set_mode(screen_size)\n",
    "    # Titles and Instructions\n",
    "    caption = f'Bouncing Ball with Two Balls with gravity factor {-gravity},'\n",
    "    caption += '                   '\n",
    "    caption += '(Keystroke:  \\'Space\\' to start or pause, \\'ArrowUp/ArrowDown\\' to speed up/down)'\n",
    "    caption += '                   '\n",
    "    pygame.display.set_caption(f'{caption} speed = {frames_per_second}')\n",
    "    # Load the image\n",
    "    ball_fig = pygame.image.load(\"intro_ball.gif\")\n",
    "    ball_fig = pygame.transform.scale(ball_fig, (ball.size, ball.size))\n",
    "    # Assign an pygame.Rect object to the ball\n",
    "    ball_rect = pygame.Rect(x0,y0,ball.size,ball.size)\n",
    "    # Initalize the Screen\n",
    "    screen.fill(white)\n",
    "    screen.blit(ball_fig, ball_rect)\n",
    "    pygame.display.flip()\n",
    "    # Variable to detect change\n",
    "    keep_running = True\n",
    "    move_ball = False\n",
    "    # Animation loop \n",
    "    while keep_running:\n",
    "        # If a keyboard event happens register it... \n",
    "        for event in pygame.event.get():\n",
    "            if event.type == pygame.QUIT:\n",
    "                keep_running = False\n",
    "            # Start/Stop Animation\n",
    "            elif event.type == pygame.KEYDOWN and event.key == pygame.K_SPACE:\n",
    "                move_ball = not move_ball\n",
    "            # Speed change if ArrowUp/ArrowDown is pressed\n",
    "            elif event.type == pygame.KEYDOWN and event.key == pygame.K_UP:\n",
    "                frames_per_second = (4/3)* frames_per_second\n",
    "            elif event.type == pygame.KEYDOWN and event.key == pygame.K_DOWN:\n",
    "                frames_per_second = 0.75 * frames_per_second\n",
    "            # Re-initiate caption to display change\n",
    "            pygame.display.set_caption(f'{caption} speed = {frames_per_second}')\n",
    "        if move_ball:\n",
    "            # Move the ball a step under gravity\n",
    "            ball.y_step += g/(frames_per_second)\n",
    "            ball_rect.x += ball.x_step\n",
    "            ball_rect.y += ball.y_step\n",
    "            if ball_rect.left < 0 or ball_rect.right > screen_width:\n",
    "                ball.x_step = - ball.x_step\n",
    "            if ball_rect.top < 0 or ball_rect.bottom > screen_height:\n",
    "                ball.y_step = - ball.y_step\n",
    "        # Redraw and update the screen\n",
    "        screen.fill(white)\n",
    "        screen.blit(ball_fig, ball_rect)\n",
    "        pygame.display.flip()\n",
    "        clock.tick(frames_per_second)\n",
    "    pygame.quit()\n",
    "    return None "
   ]
  },
  {
   "cell_type": "markdown",
   "metadata": {},
   "source": [
    "We can test our function using one instance of our class `Ball`."
   ]
  },
  {
   "cell_type": "code",
   "execution_count": 4,
   "metadata": {},
   "outputs": [],
   "source": [
    "# A ball positioned at the middle, with velocity (1.2, 3).\n",
    "ballA = Ball(0.5, 0.5, 1.2, 3)\n",
    "bouncing_ball_ext(ballA)"
   ]
  },
  {
   "cell_type": "markdown",
   "metadata": {},
   "source": [
    "Next, we can implement collision between two balls. \n",
    "\n",
    "We assume every collision is *elastic*, that is,  we only have to exchange the velocity between the two balls when a collision is detected."
   ]
  },
  {
   "cell_type": "code",
   "execution_count": 5,
   "metadata": {},
   "outputs": [],
   "source": [
    "def bouncing_ball_two(ball1, ball2, speed_factor=5,gravity=9.81):\n",
    "    '''\n",
    "    Play an animation similar to bouncing_ball with two balls with elastic collision between the balls.\n",
    "    The input (and code, actually) are similar with an extra parameter ball2 in the Class Ball.\n",
    "    '''\n",
    "    # Required variables, x0, y0 is the starting coordinate of the ball\n",
    "    screen_size = (screen_width, screen_height) = (1080, 800)\n",
    "    white = (255,255,255)\n",
    "    x0, y0 = (screen_width - ball1.size)*ball1.x, (screen_height - ball1.size)*ball1.y\n",
    "    x1, y1 = (screen_width - ball1.size)*ball2.x, (screen_height - ball2.size)*ball2.y\n",
    "    g = -gravity\n",
    "    # Used for the pause time in the animation while loop below\n",
    "    frames_per_second = 10 + 10*speed_factor\n",
    "    clock = pygame.time.Clock()\n",
    "    # Set up the animation     \n",
    "    pygame.init()\n",
    "    screen = pygame.display.set_mode(screen_size)\n",
    "    # Titles and Instructions\n",
    "    caption = f'Bouncing Ball with Two Balls with gravity factor {-gravity}'\n",
    "    caption += '                              '\n",
    "    caption += '(Keystroke:  \\'Space\\' to start or pause)'\n",
    "    pygame.display.set_caption(f'{caption} speed = {frames_per_second}')\n",
    "    # Load the image and rescale\n",
    "    ball1_fig = pygame.image.load(\"intro_ball1.gif\")\n",
    "    ball1_fig = pygame.transform.scale(ball1_fig, (ball1.size, ball1.size))\n",
    "    ball1_rect = pygame.Rect(x0,y0,ball1.size,ball1.size)\n",
    "    ball2_fig = pygame.image.load(\"intro_ball2.gif\")\n",
    "    ball2_fig = pygame.transform.scale(ball2_fig, (ball2.size, ball2.size))\n",
    "    ball2_rect = pygame.Rect(x1,y1,ball2.size,ball2.size)\n",
    "    # Initalize the Screen\n",
    "    screen.fill(white)\n",
    "    screen.blit(ball1_fig, ball1_rect)\n",
    "    screen.blit(ball2_fig, ball2_rect)\n",
    "    pygame.display.flip()\n",
    "    # Variable to detect change\n",
    "    keep_running = True\n",
    "    move_ball = False\n",
    "    # Animation loop \n",
    "    while keep_running:\n",
    "        # Keyboard Event: Quit Button and Space to Start/Stop\n",
    "        for event in pygame.event.get():\n",
    "            if event.type == pygame.QUIT:\n",
    "                keep_running = False\n",
    "            elif event.type == pygame.KEYDOWN and event.key == pygame.K_SPACE:\n",
    "                move_ball = not move_ball\n",
    "            # Speed change if ArrowUp/ArrowDown is pressed\n",
    "            elif event.type == pygame.KEYDOWN and event.key == pygame.K_UP:\n",
    "                frames_per_second = (4/3)* frames_per_second\n",
    "            elif event.type == pygame.KEYDOWN and event.key == pygame.K_DOWN:\n",
    "                frames_per_second = 0.75 * frames_per_second\n",
    "            pygame.display.set_caption(f'{caption} speed = {frames_per_second}')\n",
    "        if move_ball:\n",
    "            ball1.y_step += g/(frames_per_second)\n",
    "            ball2.y_step += g/(frames_per_second)\n",
    "            # Move the ball a step and Screen Border Detection\n",
    "            ball1_rect.x += ball1.x_step\n",
    "            ball1_rect.y += ball1.y_step\n",
    "            if ball1_rect.left < 0 or ball1_rect.right > screen_width:\n",
    "                ball1.x_step = - ball1.x_step\n",
    "            if ball1_rect.top < 0 or ball1_rect.bottom > screen_height:\n",
    "                ball1.y_step = - ball1.y_step\n",
    "            ball2_rect.x += ball2.x_step\n",
    "            ball2_rect.y += ball2.y_step\n",
    "            if ball2_rect.left < 0 or ball2_rect.right > screen_width:\n",
    "                ball2.x_step = - ball2.x_step\n",
    "            if ball2_rect.top < 0 or ball2_rect.bottom > screen_height:\n",
    "                ball2.y_step = - ball2.y_step\n",
    "            # Collision Detection \n",
    "            collide = ball1_rect.colliderect(ball2_rect)\n",
    "            if collide:\n",
    "                # If they collide, the velocity of the two balls exchange\n",
    "                copy_ball1 = ball1\n",
    "                ball1 = Ball(ball2.x, ball2.y, ball2.x_step, ball2.y_step)\n",
    "                ball2 = Ball(copy_ball1.x, copy_ball1.y, copy_ball1.x_step , copy_ball1.y_step) \n",
    "        # Redraw and reinitiate              \n",
    "        screen.fill(white)\n",
    "        screen.blit(ball1_fig, ball1_rect)\n",
    "        screen.blit(ball2_fig, ball2_rect)\n",
    "        pygame.display.flip()\n",
    "        clock.tick(frames_per_second)\n",
    "    pygame.quit()\n",
    "    return None "
   ]
  },
  {
   "cell_type": "markdown",
   "metadata": {},
   "source": [
    "Now we can play around with different balls in the program."
   ]
  },
  {
   "cell_type": "code",
   "execution_count": 6,
   "metadata": {},
   "outputs": [],
   "source": [
    "# Testing Cell\n",
    "ballA = Ball(0.5, 0.5, 1.2, 3, 70)\n",
    "ballB = Ball(0.5, 0.2, 1, -5, 100)\n",
    "bouncing_ball_two(ballA, ballB, gravity =0, speed_factor =20)"
   ]
  },
  {
   "cell_type": "markdown",
   "metadata": {},
   "source": [
    "We can also invite users to input their own parameters, this is very useful for testing different functions and will be used throughout the document. \n",
    "\n",
    "But first, we need a systemized way to ensure the user's input make sense.\n"
   ]
  },
  {
   "cell_type": "code",
   "execution_count": 7,
   "metadata": {},
   "outputs": [],
   "source": [
    "def integer_input_validation(input_message, default_value, lower, upper):\n",
    "    '''\n",
    "    Prompt an integer input with input_message shown to user, \n",
    "    and require the input to be bounded between lower and upper.\n",
    "    If the requirements are satisfied, return the integer user inputs. \n",
    "    Otherwise, return default_value.\n",
    "    '''\n",
    "    test_input = input(f'Please enter {input_message}. \\\n",
    "                       This is an integer between {lower} and {upper} inclusive.')\n",
    "    try:\n",
    "        test_int = int(test_input)\n",
    "        if test_int <= upper and test_int >= lower:\n",
    "            print(f'{input_message} set as the value {test_int}')\n",
    "            return test_int\n",
    "        else:\n",
    "            print(f'Out of bounds: using the default value of {default_value}.')\n",
    "            return default_value\n",
    "    except:\n",
    "        print(f'Type Error: using the default value of {default_value}.')\n",
    "        return default_value\n",
    "def float_input_validation(input_message, default_value, lower, upper):\n",
    "    '''\n",
    "    Prompt an float input with input_message shown to user, \n",
    "    and require the input to be bounded between lower and upper.\n",
    "    If the requirements are satisfied, return the integer user inputs. \n",
    "    Otherwise, return default_value.\n",
    "    '''\n",
    "    test_input = input(f'Please enter {input_message}. \\\n",
    "                       This is a real number (float) between {lower} and {upper} inclusive.')\n",
    "    try:\n",
    "        # Try to Convert the message to a float\n",
    "        test_int = float(test_input)\n",
    "        if test_int <= upper and test_int >= lower:\n",
    "            print(f'{input_message} set as the value {test_int}')\n",
    "            return test_int\n",
    "        else:\n",
    "            print(f'Out of bounds: using the default value of {default_value}.')\n",
    "            return default_value\n",
    "    except:\n",
    "        print(f'Type Error: using the default value of {default_value}.')\n",
    "        return default_value"
   ]
  },
  {
   "cell_type": "markdown",
   "metadata": {},
   "source": [
    "Now we are ready to provide an interactive version of the code."
   ]
  },
  {
   "cell_type": "code",
   "execution_count": 8,
   "metadata": {},
   "outputs": [],
   "source": [
    "def run_bouncing_ball():\n",
    "    '''\n",
    "    Interactively let the user choose which version of the animation is to be used.\n",
    "    '''\n",
    "    # Setting defaults and limits\n",
    "    min_pos, max_pos = 0, 1\n",
    "    min_vel, max_vel = -20, 20\n",
    "    default_speed = 5\n",
    "    default_r1 = 5\n",
    "    default_theta1 = -2\n",
    "    default_r2 = -8\n",
    "    default_theta2 = 5\n",
    "    default_position1 = 0.5\n",
    "    default_position2 = 0.2\n",
    "    default_gravity = 9.81\n",
    "    # Get the parameters from the user. \n",
    "    x_pos = float_input_validation('initial x position', default_position1, min_pos, max_pos)\n",
    "    y_pos = float_input_validation('initial y position', default_position2, min_pos, max_pos)\n",
    "    x_step = float_input_validation('initial x velocity', default_r1, min_vel, max_vel)\n",
    "    y_step = float_input_validation('initial y velocity', default_theta1, min_vel, max_vel)\n",
    "    speed = float_input_validation('speed factor', default_speed, 0, 10)\n",
    "    gravity = float_input_validation(\"gravity (if you do not want gravity, enter 0)\", default_gravity,0, 20)\n",
    "    test_ball = Ball(x_pos, y_pos,x_step, y_step)\n",
    "    # Prompt the user whether an extra ball is needed\n",
    "    extra_ball = input(\"Do you want an extra ball? Enter 'y' if you need one, 'n' otherwise. \")\n",
    "    if extra_ball == 'y':\n",
    "        # Parameters of the extra ball, again from the user.\n",
    "        print('Please provide information about the extra ball...')\n",
    "        x_pos2 = float_input_validation('initial x position', default_position2, min_pos, max_pos)\n",
    "        y_pos2 = float_input_validation('initial y position', default_position1, min_pos, max_pos)\n",
    "        x_step2 = float_input_validation('initial x velocity', default_r2, min_vel, max_vel)\n",
    "        y_step2 = float_input_validation('initial y velocity', default_theta2, min_vel, max_vel)\n",
    "        test_ball2 = Ball(x_pos2, y_pos2,x_step2, y_step2)\n",
    "        bouncing_ball_two(test_ball, test_ball2, speed, gravity)\n",
    "    elif extra_ball == 'n':\n",
    "        print('Running with 1 ball!')\n",
    "        bouncing_ball_ext(test_ball,speed, gravity)\n",
    "    else:\n",
    "        print('Invalid input! Running with 1 ball!')\n",
    "        bouncing_ball_ext(test_ball,speed, gravity)\n",
    "    return None"
   ]
  },
  {
   "cell_type": "code",
   "execution_count": 9,
   "metadata": {},
   "outputs": [
    {
     "name": "stdout",
     "output_type": "stream",
     "text": [
      "Type Error: using the default value of 0.5.\n",
      "Type Error: using the default value of 0.2.\n",
      "Type Error: using the default value of 5.\n",
      "Type Error: using the default value of -2.\n",
      "Type Error: using the default value of 5.\n",
      "Type Error: using the default value of 9.81.\n",
      "Invalid input! Running with 1 ball!\n"
     ]
    }
   ],
   "source": [
    "# Test Cell for interactive input\n",
    "run_bouncing_ball()"
   ]
  },
  {
   "cell_type": "markdown",
   "metadata": {},
   "source": [
    "\n",
    "### Section 1.2: Sierpenski Triangle \n",
    "<a id='S2'></a>"
   ]
  },
  {
   "cell_type": "markdown",
   "metadata": {},
   "source": [
    "Animating fractal constructions gives us a direct insight into how the function generating the fractal operates recursively. A typical example is the *Sierpinski Triangle*. It is a self-similar fractal, for which can be created by starting with one large, equilateral triangle, and then repeatedly cutting smaller triangles out of its centre. Interested readers are referred to [(Falconer, 1990)](#Falconer1990) for details. "
   ]
  },
  {
   "cell_type": "markdown",
   "metadata": {},
   "source": [
    "We are given a simple `PyGame` animation `draw_sierpinski`. Note that this function depends on `make_sierpinski`, which calls on itself using `depth-1` recursively. Similar constructs shall appear in our [next section](#S3) while drawing a recursive tree as well."
   ]
  },
  {
   "cell_type": "code",
   "execution_count": 10,
   "metadata": {},
   "outputs": [],
   "source": [
    "def make_sierpinski(depth, triangle, triangle_list):\n",
    "    '''\n",
    "    Function inputs: \n",
    "    - depth (of recursion), \n",
    "    - triangle (vertex coordinates)\n",
    "    - triangle_list (list of triange coordinates)\n",
    "    Modifies triangle_list: all the depth 1 (bottom) triangles are added \n",
    "    to this list (using recursion relative to the input triangle)\n",
    "    '''\n",
    "    (x0,y0) = triangle[0]\n",
    "    (x1,y1) = triangle[1]\n",
    "    (x2,y2) = triangle[2]\n",
    "    # Maximum depth reached (going down) so add this triangle to the list\n",
    "    if depth == 1:\n",
    "        triangle_list.append(triangle)\n",
    "        return None \n",
    "    # Otherwise split triangle into three sub triangles\n",
    "    midpoint_A = (x0 + (x1-x0)/2.0, y0)\n",
    "    midpoint_B = (x0 + (x2-x0)/2.0, y2 + (y0-y2)/2.0)\n",
    "    midpoint_C = (x2 + (x1-x2)/2.0, y2 + (y1-y2)/2.0)\n",
    "    # Recursive call on triangles\n",
    "    new_triangle = ((x0,y0), midpoint_A, midpoint_B)\n",
    "    make_sierpinski(depth-1, new_triangle, triangle_list)\n",
    "    new_triangle = (midpoint_A, (x1,y1), midpoint_C)\n",
    "    make_sierpinski(depth-1,new_triangle,triangle_list)\n",
    "    new_triangle = (midpoint_B, midpoint_C, (x2,y2))\n",
    "    make_sierpinski(depth-1, new_triangle, triangle_list)    \n",
    "    return None"
   ]
  },
  {
   "cell_type": "markdown",
   "metadata": {},
   "source": [
    "We shall improve and develop on this basis to meet the following three conditions:\n",
    "\n",
    "1.\tThe user can be able to choose the depth of the triangle and stop and start the animation.\n",
    "\n",
    "2.\tThe user is also able to change the speed of the animation.\n",
    "\n",
    "3.\tAdding colours (in RGB value) to the triangles and the background.\n",
    "\n",
    "We shall call our developed function `draw_sierpinski_ext`. "
   ]
  },
  {
   "cell_type": "code",
   "execution_count": 11,
   "metadata": {},
   "outputs": [],
   "source": [
    "def draw_sierpinski_ext(depth=6, speed = 50,colour=(0, 0, 255),backgroundColour = (255,255,255)):\n",
    "    '''\n",
    "    Function that draws the Sierpinski triangle as an animation. \n",
    "    Inputs: \n",
    "    depth - Depth of the Triangle as specified in make_sierpinski\n",
    "    speed - frame per second in the animation, can be adjusted using up and down arrows\n",
    "    colour - Color of the triangle: An 3-integer tuple storing the RGB Values\n",
    "    backgroundColour - Color of the background: An 3-integer tuple storing the RGB Values\n",
    "    Outputs: None\n",
    "    '''\n",
    "    dimensions = (screen_width,screen_height) = (900, 862)\n",
    "    master_triangle = ((50,800),(850,800),(450,62))\n",
    "    clock = pygame.time.Clock()\n",
    "    frames_per_second = speed\n",
    "    # Make a list of all the triangle vertex coordinates of the given \n",
    "    # depth (in make_sierpinski we process  depth to work down to 1)\n",
    "    triangle_list = []\n",
    "    make_sierpinski(depth,master_triangle,triangle_list)\n",
    "    # Initialise pygame, the screen display and title\n",
    "    pygame.init()\n",
    "    screen = pygame.display.set_mode(dimensions)\n",
    "    caption = 'Sierpinski Triangle            '\n",
    "    caption += '(1)  \\'Space\\' to start or pause    '\n",
    "    caption += '(2)  \\'Up/Down\\' to change the speed'\n",
    "    pygame.display.set_caption(f'{caption} (3) speed = {speed}')\n",
    "    screen.fill(backgroundColour)\n",
    "    pygame.display.flip()\n",
    "    # Total number of triangles to be drawn \n",
    "    number_of_triangles = len(triangle_list)\n",
    "    index = 0\n",
    "    draw_triangle = False\n",
    "    keep_running = True\n",
    "    # Animation loop \n",
    "    while keep_running:\n",
    "        for event in pygame.event.get():\n",
    "            # Exit (at end of this iteration) using quit (e.g Ctrl-q or red button)\n",
    "            if event.type == pygame.QUIT:\n",
    "                keep_running = False\n",
    "            if speed < 1:\n",
    "                speed = 1\n",
    "            # Start and pause the animation with the space key \n",
    "            elif event.type == pygame.KEYDOWN and event.key == pygame.K_SPACE:\n",
    "                draw_triangle  = not draw_triangle\n",
    "            elif event.type == pygame.KEYDOWN and event.key == pygame.K_UP:\n",
    "                speed = (4/3)* speed\n",
    "            elif event.type == pygame.KEYDOWN and event.key == pygame.K_DOWN:\n",
    "                speed = 0.75 * speed\n",
    "            pygame.display.set_caption(f'{caption} (3) speed = {speed}')\n",
    "            frames_per_second = speed \n",
    "        # Keep draw next triangle with index 'index' if not told to pause and not complete\n",
    "        if draw_triangle and index  < number_of_triangles:\n",
    "            pygame.draw.polygon(screen,colour,triangle_list[index],0)\n",
    "            pygame.display.update()\n",
    "            clock.tick(frames_per_second)\n",
    "            # Index uptate: index walks through triangle_list indices\n",
    "            index += 1\n",
    "    pygame.quit()\n",
    "    return None"
   ]
  },
  {
   "cell_type": "code",
   "execution_count": 12,
   "metadata": {},
   "outputs": [],
   "source": [
    "# Test Cell:\n",
    "draw_sierpinski_ext()\n",
    "# With more parameters\n",
    "draw_sierpinski_ext(depth=8, speed = 60,colour=(255, 255, 255),backgroundColour = (171 ,31, 45))"
   ]
  },
  {
   "cell_type": "markdown",
   "metadata": {},
   "source": [
    "An interactive version for testing is given below:"
   ]
  },
  {
   "cell_type": "code",
   "execution_count": 13,
   "metadata": {},
   "outputs": [],
   "source": [
    "def run_sierpinski_ext(): \n",
    "    \"\"\"\n",
    "    Draw the sierpinski triangle using user-defined inputs. \n",
    "    \"\"\"\n",
    "    # Get required information from the user \n",
    "    depth = integer_input_validation('integer depth',6,1,10)\n",
    "    speed = integer_input_validation('triangles to generate per second',50,1, 60)\n",
    "    trig_R = integer_input_validation('R value for triangle Color',0,0,255)\n",
    "    trig_G = integer_input_validation('G value for triangle Color',255,0,255)\n",
    "    trig_B = integer_input_validation('B value for triangle Color',0,0,255)\n",
    "    bg_R = integer_input_validation('R value for triangle Color',255,0,255)\n",
    "    bg_G = integer_input_validation('G value for triangle Color',255,0,255)\n",
    "    bg_B = integer_input_validation('B value for triangle Color',255,0,255)\n",
    "    trig_color = (trig_R, trig_G, trig_B)\n",
    "    bg_color = (bg_R, bg_G, bg_B)\n",
    "    # Now run the animation with user-provided input\n",
    "    draw_sierpinski_ext(depth, speed, trig_color, bg_color) \n",
    "    return None\n"
   ]
  },
  {
   "cell_type": "code",
   "execution_count": 14,
   "metadata": {},
   "outputs": [
    {
     "name": "stdout",
     "output_type": "stream",
     "text": [
      "Type Error: using the default value of 6.\n",
      "Type Error: using the default value of 50.\n",
      "Type Error: using the default value of 0.\n",
      "Type Error: using the default value of 255.\n",
      "Type Error: using the default value of 0.\n",
      "Type Error: using the default value of 255.\n",
      "Type Error: using the default value of 255.\n",
      "Type Error: using the default value of 255.\n"
     ]
    }
   ],
   "source": [
    "# Test cell for interactive input\n",
    "run_sierpinski_ext()"
   ]
  },
  {
   "cell_type": "markdown",
   "metadata": {},
   "source": [
    "<a id='S3'></a>\n",
    "### Section 1.3: Fractals and Trees "
   ]
  },
  {
   "cell_type": "markdown",
   "metadata": {},
   "source": [
    "In this section, we shall visualize constructing a fractal tree as outlined in Chapter 16 of [(Mandelbrot, 1999)](#M1999). \n",
    "\n",
    "We shall first outline how we are going to construct a tree for any non-negative integer depth. \n",
    "\n",
    "We start with a straight line called a **trunk at depth 0**.  The trunk splits into three lines, which we call **branches**. The left branch and right branch make an angle $\\theta$ with the central branch, which is constructed by extending the trunk at depth 0. Then, all three branches can be considered as a **trunk of depth 1**, and each of them can split into three branches (i.e. trunk at depth 2) and so on. \n",
    "\n",
    "> **Definition**: the **tree of depth $n$ with angle $\\theta$** as the collection of line of trunk at depth $0, 1, 2 \\cdots n$ as outlined above. In particular, we will call the trunk at depth $n$ **leaves**.\n",
    "\n",
    "\n",
    "Note that as we employ a recursive definition of the tree, the tree should have $3^n$ trunks.\n"
   ]
  },
  {
   "cell_type": "markdown",
   "metadata": {},
   "source": [
    "Then, we shall use `PyGame` to create an animation of drawing the recursive tree. Meanwhile, four conditions need to be satisfied, and this is of the following:\n",
    "\n",
    "1.\tUsers should be able to change the depth of the tree. \n",
    "\n",
    "2.\tUsers should be able to start and stop the drawing of the tree. \n",
    "\n",
    "3.\tThe leaves should be coloured green and the trunk should be coloured brown.\n",
    "\n",
    "4.\tUsers should be able to change the speed of drawing the tree.\n"
   ]
  },
  {
   "cell_type": "code",
   "execution_count": 15,
   "metadata": {},
   "outputs": [],
   "source": [
    "def tree_anim(depth, fps = 10, angle = np.pi/6, scale_factor = 0.8, init_len = 150):\n",
    "    '''\n",
    "    Plays the animation of drawing a recursive tree as outlined above.\n",
    "    Inputs: \n",
    "    depth - The level of the tree as explained in the report.\n",
    "    fps - Numbers of lines shown per second.\n",
    "    angle - the angle theta mentioned in the definition.\n",
    "    scale_factor - the length ratio between two trunk that are 1 depth away.\n",
    "    init_let - the length of the trunk at depth 0.\n",
    "    '''\n",
    "    size = width, height = 1080, 800  \n",
    "    brown = (150, 75, 0)\n",
    "    green = (0, 255, 0)\n",
    "    white = (255, 255, 255)  \n",
    "    ans_list = []\n",
    "    frames_per_second = fps\n",
    "    clock = pygame.time.Clock()\n",
    "    def branch(length, curr_pos, direction, depth_counter=0):\n",
    "        '''\n",
    "        A subfunction in tree_anim which alters the ans_list when called.\n",
    "        Inputs:\n",
    "        length - length of the trunk\n",
    "        curr_pos - The starting point of the trunk (coordinate)\n",
    "        direction - current facing angle of the tree\n",
    "        depth_counter - current depth of the trunk being plotted\n",
    "        '''\n",
    "        if depth_counter > depth:\n",
    "            return None\n",
    "        else:\n",
    "            angle_x = length * np.cos(direction)\n",
    "            angle_y = length * np.sin(direction)\n",
    "            next_position = (curr_pos[0] + angle_x, curr_pos[1] + angle_y)\n",
    "            if depth_counter == depth:\n",
    "                ans_list.append((green, curr_pos, next_position))\n",
    "            else:\n",
    "                ans_list.append((brown, curr_pos, next_position))\n",
    "            new = length * scale_factor\n",
    "            branch(new, next_position, direction-angle, depth_counter+1)\n",
    "            branch(new, next_position, direction, depth_counter+1)\n",
    "            branch(new, next_position, direction+angle, depth_counter+1)\n",
    "    branch(init_len, (width//2, height), -np.pi/2)\n",
    "    # Animation Initializations\n",
    "    pygame.init()\n",
    "    win = pygame.display.set_mode(size)\n",
    "    pygame.display.set_caption(f\"Fractal Tree of depth {depth} - Current Speed: {frames_per_second}\")\n",
    "    win.fill(white)\n",
    "    # Key variables to keep track of\n",
    "    keep_running = True\n",
    "    move_ball = False\n",
    "    index = 0\n",
    "    # Animation loop \n",
    "    while keep_running:\n",
    "        # Keyboard events\n",
    "        for event in pygame.event.get():\n",
    "            if event.type == pygame.QUIT:\n",
    "                keep_running = False\n",
    "            elif event.type == pygame.KEYDOWN and event.key == pygame.K_SPACE:\n",
    "                move_ball = not move_ball\n",
    "            # Speed change if ArrowUp/ArrowDown is pressed\n",
    "            elif event.type == pygame.KEYDOWN and event.key == pygame.K_UP:\n",
    "                frames_per_second = (4/3)* frames_per_second\n",
    "            elif event.type == pygame.KEYDOWN and event.key == pygame.K_DOWN:\n",
    "                frames_per_second = 0.75 * frames_per_second\n",
    "            pygame.display.set_caption(f\"Fractal Tree of depth {depth} - Current Speed: {frames_per_second}\")\n",
    "        # Draw a line according to ans_list\n",
    "        if move_ball and index < len(ans_list):\n",
    "            col, pos, next_pos = ans_list[index]\n",
    "            pygame.draw.line(win, col, pos, next_pos)\n",
    "            index += 1\n",
    "        # Redraw step\n",
    "        pygame.display.flip()\n",
    "        clock.tick(frames_per_second)\n",
    "    pygame.quit()"
   ]
  },
  {
   "cell_type": "code",
   "execution_count": 16,
   "metadata": {},
   "outputs": [],
   "source": [
    "# TEST CELL\n",
    "tree_anim(5, fps=30)"
   ]
  },
  {
   "cell_type": "markdown",
   "metadata": {},
   "source": [
    "An interactive version can be found below:\n"
   ]
  },
  {
   "cell_type": "code",
   "execution_count": 17,
   "metadata": {},
   "outputs": [],
   "source": [
    "def run_tree(): \n",
    "    \"\"\"\n",
    "    Draw the recursive tree using user-defined inputs. \n",
    "    \"\"\"\n",
    "    # Get required information from the user \n",
    "    depth = integer_input_validation('integer depth',6,1,10)\n",
    "    speed = integer_input_validation('branches to generate per second',50,1, 60)\n",
    "    angle = float_input_validation('Angle between Branches',np.pi/6,0, np.pi)\n",
    "    scale_factor = float_input_validation('Scale Factor',0.8,0, 1)\n",
    "    init_len = integer_input_validation('Length of Branch at Depth 0',150,50, 200)\n",
    "    # Now run the animation with user-provided input\n",
    "    tree_anim(depth, speed, angle, scale_factor, init_len)\n",
    "    return None"
   ]
  },
  {
   "cell_type": "code",
   "execution_count": 18,
   "metadata": {},
   "outputs": [
    {
     "name": "stdout",
     "output_type": "stream",
     "text": [
      "Type Error: using the default value of 6.\n",
      "Type Error: using the default value of 50.\n",
      "Type Error: using the default value of 0.5235987755982988.\n",
      "Type Error: using the default value of 0.8.\n",
      "Type Error: using the default value of 150.\n"
     ]
    }
   ],
   "source": [
    "run_tree()"
   ]
  },
  {
   "cell_type": "markdown",
   "metadata": {},
   "source": [
    "<a id='PartB'></a>\n",
    "## Chapter 2: Applications of `PyGame` "
   ]
  },
  {
   "cell_type": "markdown",
   "metadata": {},
   "source": [
    "In this part, we shall focus on two major applications of `PyGame`, namely exploring complex function dynamics in section 4, and a famous recreational puzzle in section 5."
   ]
  },
  {
   "cell_type": "markdown",
   "metadata": {},
   "source": [
    "<a id='S4'></a>\n",
    "### Section 2.1: Julia and Mandelbrot Sets "
   ]
  },
  {
   "cell_type": "markdown",
   "metadata": {},
   "source": [
    "In light with the power of modern computers, dynamical systems become one of the most active research areas in mathematics. In particular, Mandelbrot in [(Mandelbrot, 1980)](#M1980) is interested in the dynamics of the complex function $f : \\mathbb{C} \\to \\mathbb{C},  z \\to \\lambda z (1-z)$. \n",
    "\n",
    "By dynamics, we are interested in the following question:\n",
    "\n",
    "> Given a value $c$, how do $f(c), f(f(c)), f(f(f(c))), ... f^n(c)$ behave? What is its value when $n$ tends to infinity?\n",
    "\n",
    "Note that $f$ above can be transformed into $w \\to w^2+D$ for some $D \\in \\mathbb{C}$ by doing a suitable translation $w \\to z-a$. Hence, we are motivated to the following definition:"
   ]
  },
  {
   "cell_type": "markdown",
   "metadata": {},
   "source": [
    "> **Definition:** Given $j_p \\in \\mathbb{C}$. The **filled in Julia set with parameter $\\mathit{j_p}$** is defined as the values of $c$ for which the following recurrence relation such that the sequence $(z_n)_{n \\geq 0}$ is *bounded*:\n",
    ">\n",
    "> $$ z_0 = c  \\quad \\text{and} \\quad z_n = z_{n-1}^2 + j_p, \\quad \\text{for } n = 1,2,3,\\dots $$\n",
    ">\n",
    "> We say that $(z_n)_{n \\geq 0}$ is the **Julia sequence with parameter $j_p$ induced by $c$**. From this, we can see that $(z_n)_{n \\geq 0}$ only relies on $c$ and the fixed parameter $j_p$.\n",
    ">\n",
    "> The boundary of the filled in Julia set is called a **Julia Set (with parameter $\\mathit{j_p}$)**."
   ]
  },
  {
   "cell_type": "markdown",
   "metadata": {},
   "source": [
    "> **Definition:** The **Mandelbrot set $M$** is defined as the values of $c$ for which the following recurrence relation is bounded for all $(z_n)_{n \\geq 0}$:\n",
    ">\n",
    "> $$ z_0 = 0  \\quad \\text{and} \\quad z_n = z_{n-1}^2 + c, \\quad \\text{for } n = 1,2,3,\\ldots$$\n",
    ">\n",
    "> We say that $(z_n)_{n \\geq 0}$ is the **Mandelbrot sequence induced by $c$**. From this, we can see that $(z_n)_{n \\geq 0}$ only relies on $c$."
   ]
  },
  {
   "cell_type": "markdown",
   "metadata": {},
   "source": [
    "We can immediately observe the similarity of the two definitions. In particular, we will take it as a fact without proof that, if $c \\in M$, then the Julia set with parameter $c$ will be connected. In particular, the most interesting Julia set is when we take the parameter at the  boundary of the Mandelbrot set."
   ]
  },
  {
   "cell_type": "markdown",
   "metadata": {},
   "source": [
    "Mandelbrot set become one of the most well known figure in mathematics due to the fractal nature of the set. We will develop a program that allow user to zoom in to the figure to explore the self-repeating pattern."
   ]
  },
  {
   "cell_type": "markdown",
   "metadata": {},
   "source": [
    "<a id='S4.1'></a> \n",
    "#### Part 2.1.1 Animation of Julia Sets\n"
   ]
  },
  {
   "cell_type": "markdown",
   "metadata": {},
   "source": [
    "Firstly, we shall look at Julia sets and animate images of Julia sets as transistioning slides."
   ]
  },
  {
   "cell_type": "markdown",
   "metadata": {},
   "source": [
    "We shall now create a function `julia` that calculates the largest term `n_max` for which each term $z_n$ of the corresponding Julia sequence with parameter $j_p$ induced by $c$ is bounded by $2$, otherwise the sequence $(z_n)_{n \\geq 0}$ diverges as $n$ tends to infinity. To avoid long processing times, we shall set a maximum number of terms `max_n` that is looped through in the function and if it is reached, the function returns the value of `max_n`."
   ]
  },
  {
   "cell_type": "code",
   "execution_count": 19,
   "metadata": {},
   "outputs": [],
   "source": [
    "def julia(j_p, c, max_n):\n",
    "    '''\n",
    "    Calculates the largest number n_max for which each \n",
    "    term z_n of the corresponding Julia sequence\n",
    "    with parameter j_p induced by c is bounded by 2. \n",
    "    \n",
    "    Inputs: j_p, c - as in the definition of the julia set.\n",
    "    max_n - Maximum Number of iterationns\n",
    "    '''\n",
    "    z = c\n",
    "    n_max = 0\n",
    "    # Iterate until term is not bounded by 2.\n",
    "    while abs(z) <= 2:\n",
    "        z = (z ** 2) + j_p\n",
    "        n_max += 1\n",
    "        # Break the loop early when the largest number n_max reaches \n",
    "        # the maximum number of iterations max_n.\n",
    "        if n_max == max_n:\n",
    "            break\n",
    "    return n_max"
   ]
  },
  {
   "cell_type": "markdown",
   "metadata": {},
   "source": [
    "We shall now create data for our Julia set. In order to do this, we need to create vectors `x_vector` and `y_vector` in order to create grid matrices `x_matrix` and `y_matrix` as input matricies. The vectors must be a number `c_intervals` of equally spaced intervals between the values `c_min` and `c_max`. \n",
    "\n"
   ]
  },
  {
   "cell_type": "markdown",
   "metadata": {},
   "source": [
    "We shall create the following function that takes a number `c_intervals` of equally spaced intervals between the values `c_min` and `c_max` and calculates `x_matrix` and `y_matrix`, and inputs the matrices into the `julia` function to create an output matrix `z_matrix`. In order to generate data needed for the set, we need `x_matrix`, `y_matrix` and `z_matrix`."
   ]
  },
  {
   "cell_type": "code",
   "execution_count": 20,
   "metadata": {},
   "outputs": [],
   "source": [
    "def julia_data(j_p, max_n, c_min, c_max, c_intervals):\n",
    "    '''\n",
    "    Calculates the matrices required for graphing the julia function.\n",
    "\n",
    "    Input:\n",
    "    j_p, max_n - as with the function julia\n",
    "    c_min, c_max, c_intervals - used to creative an array of c to consider \n",
    "    whether they belong in the Filled in Julia set\n",
    "    '''\n",
    "    # Calculate the vectors required for the two matrices required for input.\n",
    "    x_vector = np.linspace(c_min, c_max, c_intervals)\n",
    "    y_vector = np.linspace(c_min, c_max, c_intervals)\n",
    "    x_matrix, y_matrix = np.meshgrid(x_vector, y_vector)\n",
    "    # Create a zero output matrix with the same dimensions as the input matrices.\n",
    "    z_rows, z_cols = np.shape(x_matrix)\n",
    "    z_matrix = np.zeros((z_rows, z_cols), dtype = int)\n",
    "    # Calculate every element of the output matrix for every \n",
    "    # element in the input matrix using the julia function.\n",
    "    for i in range(c_intervals):\n",
    "        for j in range(c_intervals):\n",
    "            c = x_matrix[i, j] + y_matrix[i, j] * 1j\n",
    "            z_matrix[i, j] = julia(j_p, c, max_n)\n",
    "    return x_matrix, y_matrix, z_matrix"
   ]
  },
  {
   "cell_type": "code",
   "execution_count": null,
   "metadata": {},
   "outputs": [],
   "source": []
  },
  {
   "cell_type": "markdown",
   "metadata": {},
   "source": [
    "We shall create a folder, so that we can export the images into an appropriate directory entitled \"JULIA_GRAPHS\"."
   ]
  },
  {
   "cell_type": "code",
   "execution_count": 21,
   "metadata": {},
   "outputs": [
    {
     "data": {
      "text/plain": [
       "1"
      ]
     },
     "execution_count": 21,
     "metadata": {},
     "output_type": "execute_result"
    }
   ],
   "source": [
    "# Obtain the current working directory.\n",
    "currwd1 = str(os.getcwd())\n",
    "# Create a subdirectory within the current working directory using the system terminal.\n",
    "createdir1 = \"mkdir \\\"{}//JULIA_GRAPHS\\\"\".format(currwd1)\n",
    "os.system(createdir1)"
   ]
  },
  {
   "cell_type": "markdown",
   "metadata": {},
   "source": [
    "We shall now create a function that generates and exports the Julia set."
   ]
  },
  {
   "cell_type": "code",
   "execution_count": 22,
   "metadata": {},
   "outputs": [],
   "source": [
    "def julia_graphpic(j_p, max_n, c_min, c_max, c_intervals, \n",
    "plt_width, plt_height, filename):\n",
    "    '''\n",
    "    Exports a Julia graph as a picture with default resuloutions.\n",
    "    Inputs: \n",
    "    j_p, max_n, c_min, c_max, c_intervals - as with julia_data.\n",
    "    plt_width, plt_height - Default resolution of the figure (integers)\n",
    "    filename - a string used to be the filename of the exported png file\n",
    "    '''\n",
    "    # Calculate the two input matrices and one output matrix using the julia_data function.\n",
    "    x_matrix, y_matrix, z_matrix = julia_data(j_p, max_n, c_min, c_max, c_intervals)\n",
    "    # Produce a Julia graph from the given matrices without the axes.\n",
    "    plt.figure(figsize = (plt_width, plt_height))\n",
    "    plt.pcolor(x_matrix, y_matrix, z_matrix, cmap = 'plasma', vmin = 0, vmax = max_n, shading = \"auto\")\n",
    "    plt.axis(\"off\")\n",
    "    # Create a filepath directory string and export  \n",
    "    # the aforementioned Julia graph into the filepath directory.\n",
    "    currwd = os.getcwd()\n",
    "    filepath = str(currwd) + \"//JULIA_GRAPHS//{}.png\".format(filename)\n",
    "    plt.savefig(filepath, dpi = \"figure\", format = \"png\", bbox_inches = \"tight\", pad_inches = 0)\n",
    "    # To avoid too much memory being used up, close the active pyplot window.\n",
    "    plt.close()\n",
    "    return None"
   ]
  },
  {
   "cell_type": "markdown",
   "metadata": {},
   "source": [
    "Now, we shall create a function that exports `n_img` images from the Julia graph for $j_p = re^{ai}$, where $r$ is determined by the input of the function and $a$ is chosen at equally spaced intervals between $[0, 2\\pi]$."
   ]
  },
  {
   "cell_type": "code",
   "execution_count": 23,
   "metadata": {},
   "outputs": [],
   "source": [
    "def julia_export(r, max_n, c_min, c_max, c_intervals, \n",
    "plt_width, plt_height, n_img, verbose = False):\n",
    "    '''\n",
    "    Exports n_img number of images for \n",
    "    a Julia set with parameter j_p = re^{ai} where a is chosen\n",
    "    at n_img equally spaced intervals between [0, 2*pi]\n",
    "\n",
    "    Inputs: \n",
    "    r - The r in re^{ai}\n",
    "    max_n, c_min, c_max, c_intervals, plt_width, plt_height- as with julia_graphpic.\n",
    "    n_img - number of different a considered in re^{ai}.\n",
    "    '''\n",
    "    n_intervals = np.pi*2 / (n_img - 1)\n",
    "    for i in range(n_img):\n",
    "        # Calculate a in between the intervals and calculate j_p.\n",
    "        a = (i * n_intervals)\n",
    "        j_p = r * np.exp(a * 1j)\n",
    "        # Export an image of each Julia set.\n",
    "        filename = \"JuliaPic{}\".format(i + 1)\n",
    "        julia_graphpic(j_p, max_n, c_min, c_max, c_intervals, plt_width, plt_height, filename)\n",
    "        # If verbose is True, output the current progress line as an addendum.\n",
    "        if verbose:\n",
    "            print(\"Please wait while the images are being exported. {}% of all the images has now been exported.\".format(int((i + 1) / n_img * 100)), end = \"\\r\")\n",
    "    return None"
   ]
  },
  {
   "cell_type": "markdown",
   "metadata": {},
   "source": [
    "Now, we shall create a `PyGame` animation for displaying the Julia graphs. Note that the additional argument `runfile` is added for easier testing purpose, if it was set to `False`, then it will display the animation using the preset `.jpg` files in the directory."
   ]
  },
  {
   "cell_type": "code",
   "execution_count": 24,
   "metadata": {},
   "outputs": [],
   "source": [
    "def julia_animation(folder_name, r = 0.7885, max_n = 100, c_min = -2, c_max = 2, \n",
    "c_intervals = 200, plt_width = 14, plt_height = 12, n_img = 200,\n",
    " screen_w = 800, screen_h = 600, verbose = True, runfile = True):\n",
    "    '''\n",
    "    Creates a PyGame animation with\n",
    "    slides of images of the Julia graph with parameter j_p = re^{ai}, \n",
    "    where a is n_img - 1 equally spaced intervals between 0 and 2pi.\n",
    "    The animation has a resolution width of screen_w pixels and height of\n",
    "    screen_h pixels.\n",
    "    '''\n",
    "    if runfile:\n",
    "        try:\n",
    "            # If runfile is True, always export the figure to directory/JULIA_GRAPHS\n",
    "            folder_name = 'JULIA_GRAPHS'\n",
    "            julia_export(r, max_n, c_min, c_max, c_intervals, plt_width, plt_height, n_img, verbose)\n",
    "            if verbose:\n",
    "                print(\"\\nAll the images has now been exported. Starting Program...\")\n",
    "        except:\n",
    "            print(\"Error producing graphs!\")\n",
    "            return None\n",
    "    screen_size = (screen_w, screen_h)\n",
    "    white = (255, 255, 255)\n",
    "    speed_factor = 1\n",
    "    clock = pygame.time.Clock()\n",
    "    # Initialise PyGame.\n",
    "    pygame.init()\n",
    "    if verbose:\n",
    "        print(\"Program has now initialised!\")\n",
    "    # Set the screen size and the title of the program.\n",
    "    screen = pygame.display.set_mode(screen_size)\n",
    "    # Set the path of the Julia image and load the image to the correct size.\n",
    "    currwd = os.getcwd()\n",
    "    filename = str(currwd) + \"//\" + folder_name + \"//JuliaPic1.png\"\n",
    "    julia = pygame.image.load(filename)\n",
    "    julia = pygame.transform.scale(julia, screen_size)\n",
    "    # Create a rectangle for the image to be loaded in.\n",
    "    julia_rect = pygame.Rect(0, 0, screen_w, screen_h)\n",
    "    # Fill the background white and initialise the the image into the program.\n",
    "    screen.fill(white)\n",
    "    screen.blit(julia, julia_rect)\n",
    "    # Refresh the program display.\n",
    "    pygame.display.flip()\n",
    "    # Set initial values of variables for later.\n",
    "    Running = True\n",
    "    pause = True\n",
    "    i = 0\n",
    "    # Main Animation Loop\n",
    "    while Running:\n",
    "        # Events and User key press detection\n",
    "        for event in pygame.event.get():\n",
    "            if event.type == pygame.QUIT:\n",
    "                Running = False\n",
    "            elif event.type == pygame.KEYDOWN and event.key == pygame.K_SPACE:\n",
    "                pause = not pause\n",
    "            elif event.type == pygame.KEYDOWN and event.key == pygame.K_DOWN:\n",
    "                speed_factor = 0.75 * speed_factor\n",
    "            elif event.type == pygame.KEYDOWN and event.key == pygame.K_UP:\n",
    "                speed_factor = (4 / 3) * speed_factor\n",
    "            title = f\"Animation of Julia Sets of r = {r}\"\n",
    "            title += f\" Current Speed: {int(speed_factor)}\"\n",
    "            title += \"(Keystroke:  Space - Stop, Up/Down - Speed)\"\n",
    "            pygame.display.set_caption(title)\n",
    "        if not pause:\n",
    "            # Set the timimg between the transition of images.\n",
    "            fps = 10 * speed_factor\n",
    "            clock.tick(fps)\n",
    "            i += 1\n",
    "            if i == n_img:\n",
    "                i = 0\n",
    "            # Load the corresponding Julia Graphs\n",
    "            currwd = os.getcwd()\n",
    "            filename = str(currwd) + \"//\" + folder_name +\"//JuliaPic{}.png\".format(i + 1)\n",
    "            julia = pygame.image.load(filename)\n",
    "            # Resize the loaded Julia graph and update the display.\n",
    "            julia = pygame.transform.scale(julia, screen_size)\n",
    "            julia_rect = pygame.Rect(0, 0, screen_w, screen_h)\n",
    "            screen.fill(white)\n",
    "            screen.blit(julia, julia_rect)\n",
    "            pygame.display.flip()\n",
    "    pygame.quit()\n",
    "    return None"
   ]
  },
  {
   "cell_type": "markdown",
   "metadata": {},
   "source": [
    "We shall now use the default parameters of the `julia_animation` function, which will generate $200$ image files of the Julia sets with parameter $j_p = 0.7885e^{ai}$ where the numbers $a$ are chosen at equally spaced intervals in $[0, 2 \\pi]$, and display these image files in a film like animation with the program resolution being $800$ pixels by $600$ pixels."
   ]
  },
  {
   "cell_type": "code",
   "execution_count": 25,
   "metadata": {},
   "outputs": [
    {
     "name": "stdout",
     "output_type": "stream",
     "text": [
      "Program has now initialised!\n"
     ]
    }
   ],
   "source": [
    "# Original export-then-run command, takes about 5 minutes\n",
    "# julia_animation()\n",
    "# Using exported graphs\n",
    "julia_animation('JULIA_GRAPHS', r = 0.7885, n_img = 200, runfile= False)"
   ]
  },
  {
   "cell_type": "markdown",
   "metadata": {},
   "source": [
    "From experimenting with the parameter `r` in the `julia_animation` function, one can see that changing the value of $r$ in $j_p = re^{ai}$ changes the distance between multiple \"clusters\" in the image, and it is only when these \"clusters\" meet that a significant visual effect happens. Upon trial and error, another value of $r$ that creates striking effects is $0.66$, and from this, one can see that there are many values of $r$ that creates such visual effects."
   ]
  },
  {
   "cell_type": "code",
   "execution_count": 26,
   "metadata": {},
   "outputs": [
    {
     "name": "stdout",
     "output_type": "stream",
     "text": [
      "Program has now initialised!\n"
     ]
    }
   ],
   "source": [
    "# Original export-then-run command, takes about 30 minutes\n",
    "# julia_animation('JULIA_GRAPHS', r = 0.66, n_img=400,c_intervals = 400)\n",
    "# Using Exported graphs in JULIA_GRAPHS2\n",
    "julia_animation('JULIA_GRAPHS2', r = 0.66, n_img = 400,runfile= False)"
   ]
  },
  {
   "cell_type": "markdown",
   "metadata": {},
   "source": [
    "The end result can be found at `Julia_Sample.mp4`."
   ]
  },
  {
   "cell_type": "markdown",
   "metadata": {},
   "source": [
    "<a id='S4.2'></a> \n",
    "#### Part 2.1.2 Animation of Mandlebrot Sets"
   ]
  },
  {
   "cell_type": "markdown",
   "metadata": {},
   "source": [
    "Firstly, need to know as to what a Mandelbrot set is. The **Mandelbrot set** is defined as the values of $c$ for which the following recurrence relation is bounded for all $(z_n)_{n \\geq 0}$:\n",
    "\n",
    "$$\n",
    "z_0 = 0  \\quad \\text{and} \\quad z_n = z_{n-1}^2 + c, \\quad \\text{for } n = 1,2,3,\\ldots\n",
    "$$\n",
    "\n",
    "We say that $(z_n)_{n \\geq 0}$ is the Mandelbrot sequence induced by $c$. From this, we can see that $(z_n)_{n \\geq 0}$ only relies on $c$."
   ]
  },
  {
   "cell_type": "code",
   "execution_count": 27,
   "metadata": {},
   "outputs": [],
   "source": [
    "def mandelbrot(c, max_n):\n",
    "    '''\n",
    "    The mandelbrot function calculates the largest term n_max\n",
    "    for which each term z_n of the corresponding Mandelbrot \n",
    "    sequence induced by c is bounded by 2. \n",
    "    '''\n",
    "    z =  0 + 0j\n",
    "    n_max = 0\n",
    "    # Iterate until term is not bounded by 2.\n",
    "    while abs(z) <= 2:\n",
    "        # Derive the next term of the sequence from the current term.\n",
    "        z = (z ** 2) + c\n",
    "        n_max += 1\n",
    "        if n_max == max_n:\n",
    "            break\n",
    "    # Return the value of the largest number n_max.\n",
    "    return n_max"
   ]
  },
  {
   "cell_type": "markdown",
   "metadata": {},
   "source": [
    "We shall now create data for our Mandelbrot set. In order to do this, we need to create vectors `x_vector` and `y_vector` in order to create grid matrices `x_matrix` and `y_matrix` as input matricies. The `x_vector` must be a number `n_xpts` of equally spaced intervals between the values `x_min` and `x_max`, and the `y_vector` must be a number `n_ypts` of equally spaced intervals between the values `y_min` and `y_max`."
   ]
  },
  {
   "cell_type": "markdown",
   "metadata": {},
   "source": [
    "We shall create the following function that takes a number `n_xpts` of equally spaced intervals between the values `x_min` and `x_max`, and takes a number `n_ypts` of equally spaced intervals between the values `y_min` and `y_max` and calculates `x_matrix` and `y_matrix`, and inputs the matrices into the `mandelbrot` function to create an output matrix `z_matrix`. In order to generate data needed for the set, we need `x_matrix`, `y_matrix` and `z_matrix`."
   ]
  },
  {
   "cell_type": "code",
   "execution_count": 28,
   "metadata": {},
   "outputs": [],
   "source": [
    "def mandelbrot_data(max_n, x_min, x_max, n_xpts, y_min, y_max, n_ypts):\n",
    "    '''\n",
    "    The mandelbrot_data function calculates the matrices \n",
    "    required for graphing the mandelbrot function.\n",
    "    '''\n",
    "    # Calculate the vectors required for the two matrices required for input.\n",
    "    x_vector = np.linspace(x_min, x_max, n_xpts)\n",
    "    y_vector = np.linspace(y_min, y_max, n_ypts)\n",
    "    x_matrix, y_matrix = np.meshgrid(x_vector, y_vector)\n",
    "    # Create a zero output matrix with the same dimensions as the input matrices.\n",
    "    x_matrix_rows, x_matrix_cols = np.shape(x_matrix)\n",
    "    z_matrix = np.zeros((x_matrix_rows, x_matrix_cols), dtype = int)\n",
    "    # Calculate every element of the output matrix for every \n",
    "    # element in the input matrix using the mandelbrot function.\n",
    "    for i in range(x_matrix_rows):\n",
    "        for j in range(x_matrix_cols):\n",
    "            c = x_matrix[i, j] + y_matrix[i, j] * 1j\n",
    "            z_matrix[i, j] = mandelbrot(c, max_n)\n",
    "    return x_matrix, y_matrix, z_matrix"
   ]
  },
  {
   "cell_type": "markdown",
   "metadata": {},
   "source": [
    "We shall create a folder, so that we can export the images into an appropriate directory entitled \"MANDELBROT_GRAPHS\"."
   ]
  },
  {
   "cell_type": "code",
   "execution_count": 29,
   "metadata": {},
   "outputs": [
    {
     "data": {
      "text/plain": [
       "1"
      ]
     },
     "execution_count": 29,
     "metadata": {},
     "output_type": "execute_result"
    }
   ],
   "source": [
    "# Obtain the current working directory.\n",
    "currwd2 = str(os.getcwd())\n",
    "# Create a subdirectory within the current working directory using the system terminal.\n",
    "createdir2 = \"mkdir \\\"{}//MANDELBROT_GRAPHS\\\"\".format(currwd2)\n",
    "os.system(createdir2)"
   ]
  },
  {
   "cell_type": "markdown",
   "metadata": {},
   "source": [
    "We shall now create a function that generates and exports the Mandelbrot set."
   ]
  },
  {
   "cell_type": "code",
   "execution_count": 30,
   "metadata": {},
   "outputs": [],
   "source": [
    "def mandelbrot_graphpic(max_n, x_min, x_max, n_xpts, y_min, y_max, n_ypts, fig_w, fig_h, filename):\n",
    "    '''\n",
    "    The mandelbrot_graphpic function creates a Mandelbrot graph and exports\n",
    "    the Mandelbrot graph as a picture with default resuloutions.\n",
    "    \n",
    "    '''\n",
    "    # Calculate the two input matrices and one output matrix using the mandelbrot_data function.\n",
    "    x_matrix, y_matrix, z_matrix = mandelbrot_data(max_n, x_min, x_max, n_xpts, y_min, y_max, n_ypts)\n",
    "    # Produce a Mandelbrot graph from the given matrices without the axes.\n",
    "    plt.figure(figsize = (fig_w, fig_h))\n",
    "    plt.pcolor(x_matrix, y_matrix, z_matrix, cmap = 'plasma', vmin = 0, vmax = max_n, shading = \"auto\")\n",
    "    plt.axis(\"off\")\n",
    "    # Create a filepath directory string and export  \n",
    "    # the aforementioned Mandelbrot graph into the filepath directory.\n",
    "    currwd = os.getcwd()\n",
    "    filepath = str(currwd) + \"//MANDELBROT_GRAPHS//{}.png\".format(filename)\n",
    "    plt.savefig(filepath, dpi = \"figure\", format = \"png\", bbox_inches = \"tight\", pad_inches = 0)\n",
    "    plt.close()\n",
    "    return None"
   ]
  },
  {
   "cell_type": "markdown",
   "metadata": {},
   "source": [
    "Before we create a function that zooms in and out of a Mandelbrot set, we need to create a \"recipe\" for the function.\n",
    "\n",
    "We shall now define as to what \"clicking and dragging\" the mouse is in terms of the actions.\n",
    "\n",
    "> **Definition:** A **click and drag** of a mouse button consists of the following three actions in succession.\n",
    ">\n",
    "> 1. Pressing down on the left mouse button,\n",
    ">\n",
    "> 2. Moving the mouse, and\n",
    ">\n",
    "> 3. Releasing the left mouse button.\n",
    ">\n",
    "> All of these are stipulated by different events in PyGame.\n",
    "\n",
    "Hence, for our program, the \"recipe\" for a \"cropbox\" is of the following, we initiate new boolean variable `drag` and `rext`:\n",
    "\n",
    "> 1. If the user presses down the left mouse button, then set `drag` to be `True` and obtain position of the mouse (initial position).\n",
    ">\n",
    "> 2. If the user then moves the mouse around, and if `drag` is `True`, then set `rect` to be `True`.\n",
    "> \n",
    "> 3. If `rect` is `True`, then obtain current poisition of the mouse whenever the mouse moves around and display an outline box based on the initial position of the mouse and the current position of the mouse.\n",
    ">\n",
    "> 4. If the user releases the mouse button, then set `rect` and `drag` to be `False`.\n",
    "\n",
    "PyGame has no definitive function for a button, hence we shall need a \"recipe\" for the buttons in our program, and the \"recipe\" is of the following: Using a new boolean variable `button`,\n",
    "\n",
    "> 1. Create a filled box with a shade of green, and position the box with appropriate co-ordinates.\n",
    ">\n",
    "> 2. If the user presses down the left mouse button within the co-ordinates of the button, set a variable `button` to be `True`, and update the colour of the button to be a lighter green.\n",
    ">\n",
    "> 3. Once the processes initiated by the user or by the button has been completed and the `button` variable is set to `False`, the colour of the button will go back to the initial colour, that being green in this case.\n",
    "\n",
    "Using the principles above, we shall now create a program that zooms in and out of the animation, and we shall call the associated function `mandelbrot_program`. Due to the textboxes from within the program, we must set the minimum compatibility resolution width as $680$ pixels."
   ]
  },
  {
   "cell_type": "code",
   "execution_count": 31,
   "metadata": {},
   "outputs": [],
   "source": [
    "def mandelbrot_program(max_n = 100, x_min = -2, x_max = 1, n_xpts = 400, \n",
    "y_min = -1.5, y_max = 1.5, n_ypts = 400, \n",
    "fig_w = 14, fig_h = 12, screen_w = 800, screen_h = 600):\n",
    "    '''\n",
    "    The mandelbrot_program function creates a PyGame/SDL program that\n",
    "    displays a Mandelbrot graph, allowing the user to zoom in and out\n",
    "    the graph. The animation has a resolution width of screen_w pixels\n",
    "    and height of screen_h pixels.\n",
    "    '''\n",
    "    # Set the minimum width resolution for running the program.\n",
    "    appcompatresx = 680\n",
    "    if screen_w < appcompatresx:\n",
    "        print(\"The width resolution you have inputted into the function is too small. You need a width resolution of at least {} pixels.\".format(appcompatresx))\n",
    "        return None\n",
    "    # Try exporting the required images for the program.\n",
    "    try:\n",
    "        mandelbrot_graphpic(max_n, x_min, x_max, n_xpts, y_min, y_max, n_ypts, fig_w, fig_h, \"MandelbrotPic0\")\n",
    "    except:\n",
    "        print(\"Error producing graphs!\")\n",
    "        return None\n",
    "    # Store the input screen size and the size of the rescaled image as tuples.\n",
    "    screen_size = (screen_w, screen_h)\n",
    "    mandelbrot_size = (screen_w, screen_h - 50)\n",
    "    # Store colours as RGB tuples.\n",
    "    white = (255, 255, 255)\n",
    "    black = (0, 0, 0)\n",
    "    grey = (119, 119, 119)\n",
    "    green_notactive = (114, 179, 101)\n",
    "    green_active = (161, 251, 142)\n",
    "    red = (255, 0, 0)\n",
    "    orange = (240, 134, 80)\n",
    "    # Set graph axes limits as lists and add initial values.\n",
    "    x_min_list = []\n",
    "    x_max_list = []\n",
    "    y_min_list = []\n",
    "    y_max_list = []\n",
    "    x_min_list.append(x_min)\n",
    "    x_max_list.append(x_max)\n",
    "    y_min_list.append(y_min)\n",
    "    y_max_list.append(y_max)\n",
    "    # Initialise PyGame and its fonts.\n",
    "    pygame.init()\n",
    "    pygame.font.init()\n",
    "    # Set the screen size and the title of the program.\n",
    "    screen = pygame.display.set_mode(screen_size)\n",
    "    title = \"Animation of Mandelbrot Sets\"\n",
    "    title += \" \"\n",
    "    title += '(Keystroke:  \\'Drag and release\\' to zoom in if the functionality is enabled.)'\n",
    "    pygame.display.set_caption(title)\n",
    "    # Set the path of the Mandelbrot image and load the image to the correct size.\n",
    "    currwd = os.getcwd()\n",
    "    filename = str(currwd) + \"//MANDELBROT_GRAPHS//MandelbrotPic0.png\"\n",
    "    mandelbrot = pygame.image.load(filename)\n",
    "    mandelbrot = pygame.transform.scale(mandelbrot, mandelbrot_size)\n",
    "    # Create and position initial rectangles for Mandelbrot images, drag boxes, and zoom buttons.\n",
    "    mandelbrot_rect = pygame.Rect(0, 0, mandelbrot_size[0], mandelbrot_size[1])\n",
    "    cropbox = pygame.Rect(0, 0, 0, 0)\n",
    "    zoom_in_button_left = screen_size[0] / 2 - 115\n",
    "    zoom_out_button_left = screen_size[0] - 115\n",
    "    zoom_button_top = screen_size[1] - 45\n",
    "    zoom_button_width = 80\n",
    "    zoom_button_height = 40\n",
    "    zoom_in_button = pygame.Rect(zoom_in_button_left, zoom_button_top, zoom_button_width, zoom_button_height)\n",
    "    zoom_out_button = pygame.Rect(zoom_out_button_left, zoom_button_top, zoom_button_width, zoom_button_height)\n",
    "    # Create Text object and other text messages\n",
    "    text = pygame.font.SysFont(\"arial\", 14)\n",
    "    errortext = pygame.font.SysFont(\"arial\", 18)\n",
    "    text1 = text.render(\"Click the first button on the right\", True, black)\n",
    "    textbox1 = text1.get_rect()\n",
    "    textbox_centre_x = zoom_in_button_left / 2\n",
    "    textbox1_centre_y = screen_size[1] - 35\n",
    "    textbox1.center = (textbox_centre_x, textbox1_centre_y)\n",
    "    text2 = text.render(\"to enable the zoom in function.\", True, black)\n",
    "    textbox2 = text2.get_rect()\n",
    "    textbox2_centre_y = screen_size[1] - 15\n",
    "    textbox2.left = textbox1.left\n",
    "    textbox2.centery = textbox2_centre_y\n",
    "    text3 = text.render(\"to disable the zoom in function.\", True, black)\n",
    "    textbox3 = text3.get_rect()\n",
    "    textbox3.left = textbox1.left\n",
    "    textbox3.centery = textbox2_centre_y\n",
    "    text4 = text.render(\"Click the button on the right to\", True, black)\n",
    "    textbox4 = text4.get_rect()\n",
    "    textbox4.right = zoom_out_button_left - (zoom_in_button_left - textbox1.right)\n",
    "    textbox4.centery = textbox1_centre_y\n",
    "    text5 = text.render(\"zoom out to the previous image.\", True, black)\n",
    "    textbox5 = text5.get_rect()\n",
    "    textbox5.left = textbox4.left\n",
    "    textbox5.centery = textbox2_centre_y\n",
    "    text6 = text.render(\"Please wait while\", True, black)\n",
    "    textbox6 = text6.get_rect()\n",
    "    textbox6.center = textbox4.center\n",
    "    text7 = text.render(\"it is zooming out.\", True, black)\n",
    "    textbox7 = text7.get_rect()\n",
    "    textbox7.left = textbox6.left\n",
    "    textbox7.centery = textbox5.centery\n",
    "    # Set initial values of variables for later.    \n",
    "    running = True\n",
    "    drag = False\n",
    "    rect = False\n",
    "    zoomin_button = False\n",
    "    zoomin = False\n",
    "    zoomout_button = False\n",
    "    zoomout = False\n",
    "    i = 0\n",
    "    # If running is set to True, continue the program.\n",
    "    while running:\n",
    "        # Obtain the events from system logs.\n",
    "        for event in pygame.event.get():\n",
    "            if event.type == pygame.QUIT:\n",
    "                running = False\n",
    "            # If user down clicks the left mouse button, then look for position and check status of buttons.\n",
    "            elif event.type == pygame.MOUSEBUTTONDOWN:\n",
    "                if event.button == 1:\n",
    "                    if event.pos[1] <= mandelbrot_size[1] and zoomin_button:\n",
    "                        drag = True\n",
    "                        mouse_x1_pos = event.pos[0]\n",
    "                        mouse_y1_pos = event.pos[1]\n",
    "                    # If the position of the down click is within region of the\n",
    "                    # buttons, then set or change the activity statuses of the buttons.\n",
    "                    elif event.pos[0] >= zoom_in_button_left and event.pos[0] <= (zoom_in_button_left + zoom_button_width) and event.pos[1] >= zoom_button_top and event.pos[1] <= (zoom_button_top + zoom_button_height):\n",
    "                        zoomin_button = not zoomin_button\n",
    "                    elif event.pos[0] >= zoom_out_button_left and event.pos[0] <= (zoom_out_button_left + zoom_button_width) and event.pos[1] >= zoom_button_top and event.pos[1] <= (zoom_button_top + zoom_button_height):\n",
    "                        zoomout_button = True\n",
    "            # If user releases the left click button, then set variables where necessary.      \n",
    "            elif event.type == pygame.MOUSEBUTTONUP:\n",
    "                if event.button == 1:\n",
    "                    drag = False\n",
    "                    if zoomin_button and rect:\n",
    "                        zoomin = True\n",
    "                    elif zoomout_button:\n",
    "                        zoomout = True\n",
    "                    rect = False\n",
    "            # If the zoom in funtionality is enabled and dragging is enabled,\n",
    "            # and the mouse is moving, then obtain the position of the mouse \n",
    "            # and set Rect as True.\n",
    "            elif event.type == pygame.MOUSEMOTION and drag and zoomin_button:\n",
    "                (mouse_x2_pos, mouse_y2_pos) = pygame.mouse.get_pos()\n",
    "                rect = True\n",
    "        # Fill the background with white.\n",
    "        screen.fill(white)\n",
    "        # Depending on the activity status of the buttons, draw\n",
    "        # the appropriate textboxes and buttons onto the screen.\n",
    "        screen.blit(text1, textbox1)\n",
    "        if zoomin_button:\n",
    "            screen.blit(text3, textbox3)\n",
    "            pygame.draw.rect(screen, green_active, zoom_in_button)\n",
    "        else:\n",
    "            screen.blit(text2, textbox2)\n",
    "            pygame.draw.rect(screen, green_notactive, zoom_in_button)\n",
    "        if zoomout_button:\n",
    "            pygame.draw.rect(screen, green_active, zoom_out_button)\n",
    "        else:\n",
    "            screen.blit(text4, textbox4)\n",
    "            screen.blit(text5, textbox5)\n",
    "            pygame.draw.rect(screen, green_notactive, zoom_out_button)\n",
    "        # If rect is True, then calculate the appropriate position and \n",
    "        # size of the rectangle and draw the rectangle onto the screen.\n",
    "        if rect:\n",
    "            rect_width = abs(mouse_x2_pos - mouse_x1_pos)\n",
    "            if mouse_y2_pos <= mandelbrot_size[1]:\n",
    "                rect_height = abs(mouse_y2_pos - mouse_y1_pos)\n",
    "            rect_left = min(mouse_x1_pos, mouse_x2_pos)\n",
    "            rect_top = min(mouse_y1_pos, mouse_y2_pos)\n",
    "            cropbox = pygame.Rect(rect_left, rect_top, rect_width, rect_height)\n",
    "            screen.blit(mandelbrot, mandelbrot_rect)\n",
    "            pygame.draw.rect(screen, grey, cropbox, 2)\n",
    "            pygame.display.flip()\n",
    "        else:\n",
    "            # If zoomin is True, then start zooming in.\n",
    "            if zoomin:\n",
    "                # Display the appropriate message onto the screen.\n",
    "                textwait = errortext.render(\"Please wait while the image is zooming in...\", True, white, orange)\n",
    "                textboxwait = textwait.get_rect()\n",
    "                textboxwait_centre_x = mandelbrot_size[0] / 2\n",
    "                textboxwait_centre_y = mandelbrot_size[1] / 2\n",
    "                textboxwait.center = (textboxwait_centre_x, textboxwait_centre_y)\n",
    "                screen.blit(mandelbrot, mandelbrot_rect)\n",
    "                # Display the current rectangle onto the screen.\n",
    "                pygame.draw.rect(screen, grey, cropbox, 2)\n",
    "                screen.blit(textwait, textboxwait)\n",
    "                pygame.display.flip()\n",
    "                # Linearly interpolate the screen resolution of the rectangle against the axes of\n",
    "                # the corresponding Mandelbrot graph, and add the new axes limits to the list.\n",
    "                y_diff = y_max - y_min\n",
    "                x_diff = x_max - x_min\n",
    "                y_max_old = y_max\n",
    "                x_min_old = x_min\n",
    "                y_max = y_max_old - ((rect_top / mandelbrot_size[1]) * y_diff)\n",
    "                rect_bottom = rect_top + rect_height\n",
    "                y_min = y_max_old - ((rect_bottom / mandelbrot_size[1]) * y_diff)\n",
    "                x_min = x_min_old + ((rect_left / mandelbrot_size[0]) * x_diff)\n",
    "                rect_right = rect_left + rect_width\n",
    "                x_max = x_min_old + ((rect_right / mandelbrot_size[0]) * x_diff)\n",
    "                x_min_list.append(x_min)\n",
    "                x_max_list.append(x_max)\n",
    "                y_min_list.append(y_min)\n",
    "                y_max_list.append(y_max)\n",
    "                # Store the Mandelbrot graph with new axes limits\n",
    "                # into a new image file, and display the new image.\n",
    "                i += 1\n",
    "                mandelbrot_graphpic(max_n, x_min, x_max, n_xpts, y_min, y_max, n_ypts, fig_w, fig_h, \"MandelbrotPic{}\".format(i))\n",
    "                filename = str(currwd) + \"//MANDELBROT_GRAPHS//MandelbrotPic{}.png\".format(i)\n",
    "                mandelbrot = pygame.image.load(filename)\n",
    "                mandelbrot = pygame.transform.scale(mandelbrot, mandelbrot_size)\n",
    "                screen.blit(mandelbrot, mandelbrot_rect)\n",
    "                pygame.display.flip()\n",
    "                # Clear the system events log to avoid bugs.\n",
    "                pygame.event.clear()                \n",
    "                # Set zoomin to False.\n",
    "                zoomin = False\n",
    "            elif not zoomout:\n",
    "                # If zoomin and zoomout is False, then draw \n",
    "                # the current Mandlebrot graph onto the screen.\n",
    "                screen.blit(mandelbrot, mandelbrot_rect)\n",
    "                pygame.display.flip()\n",
    "            # If zoomout is True, then start zooming out where necessary.\n",
    "            if zoomout:\n",
    "                # Check image index.\n",
    "                if i <= 0:\n",
    "                    # Display an error message for one second when user has zoomed out to the maximum.\n",
    "                    texterror1 = errortext.render(\"ERROR: You have zoomed out to the original image!\", True, white, red)\n",
    "                    textboxerror1 = texterror1.get_rect()\n",
    "                    textboxerror1_centre_x = mandelbrot_size[0] / 2\n",
    "                    textboxerror1_centre_y = mandelbrot_size[1] / 2\n",
    "                    textboxerror1.center = (textboxerror1_centre_x, textboxerror1_centre_y)\n",
    "                    screen.blit(mandelbrot, mandelbrot_rect)\n",
    "                    screen.blit(texterror1, textboxerror1)\n",
    "                    pygame.display.flip()\n",
    "                    zoomout = False\n",
    "                    zoomout_button = False\n",
    "                    pygame.time.delay(1000)\n",
    "                    pygame.event.clear()\n",
    "                else:\n",
    "                    # Display the appropriate message onto the screen.\n",
    "                    i -= 1\n",
    "                    screen.blit(text6, textbox6)\n",
    "                    screen.blit(text7, textbox7)\n",
    "                    screen.blit(mandelbrot, mandelbrot_rect)\n",
    "                    pygame.display.flip()\n",
    "                    # Display the previous zoomed out image, and go back to the previous axes limits.\n",
    "                    filename = str(currwd) + \"//MANDELBROT_GRAPHS//MandelbrotPic{}.png\".format(i)\n",
    "                    mandelbrot = pygame.image.load(filename)\n",
    "                    mandelbrot = pygame.transform.scale(mandelbrot, mandelbrot_size)\n",
    "                    x_min = x_min_list[i]\n",
    "                    x_max = x_max_list[i]\n",
    "                    y_min = y_min_list[i]\n",
    "                    y_max = y_max_list[i]\n",
    "                    x_min_list.pop()\n",
    "                    x_max_list.pop()\n",
    "                    y_min_list.pop()\n",
    "                    y_max_list.pop()\n",
    "                    # Clear the system events log to avoid bugs.\n",
    "                    pygame.event.clear()\n",
    "                    # Set zoomout to False, and \"unclick\" the zoom out button.\n",
    "                    zoomout = False\n",
    "                    zoomout_button = False\n",
    "    # Close the PyGame window.\n",
    "    pygame.quit()\n",
    "    return None"
   ]
  },
  {
   "cell_type": "markdown",
   "metadata": {},
   "source": [
    "We shall now call the function with the default variables. This in turn produces a program with resolution of $800$ pixels by $600$ pixels, with the initial Mandelbrot set within the region $[-2, 1] \\times [-1.5, 1.5]$. "
   ]
  },
  {
   "cell_type": "code",
   "execution_count": 32,
   "metadata": {},
   "outputs": [],
   "source": [
    "mandelbrot_program()"
   ]
  },
  {
   "cell_type": "markdown",
   "metadata": {},
   "source": [
    "<a id='S5'></a>\n",
    "### Section 2.2: Tower of Hanoi "
   ]
  },
  {
   "cell_type": "markdown",
   "metadata": {},
   "source": [
    "The Tower of Hanoi is a famous mathematical puzzle dating back to the $19^{th}$ century (see the introductory chapter of [(Hinz, Klavzar and Petr, 2018)](#HKP2018)). We have three poles/pegs and $n$ discs/disks that fit onto the poles. The discs differ in size and are initially arranged in a stack on one of the poles, in order from the largest disc (disc $n$) at the bottom to the smallest disc (disc $1$) at the top.\n",
    "\n",
    "The problem is to move the stack of discs from one pole to another pole while obeying the following rules: \n",
    "- Move only one disc at a time.\n",
    "- Never place a disc on top of one smaller than it.\n",
    "\n",
    "In this section, we will look at a way to solve and animate the puzzles, as well as more restrictions, variants, and limitations of our code."
   ]
  },
  {
   "cell_type": "markdown",
   "metadata": {},
   "source": [
    "<a id='S5.1'></a> \n",
    "#### Part 2.2.1 Definitions and Objectives"
   ]
  },
  {
   "cell_type": "markdown",
   "metadata": {},
   "source": [
    "\n",
    "In this part, we shall look at the necessary definitions and code to describe our objectives accurately in terms of the output of the code.\n",
    "\n",
    "Firstly, we need to make some key definitions. Note that we shall call the pegs from left to right pegs $A$, $B$ and $C$ respectively.\n"
   ]
  },
  {
   "cell_type": "markdown",
   "metadata": {},
   "source": [
    "> **Definition**: In the puzzle, A **move** consists of the following two pieces of information:\n",
    ">\n",
    "> •\tA positive integer $d$ as the disc (of size $d$) being moved, and\n",
    ">\n",
    "> •\tAn indicator of the direction of the move, for which the values can only be Left or Right.\n",
    "\n",
    "> **Definition**: A **peg** is a list of discs. A **configuration** (of the pegs) is the ordered triple $T =  (A, B, C)$ of the pegs mentioned thereof.\n",
    "\n",
    "Remark: We shall explain further what an \"indicator\" means in this context when we implement the class `Move` later.\n"
   ]
  },
  {
   "cell_type": "markdown",
   "metadata": {},
   "source": [
    "Next, we need to know mathematically what a puzzle is.\n",
    "\n",
    "> **Definition**: A **puzzle** $P$ consists of the following three pieces of information:\n",
    ">\n",
    "> •\tA configuration called an **initial configuration** $T_0$,\n",
    ">\n",
    "> •\tA configuration called an **objective configuration** $T_f$, and\n",
    ">\n",
    "> •\tA set of Rules $R$.\n",
    "\n",
    "Different variants of the Towers of Hanoi has different initial configurations, objective configurations, and rules.\n"
   ]
  },
  {
   "cell_type": "markdown",
   "metadata": {},
   "source": [
    "We shall now introduce a rigorous definition of solving a puzzle.\n",
    "\n",
    "> **Definition**: Given a puzzle, a move $M$ and a configuration $T$, $M$ is **a valid move of $T$ under $P$** if the rules $R$ in $P$ are followed.\n",
    ">\n",
    "> For such a move, the configuration $T$ shall be changed accordingly to T′, which we shall call $T’$ as **the configuration attained by $M$ on $T$** (under $P$).\n",
    "\n",
    "> **Definition**: For a positive integer n, a **solution for the puzzle $P$ with $n$ disks** is a sequence of moves $<M_1, M_2, …, M_s>$ such that the following holds under $P$:\n",
    ">\n",
    "> 1. $T_i$ is the configuration attained by $M_i$ on $T_{i-1}$ ,\n",
    "> 2. $M_i$ is a valid move of $T_{i - 1}$,\n",
    "> 3. $T_s$ is the objective configuration of the puzzle $T_f$,\n",
    ">\n",
    "> for all $1 ≤ i ≤ s$. We shall call $s$ the **length** of the solution. This gives rise to a configuration list under a solution for the puzzle $<T_1, T_2, …, T_s>$.\n"
   ]
  },
  {
   "cell_type": "markdown",
   "metadata": {},
   "source": [
    "Using the terminology, we can state our objectives rigorously.\n",
    "\n",
    "> Objective: Given the number of discs $n$, we should find a solution and a configuration list of the following puzzles:\n",
    ">\n",
    "> •\t$P$, the Classical Tower of Hanoi Problem,\n",
    ">\n",
    "> •\t$P$, the No Wrap Variant Problem, where wrap-around is prohibited, and\n",
    ">\n",
    "> •\t$P$, the Bicolor Variant Problem, where the task is to separate 2 colours of discs.\n",
    "\n",
    "Note that the output, namely the solution and the configuration list, shall be useful when we animate the problem in [Part 2.2.4](#S5.4).\n",
    "\n",
    "It would be convenient for us to define $M$ and $T$ as a type of their own, as it would be easier to produce solutions and configuration lists in Python in that we can realize them as a `list` of a particular type.\n"
   ]
  },
  {
   "cell_type": "markdown",
   "metadata": {},
   "source": [
    "We shall initialise $T$ as a list of lists. The structure of the tower is also noticeably clear from this. Lists are also mutable; hence it shall be easier for us to change the content later."
   ]
  },
  {
   "cell_type": "code",
   "execution_count": 33,
   "metadata": {},
   "outputs": [
    {
     "name": "stdout",
     "output_type": "stream",
     "text": [
      "[[1, 2, 3, 4, 5, 6], [], []]\n"
     ]
    }
   ],
   "source": [
    "A = list(range(1, 7))\n",
    "B = []\n",
    "C= []\n",
    "Tow = [A, B, C]\n",
    "print(Tow)"
   ]
  },
  {
   "cell_type": "markdown",
   "metadata": {},
   "source": [
    "In contrast, a move does not have to be mutable. Thus, it would be beneficial to exploit the object-oriented programming aspect of Python, which is well-explained in their documentation [(Python Software Foundation, 2022)](#PSF2022). Abiding by the definition, we shall define a new class `Move` that contains the two aspects: `disk` and `direction`."
   ]
  },
  {
   "cell_type": "code",
   "execution_count": 34,
   "metadata": {},
   "outputs": [],
   "source": [
    "class Move(object):\n",
    "    \"\"\"\n",
    "    The class Move as introduced in the document. \n",
    "    We interpret this as a move in the towers of Hanoi.\n",
    "    The key attribute of this class is Move.disk and Move.Direction, as introduced.\n",
    "    \"\"\"\n",
    "    def __init__(self, dn=0, dir_n='Left'):\n",
    "        self.disk = dn\n",
    "        self.direction = dir_n\n",
    "    # The Disk Number - Validation \n",
    "    def get_disk(self):\n",
    "        return self._disk\n",
    "    def set_disk(self, dn):\n",
    "        error_message_disk = \"The Disk is a Positive Integer\"\n",
    "        if not isinstance(dn, int):\n",
    "            raise TypeError(error_message_disk)\n",
    "        elif dn < 0:\n",
    "            raise TypeError(error_message_disk)\n",
    "        else:\n",
    "            self._disk= dn\n",
    "    disk = property(get_disk, set_disk)\n",
    "    # The Move Direction -  Validation \n",
    "    def get_direction(self):\n",
    "        return self._direction\n",
    "    def set_direction(self, dir_n):\n",
    "        error_messagge_direction = \"The Direction is either the string 'Left' or 'Right'\"\n",
    "        if not isinstance(dir_n, str):\n",
    "            raise TypeError(error_messagge_direction)\n",
    "        elif dir_n != 'Left' and dir_n != 'Right':\n",
    "            raise TypeError(error_messagge_direction)\n",
    "        else:\n",
    "            self._direction = dir_n\n",
    "    direction = property(get_direction, set_direction)\n",
    "    # Print out the move using __str__ method\n",
    "    def __str__ (self):\n",
    "        return f\"Move disk {self.disk} to the {self.direction}\"\n",
    "    # Define the Equality of a Move\n",
    "    def __eq__(self, other):\n",
    "        if not isinstance(other, Move):\n",
    "            return NotImplemented\n",
    "        return self.disk == other.disk and self.direction == other.direction"
   ]
  },
  {
   "cell_type": "code",
   "execution_count": 35,
   "metadata": {},
   "outputs": [
    {
     "name": "stdout",
     "output_type": "stream",
     "text": [
      "Move disk 5 to the Right\n",
      "3\n",
      "Left\n",
      "Move disk 5 to the Right is a good move!\n",
      "Do we want to Move disk 3 to the Left?\n",
      "False\n"
     ]
    }
   ],
   "source": [
    "# Example: Explore the Use of the class Move\n",
    "# Declare a Move\n",
    "M1 = Move()\n",
    "M1.direction = \"Right\"\n",
    "M1.disk = 5\n",
    "# Print out a Move\n",
    "print(M1)\n",
    "# Another way to Declare a Move\n",
    "M2 = Move(3, \"Left\")\n",
    "# Accessing the Variable \n",
    "print(M2.disk)\n",
    "print(M2.direction)\n",
    "# Note: We can integrate f-strings in classes as follows:\n",
    "print(f\"{M1} is a good move!\")\n",
    "print(f\"Do we want to {M2}?\")\n",
    "# We can test whether two moves are equal,\n",
    "# obviously, they are equal iff they contain the same disk and direction\n",
    "print(M1 == M2)"
   ]
  },
  {
   "cell_type": "markdown",
   "metadata": {},
   "source": [
    "It is now easier to determine the following types of solutions that we are looking for:\n",
    "\n",
    "-\tA Solution: A `list` of Type `Move`, and\n",
    "\n",
    "-\tA configuration list under a solution: a `list` of type `int list X int list X int list`, where `X` denotes the Cartesian product.\n",
    "\n",
    "From now on, we shall assume that everything shall be of the right type. That is, $n$ shall automatically denote the number of discs by default, and a solution and configuration shall always have the aforementioned type. This is a general programming concept called *duck typing*, and it stems from the following claim:\n",
    "\n",
    "> If something walks and quacks like a duck, then it must be a duck. \n",
    ">\n",
    "> [(“Understanding Interfaces in Go – Duncan Leung”)](#Leung2021)\n",
    "\n",
    "This is a *pythonic* design, for which the concept is explained in their documentation in (Python Software Foundation, 2001)."
   ]
  },
  {
   "cell_type": "markdown",
   "metadata": {},
   "source": [
    "<a id='S5.2'></a> \n",
    "#### Part 2.2.2 Producing a Solution"
   ]
  },
  {
   "cell_type": "markdown",
   "metadata": {},
   "source": [
    "Using the above, we shall create a function that solves the puzzles using a powerful technique called **mutual recursion**. We have seen a lot of examples of simple recursion in lectures, but to produce the required solution for this case, we need to harness the power of mutual recursion. That is, we use multiple functions that recursively call each other.\n",
    "\n",
    "Mutual recursion is a powerful idea, and there are many practical applications. One can see [(Rubio-Sánchez, Urquiza-Fuentes and Pareja-Flores, 2008)](#RUP2008) for more examples.\n",
    "\n",
    "In particular, the following pseudocode illustrates the idea. Note that `MoveLeft(n)` produces the solution we need since the objective of the puzzle is to move the discs from peg A to C."
   ]
  },
  {
   "cell_type": "markdown",
   "metadata": {},
   "source": [
    "```\n",
    "DEFINE MoveLeft(n): \\\\ Solution for the classical Puzzle - Move n discs from peg A to C\n",
    "    if n = 1 \\\\ Base Case\n",
    "        return [Move (1, 'Left')]\n",
    "    else:\n",
    "        \\\\ Perform the Following 3 Steps in order:\n",
    "        1. MoveRight(n-1) \\\\ Move the first n-1 discs from peg A to B\n",
    "        2. Move(n, 'Left') \\\\ Move disc n from peg A to C\n",
    "        3. MoveRight(n-1) \\\\ Move the first n-1 discs from peg B to Peg C\n",
    "END\n",
    "\n",
    "DEFINE MoveRight(n): \\\\ Solution for moving n discs from peg C to A\n",
    "    if n = 1 \\\\ Base Case\n",
    "        return [Move(1, 'Right')]\n",
    "    else:\n",
    "        \\\\ Perform the Following 3 Steps in order:\n",
    "        1. MoveLeft(n-1) \\\\ Move the first n-1 discs from peg A to C\n",
    "        2. Move(n, 'Right') \\\\ Move disc n from peg A to B\n",
    "        3. MoveLeft(n-1) \\\\ Move the first n-1 discs from peg C to Peg B\n",
    "END\n",
    "```"
   ]
  },
  {
   "cell_type": "markdown",
   "metadata": {},
   "source": [
    "As seen, the function `MoveLeft` and `MoveRight` recursively call each other, this is an idea we shall keep on using. Now we shall see how it is implemented in Python."
   ]
  },
  {
   "cell_type": "code",
   "execution_count": 36,
   "metadata": {},
   "outputs": [],
   "source": [
    "ToH_Basic_Dict = {(1, 'Left'): [Move(1, 'Left')], (1, 'Right'): [Move(1, 'Right')]}\n",
    "def ToH_Move_Left(n):\n",
    "    \"\"\"\n",
    "    Given input n, produce the solution for the Classical Tower of Hanoi Problem\n",
    "    \"\"\"\n",
    "    global ToH_Basic_Dict\n",
    "    if (n, 'Left') not in ToH_Basic_Dict:\n",
    "        MiddleMove = Move(n, 'Left')\n",
    "        ToH_Basic_Dict[(n, 'Left')] = ToH_Move_Right(n-1) + [MiddleMove] + ToH_Move_Right(n-1)\n",
    "    return ToH_Basic_Dict[(n, 'Left')]\n",
    "def ToH_Move_Right(n):\n",
    "    \"\"\"\n",
    "    A Supplmentary function to aid recursive call in ToH_Move_Left(n).\n",
    "    \"\"\"\n",
    "    global ToH_Basic_Dict\n",
    "    if (n, 'Right') not in ToH_Basic_Dict:\n",
    "        MiddleMove = Move(n, 'Right')\n",
    "        ToH_Basic_Dict[(n, 'Right')] = ToH_Move_Left(n-1) + [MiddleMove] + ToH_Move_Left(n-1)\n",
    "    return ToH_Basic_Dict[(n, 'Right')]"
   ]
  },
  {
   "cell_type": "markdown",
   "metadata": {},
   "source": [
    "Note that, other than the recursive call, memoization is implemented. This drastically improves the running time of the command, especially on large $n$. We will look at the space/time complexity issue in the [last part](#S5.5).\n",
    "\n",
    "Now let us see the solution to the puzzle with $n = 4$:\n"
   ]
  },
  {
   "cell_type": "code",
   "execution_count": 37,
   "metadata": {},
   "outputs": [
    {
     "name": "stdout",
     "output_type": "stream",
     "text": [
      "[<__main__.Move object at 0x00000167CE9A2970>, <__main__.Move object at 0x00000167CE9D8550>, <__main__.Move object at 0x00000167CE9A2970>, <__main__.Move object at 0x00000167CE9D86D0>, <__main__.Move object at 0x00000167CE9A2970>, <__main__.Move object at 0x00000167CE9D8550>, <__main__.Move object at 0x00000167CE9A2970>, <__main__.Move object at 0x00000167CE9D86A0>, <__main__.Move object at 0x00000167CE9A2970>, <__main__.Move object at 0x00000167CE9D8550>, <__main__.Move object at 0x00000167CE9A2970>, <__main__.Move object at 0x00000167CE9D86D0>, <__main__.Move object at 0x00000167CE9A2970>, <__main__.Move object at 0x00000167CE9D8550>, <__main__.Move object at 0x00000167CE9A2970>]\n"
     ]
    }
   ],
   "source": [
    "print(ToH_Move_Left(4))"
   ]
  },
  {
   "cell_type": "markdown",
   "metadata": {},
   "source": [
    "This is not particularly useful, because every element had been masked as an object. In order to see the moves, we can use a for loop:"
   ]
  },
  {
   "cell_type": "code",
   "execution_count": 38,
   "metadata": {},
   "outputs": [
    {
     "name": "stdout",
     "output_type": "stream",
     "text": [
      "Move disk 1 to the Right\n",
      "Move disk 2 to the Left\n",
      "Move disk 1 to the Right\n",
      "Move disk 3 to the Right\n",
      "Move disk 1 to the Right\n",
      "Move disk 2 to the Left\n",
      "Move disk 1 to the Right\n",
      "Move disk 4 to the Left\n",
      "Move disk 1 to the Right\n",
      "Move disk 2 to the Left\n",
      "Move disk 1 to the Right\n",
      "Move disk 3 to the Right\n",
      "Move disk 1 to the Right\n",
      "Move disk 2 to the Left\n",
      "Move disk 1 to the Right\n"
     ]
    }
   ],
   "source": [
    "for move in ToH_Move_Left(4):\n",
    "    print(move)"
   ]
  },
  {
   "cell_type": "markdown",
   "metadata": {},
   "source": [
    "So, we have produced our solution for the classical puzzle as required. We can also investigate the length of the solution:"
   ]
  },
  {
   "cell_type": "code",
   "execution_count": 39,
   "metadata": {},
   "outputs": [
    {
     "name": "stdout",
     "output_type": "stream",
     "text": [
      "for 3 disks, length of solution is 7\n",
      "for 4 disks, length of solution is 15\n",
      "for 5 disks, length of solution is 31\n",
      "for 6 disks, length of solution is 63\n"
     ]
    }
   ],
   "source": [
    "for i in range(3, 7):\n",
    "    print(f'for {i} disks, length of solution is {len(ToH_Move_Left(i))}')\n"
   ]
  },
  {
   "cell_type": "markdown",
   "metadata": {},
   "source": [
    "It is not hard to show the (optimal) length for this classical version of the puzzle is always $2^n - 1$. This is because the length $T(n)$ always follow the recursive relation:\n",
    "$$\\begin{cases}T(1) = 1 \\\\ T(n) = T(n-1) + 1 + T(n-1) = 2T(n-1)+1\\end{cases}$$\n",
    "\n",
    "Note that how the recursive relation above closely resembles the implementation above. Solving it using any techniques we can get $T(n) = 2^n - 1$ (it can also be readily proven from mathematical induction).\n",
    "\n",
    "This actually means as $n$ grows, the length of the list called by `ToH_Move_Left(n)` increases exponentially. This will quickly causes space issue when $n > 16$ . But as we can see in the [later sections](#S5.5), even with an exponentially long list, the running time can stay rather constant with memoization.\n"
   ]
  },
  {
   "cell_type": "markdown",
   "metadata": {},
   "source": [
    "We shall now look at different variants of the puzzle. Firstly, we shall deal with the variant where no wrapping is allowed. Another equivalent way of forming this puzzle would be considering the puzzle as the classical variation of the Tower of Hanoi puzzle, with an additional rule that *every move must involve peg $B$*."
   ]
  },
  {
   "cell_type": "markdown",
   "metadata": {},
   "source": [
    "We shall also handle the problem with mutual recursion with a pseudocode algorithm; this one is particularly inspired by the discussion at [(Chen, 2015)](#Chen2015).\n",
    "\n",
    "```\n",
    "DEFINE NoWrap_Left(n): \\\\ Solution for the puzzle - Move n discs from peg A to C\n",
    "    if n = 1: \n",
    "        \\\\ Perform the following 2 steps in order:\n",
    "        1. Move(1, 'Right') \\\\ move disc from A to B\n",
    "        2. Move(1, 'Right') \\\\ move disc from B to C\n",
    "    else:\n",
    "        \\\\ Perform the 5 Steps in Order:\n",
    "        1. NoWrap_Left(n) \\\\ move n-1 from A to C \n",
    "        2. Move(n, 'Right') \\\\ move disc n from A to B\n",
    "        3. NoWrap_Right(n) \\\\ move n-1 from C to A \n",
    "        4. Move(n, 'Right') \\\\ move disc n from B to C\n",
    "        5. NoWrap_Left(n) \\\\move n-1 from A to C \n",
    "END    \n",
    "\n",
    "DEFINE NoWrap_Right(n): \\\\ Solution for Moving n discs from peg C to A\n",
    "    if n = 1:\n",
    "        \\\\ Perform the following 2 steps in order:\n",
    "        1. Move(1, 'Left') \\\\ move disc from C to B\n",
    "        2. Move(1, 'Left') \\\\ move disc from B to A\n",
    "    else:\n",
    "        \\\\ Perform the 5 Steps in Order:\n",
    "        1. NoWrap_Right(n) \\\\ move n-1 from C to A \n",
    "        2. Move(n, 'Left') \\\\ move disc n from C to B\n",
    "        3. NoWrap_Left(n) \\\\ move n-1 from A to C \n",
    "        4. Move(n, 'Left') \\\\ move disc n from B to A\n",
    "        5. NoWrap_Right(n) \\\\move n-1 from C to A \n",
    "END\n",
    "```\n",
    "The implementation is analogous to the classical variant of the puzzle. We shall also have a look at the solution and its length.\n"
   ]
  },
  {
   "cell_type": "code",
   "execution_count": 40,
   "metadata": {},
   "outputs": [],
   "source": [
    "ToH_NoWrap_Dict = {\n",
    "    (1, 'Left'): [Move(1, 'Right'), Move(1, 'Right')],\n",
    "    (1, 'Right'): [Move(1, 'Left'), Move(1, 'Left')]\n",
    "    }\n",
    "# Left: A -> C, Right C -> A\n",
    "def ToH_NoWrap_Move_Left(n):\n",
    "    \"\"\"\n",
    "    Given input n, produce the solution for the No Wrap Variant.\n",
    "    \"\"\"\n",
    "    global ToH_NoWrap_Dict\n",
    "    if (n, 'Left') not in ToH_NoWrap_Dict:\n",
    "        MiddleMove = Move(n, 'Right')\n",
    "        ToH_NoWrap_Dict[(n, 'Left')] = ToH_NoWrap_Move_Left(n-1) + [MiddleMove] +\\\n",
    "             ToH_NoWrap_Move_Right(n-1) + [MiddleMove] +\\\n",
    "                  ToH_NoWrap_Move_Left(n-1)\n",
    "    return ToH_NoWrap_Dict [(n, 'Left')]\n",
    "        \n",
    "def ToH_NoWrap_Move_Right(n):\n",
    "    \"\"\"\n",
    "    A Supplmentary function to aid recursive call in ToH_NoWrap_Move_Left(n).\n",
    "    \"\"\"\n",
    "    global ToH_NoWrap_Dict\n",
    "    if (n, 'Right') not in ToH_NoWrap_Dict:\n",
    "        MiddleMove = Move(n, 'Left')\n",
    "        ToH_NoWrap_Dict[(n, 'Right')] = ToH_NoWrap_Move_Right(n-1) + [MiddleMove]  +\\\n",
    "    ToH_NoWrap_Move_Left(n-1) + [MiddleMove] +  ToH_NoWrap_Move_Right(n-1)\n",
    "    return ToH_NoWrap_Dict [(n, 'Right')]"
   ]
  },
  {
   "cell_type": "code",
   "execution_count": 41,
   "metadata": {},
   "outputs": [
    {
     "name": "stdout",
     "output_type": "stream",
     "text": [
      "for 3 disks, length of solution is 26\n",
      "for 4 disks, length of solution is 80\n",
      "for 5 disks, length of solution is 242\n",
      "for 6 disks, length of solution is 728\n"
     ]
    }
   ],
   "source": [
    "for i in range(3, 7):\n",
    "    print(f'for {i} disks, length of solution is {len(ToH_NoWrap_Move_Left(i))}')"
   ]
  },
  {
   "cell_type": "markdown",
   "metadata": {},
   "source": [
    "And, in fact, we can show that the (optimal) length of this solution is $3^n -1$. The intuition would be that we use one extra move in every iteration to accommodate the fact that it must pass through peg B.\n",
    "\n",
    "\n",
    "\n"
   ]
  },
  {
   "cell_type": "markdown",
   "metadata": {},
   "source": [
    "Finally, we shall deal with the bicolour variant. Note that this implementation is not optimal, as we would see in the [next part](#S5.3).\n",
    "\n",
    "The strategy here is to first move everything to peg $B$ and then redistribute it after changing the bottom two discs. Again, we shall start by introducing pseudocode:\n",
    "\n",
    "```\n",
    "DEFINE ToCenter(n): \\\\ Solution for Moving n discs to peg B\n",
    "    if n = 1:  Move(1, 'Right') \n",
    "    Elif n = 2: [Move(2, 'Left'), Move(1, 'Right')]\n",
    "    else:\n",
    "        if n is even:\n",
    "            \\\\ Perform the 4 Steps in Order:\n",
    "            1. ToCenter(n-2) \\\\ move n-2 discs to peg B\n",
    "            2. Left(n-2) \\\\ move n-2 discs from B to A\n",
    "            3. Move(n, 'Left') \\\\ move n from C to B \n",
    "            4. Right(n-1) \\\\move n-1 discs from A to B \n",
    "        else: \\\\ if n is odd\n",
    "            \\\\ Perform the 4 Steps in Order:\n",
    "            1. ToCenter(n-1) \\\\ move n-1 discs to peg B\n",
    "            2. Right(n-1) \\\\ move n-1 discs from B to C\n",
    "            3. Move(n, 'Right') \\\\ move n from A to B \n",
    "            4. Left(n-1) \\\\move n-1 discs from C to B \n",
    "END    \n",
    "\n",
    "DEFINE Solve_Bicolor(n): \\\\ Solution for the Bicolor Variant\n",
    "    if n is not even, RAISE error\n",
    "    if n = 2: [Move(2, 'Left'), Move(1, 'Left'), Move(2, 'Left')]\n",
    "    else:\n",
    "        \\\\ Perform the 3 Steps in Order:\n",
    "        1. ToCenter(n-1) \\\\ move n-1 discs to peg B\n",
    "        2. Move(n, 'Left') \\\\ move disc n from C to A\n",
    "        3. REVERSE ToCenter(n) \\\\ redistribute the n-1 discs to their opposite pegs\n",
    "END\n",
    "```"
   ]
  },
  {
   "cell_type": "markdown",
   "metadata": {},
   "source": [
    "Note that, for the last step, we shall need to reverse the whole list. In this case, we shall need to create a new function `rev_list` to reverse a list."
   ]
  },
  {
   "cell_type": "code",
   "execution_count": 42,
   "metadata": {},
   "outputs": [],
   "source": [
    "def rev_list(l):\n",
    "    \"\"\"\n",
    "    Given a List l, return the reverse list of l.\n",
    "    \"\"\"\n",
    "    ans = []\n",
    "    for ele in reversed(l):\n",
    "        ans += [ele]\n",
    "    return ans\n",
    "\n",
    "ToH_Center_Dict = {\n",
    "    1: [Move(1, 'Right')],\n",
    "    2: [Move(2, 'Left'), Move(1, 'Right')]\n",
    "}\n",
    "def ToH_To_Center(n):\n",
    "    \"\"\"\n",
    "    A Supplmentary function to aid recursive call in ToH_BiColor_Solve(n).\n",
    "    \"\"\"\n",
    "    global ToH_Center_Dict\n",
    "    # For inducitve case, we know about To Center n-2 and n-1\n",
    "    if n not in ToH_Center_Dict:\n",
    "        if n % 2 == 0: # Even number, deal with the last two:\n",
    "            MiddleMove = Move(n, 'Left')\n",
    "            ToH_Center_Dict[n]  = ToH_To_Center(n-2) + ToH_Move_Left(n-2) + [MiddleMove] +ToH_Move_Right(n-1)\n",
    "        else: #Odd number \n",
    "            MiddleMove = Move(n, 'Right')\n",
    "            ToH_Center_Dict[n] = ToH_To_Center(n-1) + ToH_Move_Right(n-1) + [MiddleMove] +ToH_Move_Left(n-1)\n",
    "    return ToH_Center_Dict[n]\n",
    "ToH_BiColor_Dict = {\n",
    "    2: [Move(2, 'Left'), Move(1, 'Left'), Move(2, 'Left')]\n",
    "}\n",
    "def ToH_Bicolor_Solve(n):\n",
    "    \"\"\"\n",
    "    Given input n, produce the solution for the Bicolor Variant.\n",
    "    \"\"\"\n",
    "    global ToH_BiColor_Dict\n",
    "    even_error = 'n must be an even number!'\n",
    "    if n % 2 != 0:\n",
    "        print(even_error)\n",
    "    elif n not in ToH_BiColor_Dict:\n",
    "        MiddleMove = Move(n, 'Right')\n",
    "        FirstMove = ToH_To_Center(n-1)\n",
    "        ToH_BiColor_Dict[n] = FirstMove + [MiddleMove] + rev_list(FirstMove)\n",
    "    return ToH_BiColor_Dict[n]"
   ]
  },
  {
   "cell_type": "code",
   "execution_count": 43,
   "metadata": {},
   "outputs": [
    {
     "name": "stdout",
     "output_type": "stream",
     "text": [
      "for 2 disks, length of solution is 3\n",
      "for 4 disks, length of solution is 19\n",
      "for 6 disks, length of solution is 89\n",
      "for 8 disks, length of solution is 375\n",
      "for 10 disks, length of solution is 1525\n"
     ]
    }
   ],
   "source": [
    "for i in range(2, 12, 2):\n",
    "    print(f'for {i} disks, length of solution is {len(ToH_Bicolor_Solve(i))}')"
   ]
  },
  {
   "cell_type": "markdown",
   "metadata": {},
   "source": [
    "<a id='S5.3'></a> \n",
    "#### Part 2.2.3 Identifying Valid Moves"
   ]
  },
  {
   "cell_type": "markdown",
   "metadata": {},
   "source": [
    "In this part, we shall introduce the function `ToH_Valid_Move` in order to detect whether a move $M$ is a valid move of $T$ under $P$. We shall then use it to return the configuration list under a solution. This will achieve the objective set in the first part of our discussion. From here, we shall also present an interactive version of the puzzle.\n"
   ]
  },
  {
   "cell_type": "markdown",
   "metadata": {},
   "source": [
    "The key idea of the `ToH_Valid_Move` Command is as follows:\n",
    "\n",
    ">1.\tGiven a move `m`, assign a direction of m (i.e., `m.direction`) as Left or Right with a direction number `dir_num`, with the value being `1` when the direction is Right, and `-1` otherwise.\n",
    "> 2. Given the Move `m,` ensure that the disc m.disc is at the top of one of the pegs. Find the peg and call that peg `count`.\n",
    "> 3. Calculate the value of `count + dir_num` and assign it to `tar`. This tells us where we can put the disc at the target configuration. If wrapping around is allowed, we can work modulo 3; otherwise `tar` can only be 0, 1 or 2.\n",
    ">\n",
    "> 4. Mutate the configuration such that it becomes the configuration attained by `m` on `config` if the boolean variable `Validmove` is true, otherwise, return the unchanged configuration.\n"
   ]
  },
  {
   "cell_type": "code",
   "execution_count": 44,
   "metadata": {},
   "outputs": [],
   "source": [
    "def ToH_Valid_Move(m, config, WrapAround = True, Verbose = False):\n",
    "    \"\"\"\n",
    "    Input: \n",
    "        - m (Move), \n",
    "        - config (A configuration)\n",
    "    Optional Arguments: \n",
    "        - WrapAround (bool) - Whether Wrap Around is allowed\n",
    "        - Verbose (bool) - Whether error messages are printed out\n",
    "    Return:\n",
    "        - If m is a valid move of config, return The configuration attained by m on config\n",
    "        - Otherwise, return config.\n",
    "    \"\"\"\n",
    "    # Initialize the variable count and tar\n",
    "    count = 2\n",
    "    tar = 2\n",
    "    ValidMove = False\n",
    "    # Extract information of the move\n",
    "    dn = m.disk\n",
    "    dir_n = m.direction\n",
    "    # Assign direction number to the move\n",
    "    if dir_n == 'Right':\n",
    "        dir_num = 1\n",
    "    else:\n",
    "        dir_num = -1\n",
    "    # Detect the target disk, and determine which peg to move from (count) and which peg to move to (tar)\n",
    "    for count, peg in enumerate(config):\n",
    "        if len(peg) != 0 and peg[0] == dn:\n",
    "            if Verbose: print(f'Disk {dn} detected at peg {count +1}! Moving to the {dir_n}')\n",
    "            trial = count + dir_num\n",
    "            if WrapAround:\n",
    "                ValidMove = True\n",
    "                tar = trial % 3\n",
    "                break\n",
    "            elif trial in [0, 1, 2]:\n",
    "                ValidMove = True\n",
    "                tar = trial\n",
    "                break\n",
    "        else:\n",
    "            if Verbose: print(f\"Can't detect disk {dn} at the top!\")\n",
    "    # Try to move the disk \n",
    "    try:\n",
    "        if ValidMove:\n",
    "            if config[tar] and dn >= config[tar][0]:\n",
    "                raise TypeError\n",
    "            else:\n",
    "                config[count].pop(0)\n",
    "                config[tar].insert(0,dn)\n",
    "        else:  \n",
    "            print('Invalid move! Returning Original configuration.')\n",
    "    except: \n",
    "        if Verbose: print('Invalid move! Returning Original configuration.')\n",
    "    return [config[0], config[1], config[2]]"
   ]
  },
  {
   "cell_type": "markdown",
   "metadata": {},
   "source": [
    "The key point here is point 4. Due to the process of mutating the original configuration `config`, it will change whenever we call the function, so we do not have to redefine it upon successive calls of the function. \n",
    "\n",
    "This is an immensely powerful design (in technical jargon, he variable `config` is *dynamic*) that will save us some lines when designing the interactive version of the puzzles. The following code block illustrates this idea."
   ]
  },
  {
   "cell_type": "code",
   "execution_count": 45,
   "metadata": {},
   "outputs": [
    {
     "name": "stdout",
     "output_type": "stream",
     "text": [
      "Disk 1 detected at peg 1! Moving to the Left\n",
      "Can't detect disk 1 at the top!\n",
      "Can't detect disk 1 at the top!\n",
      "Invalid move! Returning Original configuration.\n",
      "[[1, 2, 3], [], []]\n",
      "Disk 1 detected at peg 1! Moving to the Left\n",
      "[[2, 3], [], [1]]\n",
      "[[2, 3], [], [1]]\n",
      "Disk 2 detected at peg 1! Moving to the Left\n",
      "Invalid move! Returning Original configuration.\n",
      "[[2, 3], [], [1]]\n",
      "[[2, 3], [1], []]\n"
     ]
    }
   ],
   "source": [
    "# Test Cell: The ToH_Valid_Move Function is dynamic\n",
    "A = [1, 2, 3]\n",
    "B = []\n",
    "C = []\n",
    "Tow = [A, B, C]\n",
    "M_1 = Move(1, 'Left')\n",
    "M_2 = Move(2, 'Left')\n",
    "print(ToH_Valid_Move(M_1, Tow, WrapAround = False, Verbose = True))\n",
    "print(ToH_Valid_Move(M_1, Tow, WrapAround = True, Verbose = True))\n",
    "# Note that how Tow changed to [[2, 3], [], [1]] instead of the original configuration\n",
    "print(Tow)\n",
    "print(ToH_Valid_Move(M_2, Tow, Verbose = True))\n",
    "print(ToH_Valid_Move(M_1, Tow, WrapAround = False))"
   ]
  },
  {
   "cell_type": "markdown",
   "metadata": {},
   "source": [
    "From here, we shall display the configuration list under a solution for the puzzle. We shall first start with the classical variant."
   ]
  },
  {
   "cell_type": "code",
   "execution_count": 46,
   "metadata": {},
   "outputs": [],
   "source": [
    "def ToH_ConList_Display(n):\n",
    "    \"\"\"\n",
    "    Given number of disks n,\n",
    "    Print out the configuration list under a solution for the classical variant And return None\n",
    "    \"\"\"\n",
    "    A = list(range(1, n+1))\n",
    "    B = []\n",
    "    C = []   \n",
    "    TOW = [A, B, C]\n",
    "    MoveList = ToH_Move_Left(n)\n",
    "    print(\"Let's Start! Our Tower looks like:\")\n",
    "    print(str(TOW))\n",
    "    for step_num, move in enumerate(MoveList):\n",
    "        print(f'Step {step_num+1}: {move}')\n",
    "        print(ToH_Valid_Move(move, TOW))\n",
    "    return None\n",
    "def ToH_NoWrap_ConList_Display(n):\n",
    "    \"\"\"\n",
    "    Given number of disks n,\n",
    "    Print out the configuration list under a solution for the No Wrap variant And return None\n",
    "    \"\"\"\n",
    "    A = list(range(1, n+1))\n",
    "    B = []\n",
    "    C = []   \n",
    "    TOW = [A, B, C]\n",
    "    MoveList = ToH_NoWrap_Move_Left(n)\n",
    "    print(\"Let's Start! Our Tower looks like:\")\n",
    "    print(str(TOW))\n",
    "    for step_num, move in enumerate(MoveList):\n",
    "        print(f'Step {step_num+1}: {move}')\n",
    "        print(ToH_Valid_Move(move, TOW))\n",
    "    return None"
   ]
  },
  {
   "cell_type": "code",
   "execution_count": 47,
   "metadata": {},
   "outputs": [
    {
     "name": "stdout",
     "output_type": "stream",
     "text": [
      "Let's Start! Our Tower looks like:\n",
      "[[1, 2, 3, 4], [], []]\n",
      "Step 1: Move disk 1 to the Right\n",
      "[[2, 3, 4], [1], []]\n",
      "Step 2: Move disk 2 to the Left\n",
      "[[3, 4], [1], [2]]\n",
      "Step 3: Move disk 1 to the Right\n",
      "[[3, 4], [], [1, 2]]\n",
      "Step 4: Move disk 3 to the Right\n",
      "[[4], [3], [1, 2]]\n",
      "Step 5: Move disk 1 to the Right\n",
      "[[1, 4], [3], [2]]\n",
      "Step 6: Move disk 2 to the Left\n",
      "[[1, 4], [2, 3], []]\n",
      "Step 7: Move disk 1 to the Right\n",
      "[[4], [1, 2, 3], []]\n",
      "Step 8: Move disk 4 to the Left\n",
      "[[], [1, 2, 3], [4]]\n",
      "Step 9: Move disk 1 to the Right\n",
      "[[], [2, 3], [1, 4]]\n",
      "Step 10: Move disk 2 to the Left\n",
      "[[2], [3], [1, 4]]\n",
      "Step 11: Move disk 1 to the Right\n",
      "[[1, 2], [3], [4]]\n",
      "Step 12: Move disk 3 to the Right\n",
      "[[1, 2], [], [3, 4]]\n",
      "Step 13: Move disk 1 to the Right\n",
      "[[2], [1], [3, 4]]\n",
      "Step 14: Move disk 2 to the Left\n",
      "[[], [1], [2, 3, 4]]\n",
      "Step 15: Move disk 1 to the Right\n",
      "[[], [], [1, 2, 3, 4]]\n"
     ]
    }
   ],
   "source": [
    "ToH_ConList_Display(4)"
   ]
  },
  {
   "cell_type": "markdown",
   "metadata": {},
   "source": [
    "We can deal with the no wrap variant and bicolor variant similarly."
   ]
  },
  {
   "cell_type": "code",
   "execution_count": 48,
   "metadata": {},
   "outputs": [],
   "source": [
    "def ToH_NoWrap_ConList_Display(n):\n",
    "    \"\"\"\n",
    "    Given number of disks n,\n",
    "    Print out the configuration list under a solution for the No Wrap variant.\n",
    "    \"\"\"\n",
    "    A = list(range(1, n+1))\n",
    "    B = []\n",
    "    C = []   \n",
    "    TOW = [A, B, C]\n",
    "    MoveList = ToH_NoWrap_Move_Left(n)\n",
    "    print(\"Let's Start! Our Tower looks like:\")\n",
    "    print(str(TOW))\n",
    "    for step_num, move in enumerate(MoveList):\n",
    "        print(f'Step {step_num+1}: {move}')\n",
    "        print(ToH_Valid_Move(move, TOW))\n",
    "    return None\n",
    "def ToH_BiColor_ConList_Display(n):\n",
    "    \"\"\"\n",
    "    Given number of disks n,\n",
    "    Print out the configuration list under a solution for the bicolor variant.\n",
    "    \"\"\"\n",
    "    A = list(range(1, n+1, 2))\n",
    "    B = []\n",
    "    C = list(range(2, n+1, 2))  \n",
    "    TOW = [A, B, C]\n",
    "    MoveList = ToH_Bicolor_Solve(n)\n",
    "    print(\"Let's Start! Our Tower looks like:\")\n",
    "    print(str(TOW))\n",
    "    for step_num, move in enumerate(MoveList):\n",
    "        print(f'Step {step_num+1}: {move}')\n",
    "        print(ToH_Valid_Move(move, TOW))\n",
    "    return None"
   ]
  },
  {
   "cell_type": "code",
   "execution_count": 49,
   "metadata": {},
   "outputs": [
    {
     "name": "stdout",
     "output_type": "stream",
     "text": [
      "Let's Start! Our Tower looks like:\n",
      "[[1, 2, 3], [], []]\n",
      "Step 1: Move disk 1 to the Right\n",
      "[[2, 3], [1], []]\n",
      "Step 2: Move disk 1 to the Right\n",
      "[[2, 3], [], [1]]\n",
      "Step 3: Move disk 2 to the Right\n",
      "[[3], [2], [1]]\n",
      "Step 4: Move disk 1 to the Left\n",
      "[[3], [1, 2], []]\n",
      "Step 5: Move disk 1 to the Left\n",
      "[[1, 3], [2], []]\n",
      "Step 6: Move disk 2 to the Right\n",
      "[[1, 3], [], [2]]\n",
      "Step 7: Move disk 1 to the Right\n",
      "[[3], [1], [2]]\n",
      "Step 8: Move disk 1 to the Right\n",
      "[[3], [], [1, 2]]\n",
      "Step 9: Move disk 3 to the Right\n",
      "[[], [3], [1, 2]]\n",
      "Step 10: Move disk 1 to the Left\n",
      "[[], [1, 3], [2]]\n",
      "Step 11: Move disk 1 to the Left\n",
      "[[1], [3], [2]]\n",
      "Step 12: Move disk 2 to the Left\n",
      "[[1], [2, 3], []]\n",
      "Step 13: Move disk 1 to the Right\n",
      "[[], [1, 2, 3], []]\n",
      "Step 14: Move disk 1 to the Right\n",
      "[[], [2, 3], [1]]\n",
      "Step 15: Move disk 2 to the Left\n",
      "[[2], [3], [1]]\n",
      "Step 16: Move disk 1 to the Left\n",
      "[[2], [1, 3], []]\n",
      "Step 17: Move disk 1 to the Left\n",
      "[[1, 2], [3], []]\n",
      "Step 18: Move disk 3 to the Right\n",
      "[[1, 2], [], [3]]\n",
      "Step 19: Move disk 1 to the Right\n",
      "[[2], [1], [3]]\n",
      "Step 20: Move disk 1 to the Right\n",
      "[[2], [], [1, 3]]\n",
      "Step 21: Move disk 2 to the Right\n",
      "[[], [2], [1, 3]]\n",
      "Step 22: Move disk 1 to the Left\n",
      "[[], [1, 2], [3]]\n",
      "Step 23: Move disk 1 to the Left\n",
      "[[1], [2], [3]]\n",
      "Step 24: Move disk 2 to the Right\n",
      "[[1], [], [2, 3]]\n",
      "Step 25: Move disk 1 to the Right\n",
      "[[], [1], [2, 3]]\n",
      "Step 26: Move disk 1 to the Right\n",
      "[[], [], [1, 2, 3]]\n"
     ]
    }
   ],
   "source": [
    "# No Wrap Variant\n",
    "ToH_NoWrap_ConList_Display(3)"
   ]
  },
  {
   "cell_type": "code",
   "execution_count": 50,
   "metadata": {},
   "outputs": [
    {
     "name": "stdout",
     "output_type": "stream",
     "text": [
      "Let's Start! Our Tower looks like:\n",
      "[[1, 3], [], [2, 4]]\n",
      "Step 1: Move disk 2 to the Left\n",
      "[[1, 3], [2], [4]]\n",
      "Step 2: Move disk 1 to the Right\n",
      "[[3], [1, 2], [4]]\n",
      "Step 3: Move disk 1 to the Left\n",
      "[[1, 3], [2], [4]]\n",
      "Step 4: Move disk 2 to the Right\n",
      "[[1, 3], [], [2, 4]]\n",
      "Step 5: Move disk 1 to the Left\n",
      "[[3], [], [1, 2, 4]]\n",
      "Step 6: Move disk 3 to the Right\n",
      "[[], [3], [1, 2, 4]]\n",
      "Step 7: Move disk 1 to the Right\n",
      "[[1], [3], [2, 4]]\n",
      "Step 8: Move disk 2 to the Left\n",
      "[[1], [2, 3], [4]]\n",
      "Step 9: Move disk 1 to the Right\n",
      "[[], [1, 2, 3], [4]]\n",
      "Step 10: Move disk 4 to the Right\n",
      "[[4], [1, 2, 3], []]\n",
      "Step 11: Move disk 1 to the Right\n",
      "[[4], [2, 3], [1]]\n",
      "Step 12: Move disk 2 to the Left\n",
      "[[2, 4], [3], [1]]\n",
      "Step 13: Move disk 1 to the Right\n",
      "[[1, 2, 4], [3], []]\n",
      "Step 14: Move disk 3 to the Right\n",
      "[[1, 2, 4], [], [3]]\n",
      "Step 15: Move disk 1 to the Left\n",
      "[[2, 4], [], [1, 3]]\n",
      "Step 16: Move disk 2 to the Right\n",
      "[[4], [2], [1, 3]]\n",
      "Step 17: Move disk 1 to the Left\n",
      "[[4], [1, 2], [3]]\n",
      "Step 18: Move disk 1 to the Right\n",
      "[[4], [2], [1, 3]]\n",
      "Step 19: Move disk 2 to the Left\n",
      "[[2, 4], [], [1, 3]]\n"
     ]
    }
   ],
   "source": [
    "#Bicolor Variant\n",
    "ToH_BiColor_ConList_Display(4)"
   ]
  },
  {
   "cell_type": "markdown",
   "metadata": {},
   "source": [
    "As we can see, the answer of the configuration list indeed matches the definition and the objective configuration. Note that, in the `ToH_BiColor_Solve` function, the output is sub-optimal. For example, note that the output, shown below, after 4 steps,\n",
    "\n",
    "```\n",
    "[[1, 3], [], [2, 4]] <-- HERE\n",
    "Step 1: move disc 2 to the Left\n",
    "[[1, 3], [2], [4]]\n",
    "Step 2: move disc 1 to the Right\n",
    "[[3], [1, 2], [4]]\n",
    "Step 3: move disc 1 to the Left\n",
    "[[1, 3], [2], [4]]\n",
    "Step 4: move disc 2 to the Right\n",
    "[[1, 3], [], [2, 4]] <-- HERE\n",
    "```\n",
    "\n",
    "brings us back to the original configuration, so this does not need to be part of the solution.\n",
    "\n",
    "From here, it is not hard for us to produce an interactive version of the three puzzles, where the user can feed in a move and play until the objective is reached."
   ]
  },
  {
   "cell_type": "code",
   "execution_count": 51,
   "metadata": {},
   "outputs": [],
   "source": [
    "def ToH_interactive():\n",
    "    '''\n",
    "    Allows an user to play the 3 different variants of the puzzle interactively.\n",
    "    '''\n",
    "    def ToH_Finish_Checker(Tow, Sol, Wrap = True):\n",
    "        '''\n",
    "        The main interactive element of the function.\n",
    "        Inputs:\n",
    "        Tow - Initial configuration \n",
    "        Sol - Objective Configuration\n",
    "        Wrap - Whether wrap-around is allowed\n",
    "        Exit the function call only if the user enters a move sequence that produces a solution.\n",
    "        '''\n",
    "        print('We start with the Configuration:')\n",
    "        print(Tow)\n",
    "        while Tow != Sol:\n",
    "            dn = input('What will be the Disk you want to move? Please enter a positive integer: ')\n",
    "            dir_n = input(\"What will be the direction? Please enter 'Left' or 'Right' without the quotes: \")\n",
    "            trial_move = Move(int(dn), dir_n)\n",
    "            ans = ToH_Valid_Move(trial_move, Tow, Wrap, Verbose = True)\n",
    "            print(f'Now the Tower is: {ans}')\n",
    "        print('You got to the solution! Well done.')\n",
    "        return None\n",
    "    GameEnd = False\n",
    "    while not GameEnd:\n",
    "        # Prompt User to choose a Mode \n",
    "        Mode = input('Which variant? c - classical, n - nowrap, b - bicolor, q- quit')\n",
    "        try:\n",
    "            # For each mode, initiate the correct initial and objective configuration, and run ToH_Finish_Checker.\n",
    "            if Mode == 'c':\n",
    "                n = input('start with how many disk? ')\n",
    "                Init_config = [list(range(1, int(n)+1)), list(), list()]\n",
    "                Obj_config = [list(), list(), list(range(1, int(n)+1))]\n",
    "                ToH_Finish_Checker(Init_config, Obj_config)\n",
    "                GameEnd = True\n",
    "            elif Mode == 'n':\n",
    "                n = input('start with how many disk? ')\n",
    "                Init_config = [list(range(1, int(n)+1)), list(), list()]\n",
    "                Obj_config = [list(), list(), list(range(1, int(n)+1))]\n",
    "                ToH_Finish_Checker(Init_config, Obj_config, False)\n",
    "                GameEnd = True\n",
    "            elif Mode == 'b':\n",
    "                n = input('start with how many disk? ')\n",
    "                if int(n) % 2 != 0:\n",
    "                    print('n must be an even number!')\n",
    "                    GameEnd = True\n",
    "                    break\n",
    "                Init_config = [list(range(1, int(n)+1, 2)), list(), list(range(2, int(n)+1, 2))]\n",
    "                Obj_config = [list(range(2, int(n)+1, 2)), list(), list(range(1, int(n)+1, 2))]\n",
    "                ToH_Finish_Checker(Init_config, Obj_config)\n",
    "                GameEnd = True\n",
    "            elif Mode == 'q':\n",
    "                print('Quitting! Bye.')\n",
    "                GameEnd = True\n",
    "            else:\n",
    "                raise TypeError\n",
    "        except:\n",
    "            print('Invalid input!')"
   ]
  },
  {
   "cell_type": "code",
   "execution_count": 52,
   "metadata": {},
   "outputs": [
    {
     "name": "stdout",
     "output_type": "stream",
     "text": [
      "Quitting! Bye.\n"
     ]
    }
   ],
   "source": [
    "# Test: key press are c - 1 - 1 - Left\n",
    "ToH_interactive()"
   ]
  },
  {
   "cell_type": "markdown",
   "metadata": {},
   "source": [
    "<a id='S5.4'></a> \n",
    "#### Part 2.2.4 Animation of the Puzzles"
   ]
  },
  {
   "cell_type": "markdown",
   "metadata": {},
   "source": [
    "In this part, we shall look as to how we can integrate the solution and configuration list such that the puzzles can be displayed as an animation.\n",
    "\n",
    "First we shall create a background with a base and 3 pegs, just like the usual Tower of Hanoi setup."
   ]
  },
  {
   "cell_type": "code",
   "execution_count": 53,
   "metadata": {},
   "outputs": [],
   "source": [
    "def ToH_Draw_Background():\n",
    "    \"\"\"\n",
    "    Draws the background of the Tower of Hanoi and keep it in the file ToH_BG.jpg.\n",
    "    \"\"\"\n",
    "    screen_size = (1000, 600)\n",
    "    black = (0, 0, 0)\n",
    "    white = (255, 255, 255)\n",
    "    grey = (100, 100, 100)\n",
    "    pygame.init()\n",
    "    screen = pygame.Surface(screen_size)\n",
    "    screen.fill(white)\n",
    "    base_rect = pygame.Rect(100,450,800,100)\n",
    "    Peg1Start = (250, 150)\n",
    "    Peg1End = (250, 450)\n",
    "    Peg2Start = (500, 150)\n",
    "    Peg2End = (500, 450)\n",
    "    Peg3Start = (750, 150)\n",
    "    Peg3End = (750, 450)\n",
    "    pygame.draw.rect(screen, grey, base_rect)\n",
    "    pygame.draw.line(screen, black, Peg1Start, Peg1End, width = 5)\n",
    "    pygame.draw.line(screen, black, Peg2Start, Peg2End, width = 5)\n",
    "    pygame.draw.line(screen, black, Peg3Start, Peg3End, width = 5) \n",
    "    pygame.image.save(screen, 'ToH_BG.jpg')\n",
    "    return None"
   ]
  },
  {
   "cell_type": "markdown",
   "metadata": {},
   "source": [
    "Please run this line of code to export `ToH_BG.jpg` in the directory."
   ]
  },
  {
   "cell_type": "code",
   "execution_count": 54,
   "metadata": {},
   "outputs": [],
   "source": [
    "ToH_Draw_Background()"
   ]
  },
  {
   "cell_type": "markdown",
   "metadata": {},
   "source": [
    "Now, in order to access and update the background, we just need to use the `image`, `load` and `bilt` command in the `PyGame` module.\n",
    "\n",
    "Note that we do not want to do the same and save discs as PNG files, and this is because they depend on the configuration, and they will be moved around in the animation.\n"
   ]
  },
  {
   "cell_type": "markdown",
   "metadata": {},
   "source": [
    "Another hurdle to overcome is the fact that discs come in varied sizes. Usually, they are cylinders of the same height, but since we are looking at the puzzle from a side view, we shall treat the discs as rectangles with different widths but the same height.\n",
    "\n",
    "In our implementation, the discs are labelled by the positive integers (which stemmed from the class `Move`), and we can set disc $1$ as $10$ pixels long, disc $2$ as $20$ pixels, ... et cetera.\n"
   ]
  },
  {
   "cell_type": "markdown",
   "metadata": {},
   "source": [
    "If the disc size is fixed, where the discs are placed is uniquely determined by the configuration. We shall take advantage of this and write a function that, given the configuration, outputs where the discs should be drawn.\n",
    "\n"
   ]
  },
  {
   "cell_type": "code",
   "execution_count": 55,
   "metadata": {},
   "outputs": [],
   "source": [
    "def ToH_Get_Coordinate(config):\n",
    "    '''\n",
    "    Given a configuration, return a list of coordinates where the disks are to be plotted.\n",
    "    (TOP LEFT coordinate of a rectangle, each assume with width 15)\n",
    "    '''\n",
    "    ans = list()\n",
    "    get_disk_length = lambda d_n: 10 * d_n\n",
    "    for peg_num, peg in enumerate(config):\n",
    "        base_x_coord = 250 * (peg_num+1)\n",
    "        total_num_disk = len(peg)\n",
    "        for count, disk_num in enumerate(peg):\n",
    "            y_coord = 450 - (15*(total_num_disk - count))\n",
    "            x_coord = base_x_coord-get_disk_length(disk_num)\n",
    "            ans.append((x_coord, y_coord, disk_num))\n",
    "    return ans"
   ]
  },
  {
   "cell_type": "markdown",
   "metadata": {},
   "source": [
    "The `ToH_Get_Coordinate` acts as a helper to our animation functions, and we shall enumerate over the list to draw all the discs in a configuration."
   ]
  },
  {
   "cell_type": "code",
   "execution_count": 56,
   "metadata": {},
   "outputs": [],
   "source": [
    "def ToH_Basic(n, speed_factor):\n",
    "    \"\"\"\n",
    "    Inputs: \n",
    "    - Number of Disks n \n",
    "    - The frame speed factor speed_factor\n",
    "    Return: None\n",
    "    Plays the animation of solving the Classic Variant of Tower of Hanoi.\n",
    "    \"\"\"\n",
    "    # Basic initialization\n",
    "    screen_size = (screen_width, screen_height)  = (1000, 600)\n",
    "    white = (255,255,255)\n",
    "    blue = (0, 0, 255)\n",
    "    black = (0, 0, 0)\n",
    "    frames_per_second = speed_factor\n",
    "    clock = pygame.time.Clock()\n",
    "    pygame.init()\n",
    "    screen = pygame.display.set_mode(screen_size)\n",
    "    # Draw the background\n",
    "    bg = pygame.image.load(\"ToH_BG.jpg\")\n",
    "    bg_rect = pygame.Rect(0,0,screen_width,screen_height)\n",
    "    # Draw the disks\n",
    "    get_double_disk_length = lambda d_n: 20 * d_n\n",
    "    Sol_Classic_Hanoi = ToH_Move_Left(n)\n",
    "    len_move_list = len(Sol_Classic_Hanoi)\n",
    "    Initial_Configuration = [list(range(1, n+1)), list(), list()]\n",
    "    Current_Configuration = Initial_Configuration\n",
    "    Start_Coord_List = ToH_Get_Coordinate(Initial_Configuration)\n",
    "    for x_cor, y_cor, disk in Start_Coord_List:\n",
    "        disk_rect = pygame.Rect(x_cor, y_cor, get_double_disk_length(disk), 15)\n",
    "        pygame.draw.rect(bg, blue, disk_rect)\n",
    "        pygame.draw.rect(bg, black, disk_rect, width = 3)\n",
    "    # Initialization of animation\n",
    "    # Index_move will track through the solution for the puzzle\n",
    "    index_move = 0\n",
    "    screen.fill(white)\n",
    "    screen.blit(bg, bg_rect)\n",
    "    pygame.display.flip()\n",
    "    running = True\n",
    "    run_anim = False\n",
    "    # Main Loop\n",
    "    while running:\n",
    "        # Key Press Detecting\n",
    "        for event in pygame.event.get():\n",
    "            if event.type == pygame.QUIT:\n",
    "                running = False\n",
    "            elif event.type == pygame.KEYDOWN and event.key == pygame.K_SPACE:\n",
    "                run_anim = not run_anim \n",
    "            # Speed change if ArrowUp/ArrowDown is pressed\n",
    "            elif event.type == pygame.KEYDOWN and event.key == pygame.K_UP:\n",
    "                frames_per_second = (4/3)* frames_per_second\n",
    "            elif event.type == pygame.KEYDOWN and event.key == pygame.K_DOWN:\n",
    "                frames_per_second = 0.75 * frames_per_second\n",
    "            # Title bar\n",
    "            caption = 'Tower of Hanoi - Classical Variant'\n",
    "            caption += f' Speed = {int(frames_per_second)}             '\n",
    "            caption += '(Keystroke:  \\'Space\\' to start or pause, Up/Down for speed adjusting))'\n",
    "            pygame.display.set_caption(caption)\n",
    "        if run_anim and index_move < len_move_list:\n",
    "            screen.fill(white)\n",
    "            # Background has changed, update it again\n",
    "            bg = pygame.image.load(\"ToH_BG.jpg\")\n",
    "            # Extract Current Configuration\n",
    "            current_move = Sol_Classic_Hanoi[index_move]\n",
    "            Current_Configuration = ToH_Valid_Move(current_move,Current_Configuration)\n",
    "            # Print Information\n",
    "            my_font = pygame.font.SysFont('Comic Sans MS', 30)\n",
    "            text_surface = my_font.render(f'Move {index_move+1}/{len_move_list}: {current_move}', False, (255, 0, 0))\n",
    "            bg.blit(text_surface, (0, 0))\n",
    "            # Update iterator\n",
    "            index_move = (index_move + 1) \n",
    "            ans = ToH_Get_Coordinate(Current_Configuration)\n",
    "            # Draw the new disks\n",
    "            for x_cor, y_cor, disk in ans:\n",
    "                disk_rect = pygame.Rect(x_cor, y_cor, get_double_disk_length(disk), 15)\n",
    "                pygame.draw.rect(bg, blue, disk_rect)\n",
    "                pygame.draw.rect(bg, black, disk_rect, width = 3)         \n",
    "        # Re-initialise the display \n",
    "        screen.blit(bg, (15, 0))\n",
    "        pygame.display.flip()\n",
    "        screen.fill(white)\n",
    "        clock.tick(frames_per_second) \n",
    "    pygame.quit()\n",
    "    return None "
   ]
  },
  {
   "cell_type": "code",
   "execution_count": 57,
   "metadata": {},
   "outputs": [],
   "source": [
    "ToH_Basic(5,1)"
   ]
  },
  {
   "cell_type": "markdown",
   "metadata": {},
   "source": [
    "(Note that the animation shows the configuration before applying the last move, thus it is easy to see that the animation produces the objective configuration.)\n",
    "\n",
    "Now we shall discuss the key difference between implementing this and the other two variants of the puzzle.\n",
    "\n",
    "1.\tThe No Wrap Variant is similar, except with WrapAround = False in the ToH_Valid_Move command.\n",
    "\n",
    "2.\tThe Bicolor Variant: The initial configuration of the discs shall be changed accordingly. We shall also colour the discs red and green instead of blue for visual effects.\n"
   ]
  },
  {
   "cell_type": "code",
   "execution_count": 58,
   "metadata": {},
   "outputs": [],
   "source": [
    "def ToH_NoWrap(n, speed_factor):\n",
    "    \"\"\"\n",
    "    Plays the animation of solving the No Wrap Variant of Tower of Hanoi.\n",
    "    Inputs: \n",
    "    - Number of Disks n \n",
    "    - The frame speed factor speed_factor\n",
    "    \"\"\"\n",
    "    # Basic initialization\n",
    "    screen_size = (screen_width, screen_height)  = (1000, 600)\n",
    "    white = (255,255,255)\n",
    "    blue = (0, 0, 255)\n",
    "    black = (0, 0, 0)\n",
    "    frames_per_second = speed_factor\n",
    "    clock = pygame.time.Clock()\n",
    "    pygame.init()\n",
    "    screen = pygame.display.set_mode(screen_size)\n",
    "\n",
    "    # Draw the background\n",
    "    bg = pygame.image.load(\"ToH_BG.jpg\")\n",
    "    bg_rect = pygame.Rect(0,0,screen_width,screen_height)\n",
    "    # Draw the disks\n",
    "    get_double_disk_length = lambda d_n: 20 * d_n\n",
    "    Sol_NoWrap_Hanoi = ToH_NoWrap_Move_Left(n)\n",
    "    len_move_list = len(Sol_NoWrap_Hanoi)\n",
    "    Initial_Configuration = [list(range(1, n+1)), list(), list()]\n",
    "    Current_Configuration = Initial_Configuration\n",
    "    Start_Coord_List = ToH_Get_Coordinate(Initial_Configuration)\n",
    "    for x_cor, y_cor, disk in Start_Coord_List:\n",
    "        disk_rect = pygame.Rect(x_cor, y_cor, get_double_disk_length(disk), 15)\n",
    "        pygame.draw.rect(bg, blue, disk_rect)\n",
    "        pygame.draw.rect(bg, black, disk_rect, width = 3)\n",
    "    # Initialization of animation\n",
    "    # Index_move will track through the solution for the puzzle\n",
    "    index_move = 0\n",
    "    screen.fill(white)\n",
    "    screen.blit(bg, bg_rect)\n",
    "    pygame.display.flip()\n",
    "    running = True\n",
    "    run_anim = False\n",
    "    # Main Loop - Stop animating when the end of move list is reached\n",
    "    while running:\n",
    "        # Key Press Detecting\n",
    "        for event in pygame.event.get():\n",
    "            if event.type == pygame.QUIT:\n",
    "                running = False\n",
    "            elif event.type == pygame.KEYDOWN and event.key == pygame.K_SPACE:\n",
    "                run_anim = not run_anim \n",
    "            elif event.type == pygame.KEYDOWN and event.key == pygame.K_UP:\n",
    "                frames_per_second = (4/3)* frames_per_second\n",
    "            elif event.type == pygame.KEYDOWN and event.key == pygame.K_DOWN:\n",
    "                frames_per_second = 0.75 * frames_per_second\n",
    "            # Title bar\n",
    "            caption = 'Tower of Hanoi - No Wrapping Variant'\n",
    "            caption += f' Speed = {int(frames_per_second)}             '\n",
    "            caption += '(Keystroke:  \\'Space\\' to start or pause, Up/Down for speed adjusting))'\n",
    "            pygame.display.set_caption(caption)\n",
    "        if run_anim and index_move < len_move_list:\n",
    "            screen.fill(white)\n",
    "            # Background has changed, update it again\n",
    "            bg = pygame.image.load(\"ToH_BG.jpg\")\n",
    "            # Extract Current Configuration\n",
    "            current_move = Sol_NoWrap_Hanoi[index_move]\n",
    "            Current_Configuration = ToH_Valid_Move(current_move,Current_Configuration, False)\n",
    "            # Print Information\n",
    "            my_font = pygame.font.SysFont('Comic Sans MS', 30)\n",
    "            text_surface = my_font.render(f'Move {index_move+1}/{len_move_list}: {current_move}', False, (255, 0, 0))\n",
    "            bg.blit(text_surface, (0, 0))\n",
    "            # Update iterator\n",
    "            index_move = index_move + 1\n",
    "            ans = ToH_Get_Coordinate(Current_Configuration)\n",
    "            # Draw the new disks\n",
    "            for x_cor, y_cor, disk in ans:\n",
    "                disk_rect = pygame.Rect(x_cor, y_cor, get_double_disk_length(disk), 15)\n",
    "                pygame.draw.rect(bg, blue, disk_rect)\n",
    "                pygame.draw.rect(bg, black, disk_rect, width = 3)\n",
    "        # Re-initialise the display \n",
    "        screen.blit(bg, (15, 0))\n",
    "        pygame.display.flip()\n",
    "        clock.tick(frames_per_second)\n",
    "    pygame.quit()\n",
    "    return None \n",
    "\n"
   ]
  },
  {
   "cell_type": "code",
   "execution_count": 59,
   "metadata": {},
   "outputs": [],
   "source": [
    "ToH_NoWrap(3, 5)"
   ]
  },
  {
   "cell_type": "code",
   "execution_count": 60,
   "metadata": {},
   "outputs": [],
   "source": [
    "def ToH_BiColor(n, speed_factor):\n",
    "    \"\"\"\n",
    "    Inputs: \n",
    "    - Number of Disks n \n",
    "    - The frame speed factor speed_factor\n",
    "    Plays the animation of solving the Bicolor Variant of Tower of Hanoi.\n",
    "    \"\"\"\n",
    "    # Basic initialization\n",
    "    screen_size = (screen_width, screen_height)  = (1000, 600)\n",
    "    white = (255,255,255)\n",
    "    red = (255, 0, 0)\n",
    "    green = (0, 255, 0)\n",
    "    black = (0, 0, 0)\n",
    "    frames_per_second = speed_factor\n",
    "    clock = pygame.time.Clock()\n",
    "    pygame.init()\n",
    "    screen = pygame.display.set_mode(screen_size)\n",
    "    # Title bar\n",
    "    caption = 'Tower of Hanoi - Bicolor Variant'\n",
    "    caption += '                              '\n",
    "    caption += '(Keystroke:  \\'Space\\' to start or pause)'\n",
    "    pygame.display.set_caption(caption)\n",
    "    # Draw the background\n",
    "    bg = pygame.image.load(\"ToH_BG.jpg\")\n",
    "    bg_rect = pygame.Rect(0,0,screen_width,screen_height)\n",
    "    # Draw the disks\n",
    "    get_double_disk_length = lambda d_n: 20 * d_n\n",
    "    Sol_BiColor_Hanoi = ToH_Bicolor_Solve(n)\n",
    "    len_move_list = len(Sol_BiColor_Hanoi)\n",
    "    Initial_Configuration = [list(range(1, n+1, 2)), list(), list(range(2, n+1, 2))]\n",
    "    Current_Configuration = Initial_Configuration\n",
    "    Start_Coord_List = ToH_Get_Coordinate(Initial_Configuration)\n",
    "    for x_cor, y_cor, disk in Start_Coord_List:\n",
    "        disk_rect = pygame.Rect(x_cor, y_cor, get_double_disk_length(disk), 15)\n",
    "        if disk % 2 ==0:\n",
    "            pygame.draw.rect(bg, green, disk_rect)\n",
    "        else:\n",
    "            pygame.draw.rect(bg, red, disk_rect)\n",
    "        pygame.draw.rect(bg, black, disk_rect, width = 3)\n",
    "    # Initialization of animation\n",
    "    # Index_move will track through the solution for the puzzle\n",
    "    index_move = 0\n",
    "    screen.fill(white)\n",
    "    screen.blit(bg, bg_rect)\n",
    "    pygame.display.flip()\n",
    "    running = True\n",
    "    run_anim = False\n",
    "    # Main Loop \n",
    "    while running :\n",
    "        # Key Press Detecting\n",
    "        for event in pygame.event.get():\n",
    "            if event.type == pygame.QUIT:\n",
    "                running = False\n",
    "            elif event.type == pygame.KEYDOWN and event.key == pygame.K_SPACE:\n",
    "                run_anim = not run_anim \n",
    "            elif event.type == pygame.KEYDOWN and event.key == pygame.K_UP:\n",
    "                frames_per_second = (4/3)* frames_per_second\n",
    "            elif event.type == pygame.KEYDOWN and event.key == pygame.K_DOWN:\n",
    "                frames_per_second = 0.75 * frames_per_second\n",
    "            # Title bar\n",
    "            caption = 'Tower of Hanoi - Classical Variant'\n",
    "            caption += f' Speed = {int(frames_per_second)}             '\n",
    "            caption += '(Keystroke:  \\'Space\\' to start or pause, Up/Down for speed adjusting))'\n",
    "            pygame.display.set_caption(caption)\n",
    "        # Stop animating when the end of move list is reached\n",
    "        if run_anim and index_move < len_move_list:\n",
    "            screen.fill(white)\n",
    "            # Background has changed, update it again\n",
    "            bg = pygame.image.load(\"ToH_BG.jpg\")\n",
    "            # Extract Current Configuration\n",
    "            current_move = Sol_BiColor_Hanoi[index_move]\n",
    "            Current_Configuration = ToH_Valid_Move(current_move,Current_Configuration)\n",
    "            # Print Information\n",
    "            my_font = pygame.font.SysFont('Comic Sans MS', 30)\n",
    "            text_surface = my_font.render(f'Move {index_move+1}/{len_move_list}: {current_move}', False, (255, 0, 0))\n",
    "            bg.blit(text_surface, (0, 0))\n",
    "            # Update iterator\n",
    "            index_move = (index_move + 1)\n",
    "            ans = ToH_Get_Coordinate(Current_Configuration)\n",
    "            # Draw the new disks\n",
    "            for x_cor, y_cor, disk in ans:\n",
    "                disk_rect = pygame.Rect(x_cor, y_cor, get_double_disk_length(disk), 15)\n",
    "                if disk % 2 ==0:\n",
    "                    pygame.draw.rect(bg, green, disk_rect)\n",
    "                else:\n",
    "                    pygame.draw.rect(bg, red, disk_rect)\n",
    "                pygame.draw.rect(bg, black, disk_rect, width = 3)\n",
    "        # Re-initialise the display \n",
    "        screen.blit(bg, (15, 0))\n",
    "        pygame.display.flip()\n",
    "        clock.tick(frames_per_second)\n",
    "    pygame.quit()\n",
    "    return None "
   ]
  },
  {
   "cell_type": "code",
   "execution_count": 61,
   "metadata": {},
   "outputs": [],
   "source": [
    "ToH_BiColor(4, 8)"
   ]
  },
  {
   "cell_type": "markdown",
   "metadata": {},
   "source": [
    "From here, we can let the user choose the mode, discs, and speed factor using an interactive command."
   ]
  },
  {
   "cell_type": "code",
   "execution_count": 62,
   "metadata": {},
   "outputs": [],
   "source": [
    "def ToH_Animation_Interactive(): \n",
    "    Mode = input('Which variant? c - classical, n - nowrap, b - bicolor, q- quit')\n",
    "    if Mode == 'c':\n",
    "        ds = integer_input_validation(\"Number of disks\", 5, 1, 16)\n",
    "        spe = integer_input_validation(\"Disks moved per second\", 5, 1, 20)\n",
    "        ToH_Basic(ds, spe)\n",
    "    elif Mode == 'n':\n",
    "        ds = integer_input_validation(\"Number of disks\", 6, 2, 16)\n",
    "        spe = integer_input_validation(\"Disks moved per second\", 5, 1, 20)\n",
    "        ToH_NoWrap(ds, spe)\n",
    "    elif Mode == 'b':\n",
    "        ds = integer_input_validation(\"Number of disks\", 5, 1, 16)\n",
    "        spe = integer_input_validation(\"Disks moved per second\", 5, 1, 20)\n",
    "        ToH_BiColor(ds, spe)\n",
    "    elif Mode == 'q':\n",
    "        print('Quitting! Bye!')\n",
    "    else:\n",
    "        print(\"Cannot recognize your input! So I quit! Please run the function again.\")\n"
   ]
  },
  {
   "cell_type": "code",
   "execution_count": 63,
   "metadata": {},
   "outputs": [
    {
     "name": "stdout",
     "output_type": "stream",
     "text": [
      "Quitting! Bye!\n"
     ]
    }
   ],
   "source": [
    "ToH_Animation_Interactive()"
   ]
  },
  {
   "cell_type": "markdown",
   "metadata": {},
   "source": [
    "<a id='S5.5'></a> \n",
    "#### Part 2.2.5 Extensions"
   ]
  },
  {
   "cell_type": "markdown",
   "metadata": {},
   "source": [
    "There are a lot of features we can add to the functions introduced in this part. Firstly, we look at implementing a smooth version of ToH_Basic, where the discs transfer smoothly."
   ]
  },
  {
   "cell_type": "code",
   "execution_count": 64,
   "metadata": {},
   "outputs": [],
   "source": [
    "def ToH_Basic_Smooth(n, speed_factor):\n",
    "    \"\"\"\n",
    "    Inputs: \n",
    "    - Number of Disks n \n",
    "    - The frame speed factor speed_factor\n",
    "    Return: None\n",
    "    Plays the animation of solving the Classic Variant of Tower of Hanoi with animation of disks moving pole to pole.\n",
    "    \"\"\"\n",
    "    x_step = 10\n",
    "    y_step = 5\n",
    "    # Basic initialization\n",
    "    screen_size = (screen_width, screen_height)  = (1000, 600)\n",
    "    white = (255,255,255)\n",
    "    blue = (0, 0, 255)\n",
    "    black = (0, 0, 0)\n",
    "    frames_per_second = speed_factor\n",
    "    clock = pygame.time.Clock()\n",
    "    pygame.init()\n",
    "    screen = pygame.display.set_mode(screen_size)\n",
    "    \n",
    "    # Draw the background\n",
    "    bg = pygame.image.load(\"ToH_BG.jpg\")\n",
    "    bg_rect = pygame.Rect(0,0,screen_width,screen_height)\n",
    "    # Draw the disks\n",
    "    get_double_disk_length = lambda d_n: 20 * d_n\n",
    "    Sol_Classic_Hanoi = ToH_Move_Left(n)\n",
    "    len_move_list = len(Sol_Classic_Hanoi)\n",
    "    Initial_Configuration = [list(range(1, n+1)), list(), list()]\n",
    "    Current_Configuration = Initial_Configuration\n",
    "    Start_Coord_List = ToH_Get_Coordinate(Initial_Configuration)\n",
    "    ans = ToH_Get_Coordinate(Initial_Configuration)\n",
    "    # Initialization of smooth disks\n",
    "    current_disk = 1\n",
    "    for x_cor, y_cor, disk in Start_Coord_List:\n",
    "        disk_rect = pygame.Rect(x_cor, y_cor, get_double_disk_length(disk), 15)\n",
    "        if disk == current_disk:\n",
    "            moving_disk_rect = disk_rect\n",
    "        pygame.draw.rect(bg, blue, disk_rect)\n",
    "        pygame.draw.rect(bg, black, disk_rect, width = 3)\n",
    "    # Initalization of the first move\n",
    "    index_move = 0\n",
    "    current_move = Sol_Classic_Hanoi[index_move]\n",
    "    current_disk = current_move.disk\n",
    "    current_direction = current_move.direction\n",
    "    screen.fill(white)\n",
    "    screen.blit(bg, bg_rect)\n",
    "    pygame.display.flip()\n",
    "    running = True\n",
    "    run_anim = False\n",
    "    smooth_disk = True\n",
    "    number_of_times_moving_x = 0\n",
    "    my_font = pygame.font.SysFont('Comic Sans MS', 30)\n",
    "    text_surface = my_font.render(f'Move {index_move+1}: {current_move}', False, (255, 0, 0))\n",
    "    bg.blit(text_surface, (0, 0))\n",
    "    # Main Loop\n",
    "    while running:\n",
    "        # Key Press Detecting\n",
    "        for event in pygame.event.get():\n",
    "            if event.type == pygame.QUIT:\n",
    "                running = False\n",
    "            elif event.type == pygame.KEYDOWN and event.key == pygame.K_SPACE:\n",
    "                run_anim = not run_anim \n",
    "            elif event.type == pygame.KEYDOWN and event.key == pygame.K_UP:\n",
    "                frames_per_second = (4/3)* frames_per_second\n",
    "            elif event.type == pygame.KEYDOWN and event.key == pygame.K_DOWN:\n",
    "                frames_per_second = 0.75 * frames_per_second\n",
    "            # Title bar\n",
    "            caption = 'Tower of Hanoi - Classical Variant with Smooth Disks'\n",
    "            caption += f' Speed = {int(frames_per_second)}             '\n",
    "            caption += '(Keystroke:  \\'Space\\' to start/pause, Up/Down for speed adjusting)'\n",
    "            pygame.display.set_caption(caption)\n",
    "        if run_anim and index_move < len_move_list:\n",
    "            # Smooth Transition Parts\n",
    "            if smooth_disk:\n",
    "                if number_of_times_moving_x < 25:\n",
    "                    bg = pygame.image.load(\"ToH_BG.jpg\")\n",
    "                    move_hori = True\n",
    "                    if current_direction == 'Left':\n",
    "                        moving_disk_rect = moving_disk_rect.move((-x_step, 0))\n",
    "                    else:\n",
    "                        moving_disk_rect = moving_disk_rect.move((x_step, 0))\n",
    "                    pygame.draw.rect(bg, blue ,moving_disk_rect)\n",
    "                    pygame.draw.rect(bg, black ,moving_disk_rect, width = 3)\n",
    "                    number_of_times_moving_x += 1\n",
    "                else:\n",
    "                    number_of_times_moving_x = 0\n",
    "                    smooth_disk = not smooth_disk\n",
    "                for x_cor, y_cor, disk in ans:\n",
    "                    disk_rect = pygame.Rect(x_cor, y_cor, get_double_disk_length(disk), 15)\n",
    "                    if disk != current_disk:\n",
    "                        pygame.draw.rect(bg, blue, disk_rect)\n",
    "                        pygame.draw.rect(bg, black, disk_rect, width = 3)\n",
    "                my_font = pygame.font.SysFont('Comic Sans MS', 30)\n",
    "                text_surface = my_font.render(f'Move {index_move+2}: {current_move}', False, (255, 0, 0))\n",
    "                bg.blit(text_surface, (0, 0))\n",
    "                clock.tick(frames_per_second)\n",
    "                pygame.display.flip()\n",
    "            elif index_move < len_move_list:\n",
    "                screen.fill(white)\n",
    "                # Background has changed, update it again\n",
    "                bg = pygame.image.load(\"ToH_BG.jpg\")\n",
    "                # Extract Current Configuration\n",
    "                try:\n",
    "                    current_move = Sol_Classic_Hanoi[index_move+1]\n",
    "                except:\n",
    "                    pass\n",
    "                current_disk = current_move.disk\n",
    "                current_direction = current_move.direction\n",
    "                Current_Configuration = ToH_Valid_Move(Sol_Classic_Hanoi[index_move],Current_Configuration)\n",
    "                # Print Information\n",
    "                my_font = pygame.font.SysFont('Comic Sans MS', 30)\n",
    "                text_surface = my_font.render(f'Move {index_move+2}: {current_move}', False, (255, 0, 0))\n",
    "                bg.blit(text_surface, (0, 0))\n",
    "                # Update iterator\n",
    "                ans = ToH_Get_Coordinate(Current_Configuration)\n",
    "                # Draw the new disks\n",
    "                for x_cor, y_cor, disk in ans:\n",
    "                    disk_rect = pygame.Rect(x_cor, y_cor, get_double_disk_length(disk), 15)\n",
    "                    if disk == current_disk:\n",
    "                        moving_disk_rect = disk_rect\n",
    "                    pygame.draw.rect(bg, blue, disk_rect)\n",
    "                    pygame.draw.rect(bg, black, disk_rect, width = 3)\n",
    "                smooth_disk = not smooth_disk\n",
    "                index_move = (index_move + 1) \n",
    "        # Re-initialise the display \n",
    "        screen.blit(bg, (0, 0))\n",
    "        pygame.display.flip()\n",
    "        clock.tick(frames_per_second)\n",
    "    pygame.quit()\n",
    "    return None "
   ]
  },
  {
   "cell_type": "code",
   "execution_count": 65,
   "metadata": {},
   "outputs": [],
   "source": [
    "# Test Cells\n",
    "ToH_Basic_Smooth(4, 60) "
   ]
  },
  {
   "cell_type": "markdown",
   "metadata": {},
   "source": [
    "Now as promised in the previous parts, we look at different time and space complexity issue. \n",
    "\n",
    "First, recall that we discussed the classical amnd no wrap variant have optimal length of solution $2^n-1$ and $3^n-1$ respectively. The informal reason of why they are optimal is as follows:\n",
    "\n",
    "- In the classical variant, there must be one move where disk $n$ is moved from peg $A$ to $C$, before and after that, the move can be copied from the optimal moves in the solution of $n-1$ disks to solve the puzzle. That explains the $T(n-1)$ term in the recurrence relation.\n",
    "\n",
    "- Similarly, in the no wrap variant, there must be two move that move disk $n$ from peg $A$ to $B$, then peg $B$ to $C$, that leaves three 'gaps' in between the two moves. That's why there are three $T(n-1)$ term present.\n",
    "\n",
    "So in conclusion, the code for `ToH_Move_Left` and `ToH_NoWrap_Move_Left` is fully optimized in terms of solution length. However, we note that there exists numerous iterative solution that involve searching a valid move under a configuration (see the 'Solution' tab in [(Wikipedia Contributors, 2022)](#Wiki)). In our project, this may mean searching in a loop inside the function `ToH_Valid_Move`, which, to the authors, is an unncessary complication which may cause further runtime loss.\n",
    "\n",
    "However, We shall look at how memoization speeds up the function call for large values of $n$ to show the importance of this technique.  We first start by implementing the no memoization version of functions that produces a solution, with a suffix `_NoMem` after their usual names in order to distinguish them.\n"
   ]
  },
  {
   "cell_type": "code",
   "execution_count": 66,
   "metadata": {},
   "outputs": [],
   "source": [
    "def ToH_Move_Left_Nomem(n):\n",
    "    \"\"\"\n",
    "    The function ToH_Move_Left with no memoization.\n",
    "    \"\"\"\n",
    "    if n == 1:\n",
    "        return [Move(1, 'Left')]\n",
    "    else:\n",
    "        MiddleMove = Move(n, 'Left')\n",
    "        return ToH_Move_Right_Nomem(n-1) + [MiddleMove] + ToH_Move_Right_Nomem(n-1)\n",
    "def ToH_Move_Right_Nomem(n):\n",
    "    \"\"\"\n",
    "    The function ToH_Move_Right with no memoization.\n",
    "    \"\"\"\n",
    "    if n == 1:\n",
    "        return [Move(1, 'Right')]\n",
    "    else:\n",
    "        MiddleMove = Move(n, 'Right')\n",
    "        return ToH_Move_Left_Nomem(n-1) + [MiddleMove] + ToH_Move_Left_Nomem(n-1)\n",
    "def ToH_NoWrap_Move_Left_Nomem(n):\n",
    "    \"\"\"\n",
    "    The function ToH_NoWrap_Move_Left with no memoization.\n",
    "    \"\"\"\n",
    "    if n == 1:\n",
    "        return [Move(1, 'Right'), Move(1, 'Right')]\n",
    "    else:\n",
    "        MiddleMove = Move(n, 'Right')\n",
    "        return ToH_NoWrap_Move_Left_Nomem(n-1) + [MiddleMove] + \\\n",
    "    ToH_NoWrap_Move_Right_Nomem(n-1) + [MiddleMove] + \\\n",
    "    ToH_NoWrap_Move_Left_Nomem(n-1)\n",
    "def ToH_NoWrap_Move_Right_Nomem(n):\n",
    "    \"\"\"\n",
    "    The function ToH_NoWrap_Move_Right with no memoization.\n",
    "    \"\"\"\n",
    "    if n == 1:\n",
    "        return [Move(1, 'Left'), Move(1, 'Left')]\n",
    "    else:\n",
    "        MiddleMove = Move(n, 'Left')\n",
    "        return ToH_NoWrap_Move_Right_Nomem(n-1) + [MiddleMove]  +\\\n",
    "    ToH_NoWrap_Move_Left_Nomem(n-1) + [MiddleMove] +  ToH_NoWrap_Move_Right_Nomem(n-1)\n",
    "def ToH_To_Center_Nomem(n):\n",
    "    \"\"\"\n",
    "    The function ToH_To_Center with no memoization.\n",
    "    \"\"\"\n",
    "    if n == 1:\n",
    "        return [Move(1, 'Right')]\n",
    "    elif n ==2:\n",
    "        return [Move(2, 'Left'), Move(1, 'Right')]\n",
    "    elif n % 2 == 0: \n",
    "        MiddleMove = Move(n, 'Left')\n",
    "        return ToH_To_Center_Nomem(n-2) + ToH_Move_Left_Nomem(n-2) + [MiddleMove] +ToH_Move_Right_Nomem(n-1)\n",
    "    else: \n",
    "        MiddleMove = Move(n, 'Right')\n",
    "        return ToH_To_Center_Nomem(n-1) + ToH_Move_Right_Nomem(n-1) + [MiddleMove] +ToH_Move_Left_Nomem(n-1)\n",
    "def ToH_Bicolor_Solve_Nomem(n):\n",
    "    \"\"\"\n",
    "    The function ToH_BiColor_Solve with no memoization.\n",
    "    \"\"\"\n",
    "    even_error = 'n must be an even number!'\n",
    "    if n % 2 != 0:\n",
    "        print(even_error)\n",
    "    elif n == 2:\n",
    "        return [Move(2, 'Left'), Move(1, 'Left'), Move(2, 'Left')]\n",
    "    else:\n",
    "        MiddleMove = Move(n, 'Right')\n",
    "        CenterMove = ToH_To_Center_Nomem(n-1)\n",
    "        return CenterMove + [MiddleMove] + rev_list(CenterMove)"
   ]
  },
  {
   "cell_type": "code",
   "execution_count": 67,
   "metadata": {},
   "outputs": [
    {
     "data": {
      "text/plain": [
       "True"
      ]
     },
     "execution_count": 67,
     "metadata": {},
     "output_type": "execute_result"
    }
   ],
   "source": [
    "# Test Cell: The contemt of the no memoization version is the same as that of the original, memomized verion.\n",
    "all([ToH_Move_Left_Nomem(i) == ToH_Move_Left(i) for i in range(1, 9)])"
   ]
  },
  {
   "cell_type": "code",
   "execution_count": 68,
   "metadata": {},
   "outputs": [
    {
     "name": "stdout",
     "output_type": "stream",
     "text": [
      "289 ns ± 19.2 ns per loop (mean ± std. dev. of 7 runs, 1000000 loops each)\n",
      "4.59 ms ± 891 µs per loop (mean ± std. dev. of 7 runs, 100 loops each)\n"
     ]
    }
   ],
   "source": [
    "%timeit ToH_Move_Left(12)\n",
    "%timeit ToH_Move_Left_Nomem(12)"
   ]
  },
  {
   "cell_type": "code",
   "execution_count": 69,
   "metadata": {},
   "outputs": [
    {
     "data": {
      "text/plain": [
       "True"
      ]
     },
     "execution_count": 69,
     "metadata": {},
     "output_type": "execute_result"
    }
   ],
   "source": [
    "all([ToH_NoWrap_Move_Left_Nomem(i) == ToH_NoWrap_Move_Left(i) for i in range(1, 9)])"
   ]
  },
  {
   "cell_type": "code",
   "execution_count": 70,
   "metadata": {},
   "outputs": [
    {
     "name": "stdout",
     "output_type": "stream",
     "text": [
      "277 ns ± 13.4 ns per loop (mean ± std. dev. of 7 runs, 1000000 loops each)\n",
      "524 ms ± 23.1 ms per loop (mean ± std. dev. of 7 runs, 1 loop each)\n"
     ]
    }
   ],
   "source": [
    "%timeit ToH_NoWrap_Move_Left(12) \n",
    "%timeit ToH_NoWrap_Move_Left_Nomem(12) "
   ]
  },
  {
   "cell_type": "code",
   "execution_count": 71,
   "metadata": {},
   "outputs": [
    {
     "data": {
      "text/plain": [
       "True"
      ]
     },
     "execution_count": 71,
     "metadata": {},
     "output_type": "execute_result"
    }
   ],
   "source": [
    "all([ToH_Bicolor_Solve_Nomem(i) == ToH_Bicolor_Solve(i) for i in range(2, 12, 2)])"
   ]
  },
  {
   "cell_type": "code",
   "execution_count": 72,
   "metadata": {},
   "outputs": [
    {
     "name": "stdout",
     "output_type": "stream",
     "text": [
      "210 ns ± 5.56 ns per loop (mean ± std. dev. of 7 runs, 1000000 loops each)\n",
      "3.51 ms ± 132 µs per loop (mean ± std. dev. of 7 runs, 100 loops each)\n"
     ]
    }
   ],
   "source": [
    "%timeit ToH_Bicolor_Solve(12)\n",
    "%timeit ToH_Bicolor_Solve_Nomem(12)"
   ]
  },
  {
   "cell_type": "markdown",
   "metadata": {},
   "source": [
    "As seen, as $n$ increases, the run time for no memoization dramatically increases, but with memoization, the running time can be kept to around $200$ nanoseconds."
   ]
  },
  {
   "cell_type": "markdown",
   "metadata": {},
   "source": [
    "<a id='Conc'></a>\n",
    "## Conclusion "
   ]
  },
  {
   "cell_type": "markdown",
   "metadata": {},
   "source": [
    "Throughout the project, we have explained the complex topic of fractals and we have seen examples of how mathematical concepts like recursion can be implemented using various computational techniques. As Mandelbrot himself [(Benoît Mandelbrot, 1983)](#M1983) put it:\n",
    "\n",
    "> *“Fractals Geometry reveals that some of the most austerely formal chapters of mathematics had a hidden face: a world of pure plastic beauty unsuspected till now.”*\n",
    ">\n",
    "> Benoît Mandelbrot, 1983"
   ]
  },
  {
   "cell_type": "markdown",
   "metadata": {},
   "source": [
    "<a id='Bib'></a>\n",
    "## References and Bibilography"
   ]
  },
  {
   "cell_type": "markdown",
   "metadata": {},
   "source": [
    "<a id='Chen2015'></a> Chen, Y.L. (2015). *Efficient Algorithm for Tower of Hanoi Variation*. [online] Stack Overflow. Available at: https://stackoverflow.com/questions/32463594/efficient-algorithm-for-tower-of-hanoi-variation [Accessed 3 May 2022].\n",
    "\n",
    "<a id='Falconer1990'></a> Falconer, K.J. (1990). *Fractal Geometry*. Wiley.\n",
    "\n",
    "<a id='HKP2018'></a> Hinz, A.M., Klavzar, S. and Petr, C. (2018). *The Tower of Hanoi - Myths and Maths*. [online] Cham: Springer International Publishing. Available at: https://link.springer.com/content/pdf/10.1007/978-3-319-73779-9.pdf [Accessed 3 Apr. 2022].\n",
    "\n",
    "<a id='Leung2021'></a> Leung, D. (2021). *Understanding Interfaces in Go*. [online] Duncanleung.com. Available at: https://duncanleung.com/understand-go-golang-interfaces/ [Accessed 17 Apr. 2022].\n",
    "\n",
    "<a id='M1980'></a> Mandelbrot, B.B. (1980). FRACTAL ASPECTS OF THE ITERATION OF $z → \\lambda z(1- z)$ FOR COMPLEX $\\lambda$ AND $z$. *Annals of the New York Academy of Sciences*, [online] 357(1), pp.249–259. doi:10.1111/j.1749-6632.1980.tb29690.x.\n",
    "\n",
    "<a id='M1983'></a> Mandelbrot, B.B. (1983). *The Fractal Geometry of Nature*. New York: W.H. Freeman and Company.\n",
    "\n",
    "<a id='M1999'></a> Mandelbrot, B.B. and Frame, M. (1999). The Canopy and Shortest Path in a Self-Contacting Fractal Tree. *The Mathematical Intelligencer*, 21(2), pp.18–27. doi:10.1007/bf03024842.\n",
    "\n",
    "<a id='PSF2022'></a> Python Software Foundation (2022). *9. Classes - Python 3.10.4 Documentation*. [online] Python.org. Available at: https://docs.python.org/3/tutorial/classes.html [Accessed 3 Apr. 2022].\n",
    "\n",
    "<a id='RUP2008'></a> Rubio-Sánchez, M., Urquiza-Fuentes, J. and Pareja-Flores, C. (2008). A Gentle Introduction to Mutual Recursion. *Proceedings of the 13th Annual Conference on Innovation and Technology in Computer Science Education*, 2008(June). doi:10.1145/1384271.1384334.\n",
    "\n",
    "<a id='PyGame_Intro'></a> Shinners, P. (2021). *Pygame Intro — Pygame v2.1.1 Documentation*. [online] Pygame.org. Available at: http://www.pygame.org/docs/tut/PygameIntro.html [Accessed 5 May 2022].\n",
    "\n",
    "<a id='Wiki'></a> Wikipedia Contributors (2022). *Tower of Hanoi*. [online] Wikipedia. Available at: https://en.wikipedia.org/wiki/Tower_of_Hanoi#cite_ref-8 [Accessed 9 May 2022].\n"
   ]
  }
 ],
 "metadata": {
  "interpreter": {
   "hash": "deb4792152b8b9767403eeef0a1b0f34b83d442136ccee9184cd7d1131f09aa0"
  },
  "kernelspec": {
   "display_name": "Python 3",
   "language": "python",
   "name": "python3"
  },
  "language_info": {
   "codemirror_mode": {
    "name": "ipython",
    "version": 3
   },
   "file_extension": ".py",
   "mimetype": "text/x-python",
   "name": "python",
   "nbconvert_exporter": "python",
   "pygments_lexer": "ipython3",
   "version": "3.8.8"
  }
 },
 "nbformat": 4,
 "nbformat_minor": 2
}
