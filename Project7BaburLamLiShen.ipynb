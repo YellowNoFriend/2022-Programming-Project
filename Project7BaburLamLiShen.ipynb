{
 "cells": [
  {
   "cell_type": "markdown",
   "metadata": {},
   "source": [
    "# MATH20014 Mathematical Programming: Group 3 Project Submission \n",
    "\n",
    "Group Members: Hamad Babur, Ryan Lam, Jiawei Li, Sherry Shen \n"
   ]
  },
  {
   "cell_type": "markdown",
   "metadata": {},
   "source": [
    "## Table of Contents\n",
    "\n",
    "- [Introduction](#Intro)\n",
    "- Part A: [Introduction to `PyGame`](#PartA)\n",
    "    - Section 1: [Animating Ball Motion](#S1)\n",
    "    - Section 2: [Sierpenski Triangle](#S2)\n",
    "    - Section 3: [Fractals and Trees](#S3)\n",
    "- Part B: [Applications of `Pygame`](#PartB)\n",
    "    - Section 4: [Julia and Mandelbrot Sets](#S4)\n",
    "        - 4.1: [Animation of Julia Sets](#S4.1)\n",
    "        - 4.2: [Animation of Mandelbrot Sets](#S4.2)\n",
    "    - Section 5: [Tower of Hanoi](#S5)\n",
    "        - 5.1 [Definitions and Objectives](#S5.1)\n",
    "        - 5.2 [Producing a Solution](#S5.2)\n",
    "        - 5.3 [Identifying Valid Moves](#S5.3)\n",
    "        - 5.4 [Animation of the Puzzles](#S5.4)\n",
    "        - 5.5 [Extensions](#S5.5)\n",
    "- [Conclusion](#Conc)\n",
    "- [References and Bibilography](#Bib)"
   ]
  },
  {
   "cell_type": "markdown",
   "metadata": {},
   "source": [
    "## Introduction <a name='Intro'></a>\n"
   ]
  },
  {
   "cell_type": "markdown",
   "metadata": {},
   "source": [
    "Recursion is one of the most powerful tools in programming. It is not only a rather intuitive mathematical concept, but it is also easy to implement in any programming language. \n",
    "\n",
    "In this Python project, we shall both visually and mathematically appreciate the power of recursion.  We shall focus on a set of modules collectively known as `PyGame` [(Shinners, 2021)](#PyGame_Intro). They provide a concise way for us to produce interactive animations within Python. \n",
    "\n",
    "The language of recursion naturally leads to the study of *fractals*, that is, self-repeating patterns and geometric objects. As we shall see later, a lot of patterns in nature are also closely related to fractals. \n"
   ]
  },
  {
   "cell_type": "markdown",
   "metadata": {},
   "source": [
    "The first part of the project consists of three short parts, aiming to understand the power of the `PyGame` module. \n",
    "\n",
    "Firstly, in section 1, we shall introduce and develop a simple PyGame animation function bouncing_ball, in which one or more balls bounce in a square box in two dimensions with various constraints. \n",
    "\n",
    "In section 2, we shall introduce fractals through the Sierpinski triangle and make an animation of how the Sierpinski triangles are produced. \n",
    "\n",
    "In section 3, we shall explore a particular construction and animation of a recursively defined “tree”. "
   ]
  },
  {
   "cell_type": "markdown",
   "metadata": {},
   "source": [
    "The second part of the project shall focus on some interesting applications when we shall integrate PyGame with different programming techniques. \n",
    "\n",
    "In section 4, we shall look at Julia sequences and we shall animate the Julia set as a transition from one picture to another. In addition to this, we shall look at Mandelbrot sequences, and then we shall create a program that zooms in and out of the Mandelbrot set. \n",
    "\n",
    "Finally, in section 5, we shall explore a classical puzzle - the Tower of Hanoi. We shall briefly look at the solution, the animation, and other time complexity issues."
   ]
  },
  {
   "cell_type": "code",
   "execution_count": 1,
   "metadata": {},
   "outputs": [
    {
     "name": "stdout",
     "output_type": "stream",
     "text": [
      "pygame 2.1.2 (SDL 2.0.18, Python 3.9.7)\n",
      "Hello from the pygame community. https://www.pygame.org/contribute.html\n"
     ]
    }
   ],
   "source": [
    "# Required Imports:\n",
    "import pygame, os, timeit\n",
    "import matplotlib.pyplot as plt\n",
    "import numpy as np"
   ]
  },
  {
   "cell_type": "markdown",
   "metadata": {},
   "source": [
    "<a id='PartA'></a>\n",
    "## Part A: Introduction to `PyGame`\n"
   ]
  },
  {
   "cell_type": "markdown",
   "metadata": {},
   "source": [
    "In this part, we shall demonstrate animating and drawing in PyGame, which is very useful for our applications in [part B](#PartB)."
   ]
  },
  {
   "cell_type": "markdown",
   "metadata": {},
   "source": [
    "<a id='S1'></a>\n",
    "### Section 1: Animating Ball Motion \n"
   ]
  },
  {
   "cell_type": "markdown",
   "metadata": {},
   "source": [
    "In this section, we will include some brief code to outline the main functionality of PyGame.\n",
    "For this, recall that we are given a pygame animation function bouncing_ball, and we will further develop it such that:\n",
    "\n",
    "1.\tThe user should be able to change the original position of the ball and should be able to change the speed of the ball.\n",
    "2.\tThe ball should slow down under the effect of gravity.\n",
    "3.\tTwo or more balls bounce within the same square (and of one another).\n"
   ]
  },
  {
   "cell_type": "markdown",
   "metadata": {},
   "source": [
    "To do this, we can utilize the power of classes in Python. We can observe that intuitively, a moving ball should have a size, its current position and its current velocity, and we can make the following definition:\n"
   ]
  },
  {
   "cell_type": "code",
   "execution_count": 2,
   "metadata": {},
   "outputs": [],
   "source": [
    "class Ball(object):\n",
    "    '''\n",
    "    The class Ball encapsulate all the information needed to \n",
    "    draw a ball on the PyGame module.\n",
    "    '''\n",
    "    def __init__(self, x, y, x_step, y_step, size=50):\n",
    "        '''\n",
    "        Initialization of the class Ball. \n",
    "        (x, y) - the coordinate relative to the screen, \n",
    "        both of them are float from 0 to 1.\n",
    "        (x_step, y_step) - the velocity of the ball (pixel per frame).\n",
    "        size - optional argument, size of the ball.\n",
    "        '''\n",
    "        self.x = x\n",
    "        self.y = y\n",
    "        self.x_step = x_step\n",
    "        self.y_step = y_step\n",
    "        self.size = size"
   ]
  },
  {
   "cell_type": "markdown",
   "metadata": {},
   "source": [
    "Note that we set the attribute `size` as optional, as this would simplify the initialization of the object a bit.\n",
    "\n",
    "Now we are ready to adapt the function `bouncing_ball` into `bouncing_ball_ext` such that gravity is implemented for one bouncing ball. \n",
    "\n",
    "Note that in `Pygame`, a coordinate grid is implemented. And the $y$-axis $y=0$ is at the top of the screen, that’s why when gravity is negative, the ball slows down at the top."
   ]
  },
  {
   "cell_type": "markdown",
   "metadata": {},
   "source": [
    "Before we create a function that animates a Julia set, we need to create a \"recipe\" for the function.\n",
    "\n",
    "\n",
    "> **Note:** A click of a mouse button or pressing of a keyboard button consists of the following two actions.\n",
    "> 1. Pressing down on a button, and\n",
    ">\n",
    "> 2. Releasing a button.\n",
    ">\n",
    "> Both of these are stipulated by different events in PyGame.\n",
    "\n",
    "We shall only be using the first action described in Definition 6.1 to describe a press of the keyboard in this particular function. This is because, for this function, the only time the keyboard is used is when a button/key is being pressed.\n",
    "\n",
    "Firstly, the program needs to load the files, and we have a function called `julia_export` to do this. Then we need to initialise PyGame with an appropriate screen size and set the time clock. Then, we need to load the first picture, and wait for a few seconds and then load the next picture, and this goes on until the last picture. Then we need to add in extra features like pausing and speeding up and down the animation. The steps below describe on what the program should do in detail.\n",
    "\n",
    "> 1. Export images using julia_export.\n",
    ">\n",
    "> 2. Configure screen size and colour as tuples, and store the clock time in a variable.\n",
    ">\n",
    "> 3. Initialise Pygame, and set the program window using the screen size tuple used earlier and the title.\n",
    ">\n",
    "> 4. Load the picture JuliaPic1.png above a white background and strech it to the program window.\n",
    ">\n",
    "> 5. Use the current speed factor and the clock time to wait for a specified amount of time, and then load the next picture, replacing the current picture.\n",
    ">\n",
    "> 6. Repeat Step 5 until the last image loads, then go back to the first image and go back to Step 5.\n",
    "\n",
    "In addition to this, the program needs to know how to stop the animation, speed up the animation and slow down the animation. In order to do this, we shall use the following principles:\n",
    "\n",
    "> - If the user initiates the exit sequence, stop running the program and quit the PyGame window.\n",
    ">\n",
    "> - If the user presses the Space button, load the current picture rather than loading the next picture in Step 5 to create a static image.\n",
    ">\n",
    "> - If the user presses the Up Arrow button, increase the speed factor to speed up Step 5 and as a result, this speeds up the animation.\n",
    ">\n",
    "> - If the user presses the Down Arrow button, decrease the speed factor to slow down Step 5 and as a result, this slows down the animation.\n",
    "\n",
    "Using the aforementioned \"recipe\", we shall now create a function that animates the\n",
    " Julia set.\n"
   ]
  },
  {
   "cell_type": "code",
   "execution_count": 3,
   "metadata": {},
   "outputs": [],
   "source": [
    "def bouncing_ball_ext(ball, speed_factor=5,gravity=9.81):\n",
    "    '''\n",
    "    Play a bouncing ball animation according to the inputs:\n",
    "    Inputs:\n",
    "    ball - an object from the class Ball\n",
    "    speed_factor - the frames per second of animation\n",
    "    gravity - the drag factor affecting the motion of the ball (positive is upwards)\n",
    "    (N.B., gravity = 0 corresponds to no gravity, obviously)\n",
    "    Output: None\n",
    "    '''\n",
    "    # Required variables, x0, y0 is the starting coordinate of the ball\n",
    "    screen_size = (screen_width, screen_height) = (1080, 800)\n",
    "    white = (255,255,255)\n",
    "    x0, y0 = (screen_width - ball.size)*ball.x, (screen_height - ball.size)*ball.y\n",
    "    g = -gravity\n",
    "    # Used for the pause time in the animation while loop below\n",
    "    frames_per_second = 10 + 10*speed_factor\n",
    "    clock = pygame.time.Clock()\n",
    "    # Set up the animation     \n",
    "    pygame.init()\n",
    "    screen = pygame.display.set_mode(screen_size)\n",
    "    # Titles and Instructions\n",
    "    caption = f'Bouncing Ball with Two Balls with gravity factor {-gravity}'\n",
    "    caption += '                              '\n",
    "    caption += '(Keystroke:  \\'Space\\' to start or pause, \\'ArrowUp/ArrowDown\\' to speed up/down)'\n",
    "    pygame.display.set_caption(caption)\n",
    "    # Load the image\n",
    "    ball_fig = pygame.image.load(\"intro_ball.gif\")\n",
    "    ball_fig = pygame.transform.scale(ball_fig, (ball.size, ball.size))\n",
    "    # Assign an pygame.Rect object to the ball\n",
    "    ball_rect = pygame.Rect(x0,y0,ball.size,ball.size)\n",
    "    # Initalize the Screen\n",
    "    screen.fill(white)\n",
    "    screen.blit(ball_fig, ball_rect)\n",
    "    pygame.display.flip()\n",
    "    # Variable to detect change\n",
    "    keep_running = True\n",
    "    move_ball = False\n",
    "    # Animation loop \n",
    "    while keep_running:\n",
    "        # If a keyboard event happens register it... \n",
    "        for event in pygame.event.get():\n",
    "            if event.type == pygame.QUIT:\n",
    "                keep_running = False\n",
    "            # Start/Stop Animation\n",
    "            elif event.type == pygame.KEYDOWN and event.key == pygame.K_SPACE:\n",
    "                move_ball = not move_ball\n",
    "            # Speed change if ArrowUp/ArrowDown is pressed\n",
    "            elif event.type == pygame.KEYDOWN and event.key == pygame.K_UP:\n",
    "                frames_per_second = (4/3)* frames_per_second\n",
    "            elif event.type == pygame.KEYDOWN and event.key == pygame.K_DOWN:\n",
    "                frames_per_second = 0.75 * frames_per_second\n",
    "        if move_ball:\n",
    "            # Move the ball a step under gravity\n",
    "            ball.y_step += g/(frames_per_second)\n",
    "            ball_rect.x += ball.x_step\n",
    "            ball_rect.y += ball.y_step\n",
    "            if ball_rect.left < 0 or ball_rect.right > screen_width:\n",
    "                ball.x_step = - ball.x_step\n",
    "            if ball_rect.top < 0 or ball_rect.bottom > screen_height:\n",
    "                ball.y_step = - ball.y_step\n",
    "        # Redraw and update the screen\n",
    "        screen.fill(white)\n",
    "        screen.blit(ball_fig, ball_rect)\n",
    "        pygame.display.flip()\n",
    "        clock.tick(frames_per_second)\n",
    "    pygame.quit()\n",
    "    return None "
   ]
  },
  {
   "cell_type": "markdown",
   "metadata": {},
   "source": [
    "We can test our function using one instance of our class `Ball`."
   ]
  },
  {
   "cell_type": "code",
   "execution_count": 4,
   "metadata": {},
   "outputs": [],
   "source": [
    "# A ball positioned at the middle, with velocity (1.2, 3).\n",
    "ballA = Ball(0.5, 0.5, 1.2, 3)\n",
    "bouncing_ball_ext(ballA)"
   ]
  },
  {
   "cell_type": "markdown",
   "metadata": {},
   "source": [
    "Next, we can implement collision between two balls. \n",
    "\n",
    "We assume every collision is *elastic*, that is,  we only have to exchange the velocity between the two balls when a collision is detected."
   ]
  },
  {
   "cell_type": "code",
   "execution_count": 5,
   "metadata": {},
   "outputs": [],
   "source": [
    "def bouncing_ball_two(ball1, ball2, speed_factor=5,gravity=9.81):\n",
    "    '''\n",
    "    Play an animation similar to bouncing_ball with two balls with elastic collision between the balls.\n",
    "    The input (and code, actually) are similar with an extra parameter ball2 in the Class Ball.\n",
    "    '''\n",
    "    # Required variables, x0, y0 is the starting coordinate of the ball\n",
    "    screen_size = (screen_width, screen_height) = (1080, 800)\n",
    "    white = (255,255,255)\n",
    "    x0, y0 = (screen_width - ball1.size)*ball1.x, (screen_height - ball1.size)*ball1.y\n",
    "    x1, y1 = (screen_width - ball1.size)*ball2.x, (screen_height - ball2.size)*ball2.y\n",
    "    g = -gravity\n",
    "    # Used for the pause time in the animation while loop below\n",
    "    frames_per_second = 10 + 10*speed_factor\n",
    "    clock = pygame.time.Clock()\n",
    "    # Set up the animation     \n",
    "    pygame.init()\n",
    "    screen = pygame.display.set_mode(screen_size)\n",
    "    # Titles and Instructions\n",
    "    caption = f'Bouncing Ball with Two Balls with gravity factor {-gravity}'\n",
    "    caption += '                              '\n",
    "    caption += '(Keystroke:  \\'Space\\' to start or pause)'\n",
    "    pygame.display.set_caption(caption)\n",
    "    # Load the image and rescale\n",
    "    ball1_fig = pygame.image.load(\"intro_ball1.gif\")\n",
    "    ball1_fig = pygame.transform.scale(ball1_fig, (ball1.size, ball1.size))\n",
    "    ball1_rect = pygame.Rect(x0,y0,ball1.size,ball1.size)\n",
    "    ball2_fig = pygame.image.load(\"intro_ball2.gif\")\n",
    "    ball2_fig = pygame.transform.scale(ball2_fig, (ball2.size, ball2.size))\n",
    "    ball2_rect = pygame.Rect(x1,y1,ball2.size,ball2.size)\n",
    "    # Initalize the Screen\n",
    "    screen.fill(white)\n",
    "    screen.blit(ball1_fig, ball1_rect)\n",
    "    screen.blit(ball2_fig, ball2_rect)\n",
    "    pygame.display.flip()\n",
    "    # Variable to detect change\n",
    "    keep_running = True\n",
    "    move_ball = False\n",
    "    # Animation loop \n",
    "    while keep_running:\n",
    "        # Keyboard Event: Quit Button and Space to Start/Stop\n",
    "        for event in pygame.event.get():\n",
    "            if event.type == pygame.QUIT:\n",
    "                keep_running = False\n",
    "            elif event.type == pygame.KEYDOWN and event.key == pygame.K_SPACE:\n",
    "                move_ball = not move_ball\n",
    "            # Speed change if ArrowUp/ArrowDown is pressed\n",
    "            elif event.type == pygame.KEYDOWN and event.key == pygame.K_UP:\n",
    "                frames_per_second = (4/3)* frames_per_second\n",
    "            elif event.type == pygame.KEYDOWN and event.key == pygame.K_DOWN:\n",
    "                frames_per_second = 0.75 * frames_per_second\n",
    "        if move_ball:\n",
    "            ball1.y_step += g/(frames_per_second)\n",
    "            ball2.y_step += g/(frames_per_second)\n",
    "            # Move the ball a step and Screen Border Detection\n",
    "            ball1_rect.x += ball1.x_step\n",
    "            ball1_rect.y += ball1.y_step\n",
    "            if ball1_rect.left < 0 or ball1_rect.right > screen_width:\n",
    "                ball1.x_step = - ball1.x_step\n",
    "            if ball1_rect.top < 0 or ball1_rect.bottom > screen_height:\n",
    "                ball1.y_step = - ball1.y_step\n",
    "            ball2_rect.x += ball2.x_step\n",
    "            ball2_rect.y += ball2.y_step\n",
    "            if ball2_rect.left < 0 or ball2_rect.right > screen_width:\n",
    "                ball2.x_step = - ball2.x_step\n",
    "            if ball2_rect.top < 0 or ball2_rect.bottom > screen_height:\n",
    "                ball2.y_step = - ball2.y_step\n",
    "            # Collision Detection \n",
    "            collide = ball1_rect.colliderect(ball2_rect)\n",
    "            if collide:\n",
    "                # If they collide, the velocity of the two balls exchange\n",
    "                copy_ball1 = ball1\n",
    "                ball1 = Ball(ball2.x, ball2.y, ball2.x_step, ball2.y_step)\n",
    "                ball2 = Ball(copy_ball1.x, copy_ball1.y, copy_ball1.x_step , copy_ball1.y_step) \n",
    "        # Redraw and reinitiate              \n",
    "        screen.fill(white)\n",
    "        screen.blit(ball1_fig, ball1_rect)\n",
    "        screen.blit(ball2_fig, ball2_rect)\n",
    "        pygame.display.flip()\n",
    "        clock.tick(frames_per_second)\n",
    "    pygame.quit()\n",
    "    return None "
   ]
  },
  {
   "cell_type": "code",
   "execution_count": 6,
   "metadata": {},
   "outputs": [],
   "source": [
    "# Testing Cell\n",
    "ballA = Ball(0.5, 0.5, 1.2, 3, 70)\n",
    "ballB = Ball(0.5, 0.2, 1, -5, 100)\n",
    "bouncing_ball_two(ballA, ballB, gravity =0, speed_factor =20)"
   ]
  },
  {
   "cell_type": "markdown",
   "metadata": {},
   "source": [
    "<a id='S2'></a>\n",
    "### Section 2: Sierpenski Triangle \n"
   ]
  },
  {
   "cell_type": "markdown",
   "metadata": {},
   "source": [
    "Animating fractal constructions gives us a direct insight into how the function generating the fractal operates recursively. A typical example is the *Sierpinski Triangle*. It is a self-similar fractal, for which can be created by starting with one large, equilateral triangle, and then repeatedly cutting smaller triangles out of its centre. Interested readers are referred to (Falconer, 1990) for details. "
   ]
  },
  {
   "cell_type": "markdown",
   "metadata": {},
   "source": [
    "We are given a simple `PyGame` animation `draw_sierpinski`. Note that this function depends on `make_sierpinski`, which calls on itself using depth-1 recursively. Similar constructs shall appear in our next section while drawing a recursive tree as well."
   ]
  },
  {
   "cell_type": "code",
   "execution_count": null,
   "metadata": {},
   "outputs": [],
   "source": []
  },
  {
   "cell_type": "markdown",
   "metadata": {},
   "source": [
    "We shall improve and develop on this basis to meet the following three conditions:\n",
    "\n",
    "1.\tThe user can be able to choose the depth of the triangle and stop and start the animation.\n",
    "2.\tThe user is also able to change the speed of the animation.\n",
    "3.\tAdding colours (in RGB value) to the triangles and the background.\n"
   ]
  },
  {
   "cell_type": "code",
   "execution_count": null,
   "metadata": {},
   "outputs": [],
   "source": []
  },
  {
   "cell_type": "markdown",
   "metadata": {},
   "source": [
    "An interactive version for testing is given below:"
   ]
  },
  {
   "cell_type": "markdown",
   "metadata": {},
   "source": [
    "<a id='S3'></a>\n",
    "### Section 3: Fractals and Trees "
   ]
  },
  {
   "cell_type": "markdown",
   "metadata": {},
   "source": [
    "In this section, we shall visualize constructing a fractal tree as outlined in Chapter 16 of (Mandelbrot, 1983). \n",
    "\n",
    "We shall first outline how we are going to construct a **tree of depth $n$** for any non-negative integer $n$. \n",
    "\n",
    "We start with a straight line called a **trunk at depth 0**.  The trunk splits into three lines, which we call **branches**. The left branch and right branch make an angle $\\theta$ with the central branch, which is constructed by extending the trunk at depth 0. Then, all three branches can be considered as a **trunk of depth 1**, and each of them can split into three branches (i.e. trunk at depth 2) and so on. \n",
    "\n",
    "TODO: What is a tree?\n",
    "\n",
    "Note that we employ a recursive definition of the tree, and the tree should have $3^n$ trunks.\n"
   ]
  },
  {
   "cell_type": "markdown",
   "metadata": {},
   "source": [
    "Then, we shall use `PyGame` to create an animation of drawing the recursive tree. Meanwhile, four conditions need to be satisfied, and this is of the following:\n",
    "\n",
    "1.\tUsers should be able to change the depth of the tree.\n",
    "\n",
    "2.\tUsers should be able to start and stop the tree.\n",
    "\n",
    "3.\tThe leaves should be coloured green and the trunk should be coloured brown.\n",
    "\n",
    "4.\tUsers should be able to change the speed of drawing the tree.\n"
   ]
  },
  {
   "cell_type": "code",
   "execution_count": null,
   "metadata": {},
   "outputs": [],
   "source": []
  },
  {
   "cell_type": "markdown",
   "metadata": {},
   "source": [
    "<a id='PartB'></a>\n",
    "## Part B: Applications of `PyGame` "
   ]
  },
  {
   "cell_type": "markdown",
   "metadata": {},
   "source": [
    "In this part, we shall focus on two major applications of `PyGame`, namely exploring complex function dynamics in section 4, and a famous recreational puzzle in section 5."
   ]
  },
  {
   "cell_type": "markdown",
   "metadata": {},
   "source": [
    "<a id='S4'></a>\n",
    "### Section 4: Julia and Mandelbrot Sets "
   ]
  },
  {
   "cell_type": "markdown",
   "metadata": {},
   "source": [
    "TODO: Add introduction before parts.\n"
   ]
  },
  {
   "cell_type": "markdown",
   "metadata": {},
   "source": [
    "We shall fix a parameter $j_p \\in \\mathbb{C}$. Hence, the **Julia set with parameter $\\mathit{j_p}$** is defined as the values of $c$ for which the following recurrence relation is bounded for all $(z_n)_{n \\geq 0}$:\n",
    "\n",
    "$$\n",
    "z_0 = c  \\quad \\text{and} \\quad z_n = z_{n-1}^2 + j_p, \\quad \\text{for } n = 1,2,3,\\dots\n",
    "$$\n",
    "\n",
    "We say that $(z_n)_{n \\geq 0}$ is the Julia sequence with parameter $j_p$ induced by $c$. From this, we can see that $(z_n)_{n \\geq 0}$ only relies on $c$ and the fixed parameter $j_p$."
   ]
  },
  {
   "cell_type": "markdown",
   "metadata": {},
   "source": [
    "Firstly, need to know as to what a Mandelbrot set is. The **Mandelbrot set** is defined as the values of $c$ for which the following recurrence relation is bounded for all $(z_n)_{n \\geq 0}$:\n",
    "\n",
    "$$\n",
    "z_0 = 0  \\quad \\text{and} \\quad z_n = z_{n-1}^2 + c, \\quad \\text{for } n = 1,2,3,\\ldots\n",
    "$$\n",
    "\n",
    "We say that $(z_n)_{n \\geq 0}$ is the Mandelbrot sequence induced by $c$. From this, we can see that $(z_n)_{n \\geq 0}$ only relies on $c$."
   ]
  },
  {
   "cell_type": "markdown",
   "metadata": {},
   "source": [
    "<a id='S4.1'></a> \n",
    "#### 4.1 Animation of Julia Sets\n"
   ]
  },
  {
   "cell_type": "markdown",
   "metadata": {},
   "source": [
    "Firstly, we shall look at Julia sets and animate images of Julia sets as transistioning slides."
   ]
  },
  {
   "cell_type": "markdown",
   "metadata": {},
   "source": [
    "We shall now create a function `julia` that calculates the largest term `n_max` for which each term $z_n$ of the corresponding Julia sequence with parameter $j_p$ induced by $c$ is bounded by $2$, otherwise the sequence $(z_n)_{n \\geq 0}$ diverges as $n$ tends to infinity. To avoid long processing times, we shall set a maximum number of terms `max_n` that is looped through in the function and if it is reached, the function returns the value of `max_n`."
   ]
  },
  {
   "cell_type": "code",
   "execution_count": 7,
   "metadata": {},
   "outputs": [],
   "source": [
    "def julia(j_p, c, max_n):\n",
    "    '''\n",
    "    The julia function calculates the largest number n_max\n",
    "    for which each term z_n of the corresponding Julia sequence\n",
    "    with parameter j_p induced by c is bounded by 2. \n",
    "    '''\n",
    "    # Set the \"zeroth\" term as c.\n",
    "    z = c\n",
    "    # Set the largest number as 0.\n",
    "    n_max = 0\n",
    "    # Iterate until term is not bounded by 2.\n",
    "    while abs(z) <= 2:\n",
    "        # Derive the next term of the sequence from the current term.\n",
    "        z = (z ** 2) + j_p\n",
    "        # Increment the largest number n_max by 1.\n",
    "        n_max += 1\n",
    "        # Break the loop early when the largest number n_max reaches \n",
    "        # the maximum number of iterations max_n.\n",
    "        if n_max == max_n:\n",
    "            break\n",
    "    # Return the value of the largest number n_max.   \n",
    "    return n_max"
   ]
  },
  {
   "cell_type": "markdown",
   "metadata": {},
   "source": [
    "We shall now create data for our Julia set. In order to do this, we need to create vectors `x_vector` and `y_vector` in order to create grid matrices `x_matrix` and `y_matrix` as input matricies. The vectors must be a number `c_intervals` of equally spaced intervals between the values `c_min` and `c_max`. \n",
    "\n"
   ]
  },
  {
   "cell_type": "markdown",
   "metadata": {},
   "source": [
    "We shall create the following function that takes a number `c_intervals` of equally spaced intervals between the values `c_min` and `c_max` and calculates `x_matrix` and `y_matrix`, and inputs the matrices into the `julia` function to create an output matrix `z_matrix`. In order to generate data needed for the set, we need `x_matrix`, `y_matrix` and `z_matrix`."
   ]
  },
  {
   "cell_type": "code",
   "execution_count": 8,
   "metadata": {},
   "outputs": [],
   "source": [
    "def julia_data(j_p, max_n, c_min, c_max, c_intervals):\n",
    "    '''\n",
    "    The julia_data function calculates the matrices \n",
    "    required for graphing the julia function.\n",
    "    '''\n",
    "    # Calculate the vectors required for the two matrices required for input.\n",
    "    x_vector = np.linspace(c_min, c_max, c_intervals)\n",
    "    y_vector = np.linspace(c_min, c_max, c_intervals)\n",
    "    x_matrix, y_matrix = np.meshgrid(x_vector, y_vector)\n",
    "    # Create a zero output matrix with the same dimensions as the input matrices.\n",
    "    z_rows, z_cols = np.shape(x_matrix)\n",
    "    z_matrix = np.zeros((z_rows, z_cols), dtype = int)\n",
    "    # Calculate every element of the output matrix for every \n",
    "    # element in the input matrix using the julia function.\n",
    "    for i in range(c_intervals):\n",
    "        for j in range(c_intervals):\n",
    "            c = x_matrix[i, j] + y_matrix[i, j] * 1j\n",
    "            z_matrix[i, j] = julia(j_p, c, max_n)\n",
    "    return x_matrix, y_matrix, z_matrix"
   ]
  },
  {
   "cell_type": "markdown",
   "metadata": {},
   "source": [
    "We shall create a folder, so that we can export the images into an appropriate directory entitled \"JULIA_GRAPHS\"."
   ]
  },
  {
   "cell_type": "code",
   "execution_count": 9,
   "metadata": {},
   "outputs": [
    {
     "data": {
      "text/plain": [
       "1"
      ]
     },
     "execution_count": 9,
     "metadata": {},
     "output_type": "execute_result"
    }
   ],
   "source": [
    "# Obtain the current working directory.\n",
    "currwd1 = str(os.getcwd())\n",
    "# Create a subdirectory within the current working directory using the system terminal.\n",
    "createdir1 = \"mkdir \\\"{}//JULIA_GRAPHS\\\"\".format(currwd1)\n",
    "os.system(createdir1)"
   ]
  },
  {
   "cell_type": "markdown",
   "metadata": {},
   "source": [
    "We shall now create a function that generates and exports the Julia set."
   ]
  },
  {
   "cell_type": "code",
   "execution_count": 10,
   "metadata": {},
   "outputs": [],
   "source": [
    "def julia_graphpic(j_p, max_n, c_min, c_max, c_intervals, \n",
    "plt_width, plt_height, filename):\n",
    "    '''\n",
    "    The julia_graphpic function creates a Julia graph and exports\n",
    "    the Julia graph as a picture with default resuloutions.\n",
    "    '''\n",
    "    # Calculate the two input matrices and one output matrix using the julia_data function.\n",
    "    x_matrix, y_matrix, z_matrix = julia_data(j_p, max_n, c_min, c_max, c_intervals)\n",
    "    # Produce a Julia graph from the given matrices without the axes.\n",
    "    plt.figure(figsize = (plt_width, plt_height))\n",
    "    plt.pcolor(x_matrix, y_matrix, z_matrix, cmap = 'plasma', vmin = 0, vmax = max_n, shading = \"auto\")\n",
    "    plt.axis(\"off\")\n",
    "    # Create a filepath directory string and export  \n",
    "    # the aforementioned Julia graph into the filepath directory.\n",
    "    currwd = os.getcwd()\n",
    "    filepath = str(currwd) + \"//JULIA_GRAPHS//{}.png\".format(filename)\n",
    "    plt.savefig(filepath, dpi = \"figure\", format = \"png\", bbox_inches = \"tight\", pad_inches = 0)\n",
    "    # To avoid too much memory being used up, close the active pyplot window.\n",
    "    plt.close()\n",
    "    return None"
   ]
  },
  {
   "cell_type": "markdown",
   "metadata": {},
   "source": [
    "Now, we shall create a function that exports `n_img` images from the Julia graph for $j_p = re^{ai}$, where $r$ is determined by the input of the function and $a$ is chosen at equally spaced intervals between `a_min` and `a_max`."
   ]
  },
  {
   "cell_type": "code",
   "execution_count": 11,
   "metadata": {},
   "outputs": [],
   "source": [
    "def julia_export(r, max_n, c_min, c_max, c_intervals, \n",
    "plt_width, plt_height, n_img, a_min, a_max, verbose = False):\n",
    "    '''\n",
    "    The julia_export function exports n_img number of images for \n",
    "    a Julia set with parameter j_p = re^{ai} where a is chosen\n",
    "    at equally spaced intervals between a_min and a_max.\n",
    "    '''\n",
    "    # Calculate the width of the intervals between a_min and a_max.\n",
    "    n_intervals = (a_max - a_min) / (n_img - 1)\n",
    "    # Iterate i n_img times, for which n_img is the number of images.\n",
    "    for i in range(n_img):\n",
    "        # Calculate a in between the intervals and calculate j_p.\n",
    "        a = a_min + (i * n_intervals)\n",
    "        j_p = r * np.exp(a * 1j)\n",
    "        # Create a filename and export an image of each Julia set.\n",
    "        filename = \"JuliaPic{}\".format(i + 1)\n",
    "        julia_graphpic(j_p, max_n, c_min, c_max, c_intervals, plt_width, plt_height, filename)\n",
    "        # If verbose is True, output the current progress line as an addendum.\n",
    "        if verbose:\n",
    "            print(\"Please wait while the images are being exported. {}% of all the images has now been exported.\".format(int((i + 1) / n_img * 100)), end = \"\\r\")\n",
    "    return None"
   ]
  },
  {
   "cell_type": "code",
   "execution_count": 12,
   "metadata": {},
   "outputs": [],
   "source": [
    "def julia_animation(r = 0.7885, max_n = 100, c_min = -2, c_max = 2, \n",
    "c_intervals = 200, plt_width = 14, plt_height = 12, n_img = 200, \n",
    "a_min = 0, a_max = 2 * np.pi, screen_w = 800, screen_h = 600, verbose = True):\n",
    "    '''\n",
    "    The julia_animation function creates a PyGame/SDL animation with\n",
    "    slides of images of the Julia graph with parameter j_p = re^{ai}, \n",
    "    where a is n_img - 1 equally spaced intervals between a_min and a_max.\n",
    "    The animation has a resolution width of screen_w pixels and height of\n",
    "    screen_h pixels.\n",
    "    '''\n",
    "    try:\n",
    "        julia_export(r, max_n, c_min, c_max, c_intervals, plt_width, plt_height, n_img, a_min, a_max, verbose)\n",
    "        if verbose:\n",
    "            print(\"\\nAll the images has now been exported. Starting Program...\")\n",
    "    except:\n",
    "        print(\"Error producing graphs!\")\n",
    "        return None\n",
    "    # Store the input screen size as a tuple.\n",
    "    screen_size = (screen_w, screen_h)\n",
    "    # Store colours as a RGB tuple.\n",
    "    white = (255, 255, 255)\n",
    "    # Set initial spped factor and load the time clock.\n",
    "    speed_factor = 1\n",
    "    clock = pygame.time.Clock()\n",
    "    # Initialise PyGame.\n",
    "    pygame.init()\n",
    "    if verbose:\n",
    "        print(\"Program has now initialised!\")\n",
    "    # Set the screen size and the title of the program.\n",
    "    screen = pygame.display.set_mode(screen_size)\n",
    "    title = \"Animation of Julia Sets\"\n",
    "    title += \"  \"\n",
    "    title += \"(Keystroke:  \\'Space\\' to start or pause, \\'Down\\' to speed up and \\'Up\\' to slow down.)\"\n",
    "    pygame.display.set_caption(title)\n",
    "    # Set the path of the Julia image and load the image to the correct size.\n",
    "    currwd = os.getcwd()\n",
    "    filename = str(currwd) + \"//JULIA_GRAPHS//JuliaPic1.png\"\n",
    "    julia = pygame.image.load(filename)\n",
    "    julia = pygame.transform.scale(julia, screen_size)\n",
    "    # Create a rectangle for the image to be loaded in.\n",
    "    julia_rect = pygame.Rect(0, 0, screen_w, screen_h)\n",
    "    # Fill the background white and initialise the the image into the program.\n",
    "    screen.fill(white)\n",
    "    screen.blit(julia, julia_rect)\n",
    "    # Refresh the program display.\n",
    "    pygame.display.flip()\n",
    "    # Set initial values of variables for later.\n",
    "    Running = True\n",
    "    pause = True\n",
    "    i = 0\n",
    "    # If Running is set to True, continue the program.\n",
    "    while Running:\n",
    "        # Obtain the events from system logs.\n",
    "        for event in pygame.event.get():\n",
    "            # If user quits the program, stop running the program.\n",
    "            if event.type == pygame.QUIT:\n",
    "                Running = False\n",
    "            # If user presses the Space key, then stop or continue the animation.\n",
    "            elif event.type == pygame.KEYDOWN and event.key == pygame.K_SPACE:\n",
    "                pause = not pause\n",
    "            # If animation is not paused, then allow functionality of speeding up or slowing down the animation.\n",
    "            if not pause:\n",
    "                # If the Down Arrow key is pressed, then slow down the animation by a fixed speed factor.\n",
    "                if event.type == pygame.KEYDOWN and event.key == pygame.K_DOWN:\n",
    "                    speed_factor = 0.75 * speed_factor\n",
    "                # If the Up Arrow key is pressed, then speed up the animation by a fixed speed factor.\n",
    "                elif event.type == pygame.KEYDOWN and event.key == pygame.K_UP:\n",
    "                    speed_factor = (4 / 3) * speed_factor\n",
    "        # Continue the animation if pause is False.\n",
    "        if not pause:\n",
    "            # If Running is false, then stop the program. This was mainly to stop freezing of the program when a user quits.\n",
    "            if not Running:\n",
    "                pygame.quit()\n",
    "                return None\n",
    "            # Set the timimg between the transition of images.\n",
    "            fps = 10 * speed_factor\n",
    "            clock.tick(fps)\n",
    "            # Add the value of i by 1.\n",
    "            i += 1\n",
    "            # Once i becomes the maximum number of images, reset the value to 0.\n",
    "            if i == n_img:\n",
    "                i = 0\n",
    "            # Create a filepath directory string based on the current\n",
    "            # value of i and load the Julia graph corresponding to the\n",
    "            # filepath directory.\n",
    "            currwd = os.getcwd()\n",
    "            filename = str(currwd) + \"//JULIA_GRAPHS//JuliaPic{}.png\".format(i + 1)\n",
    "            julia = pygame.image.load(filename)\n",
    "            # Resize the loaded Julia graph and update the display.\n",
    "            julia = pygame.transform.scale(julia, screen_size)\n",
    "            julia_rect = pygame.Rect(0, 0, screen_w, screen_h)\n",
    "            screen.fill(white)\n",
    "            screen.blit(julia, julia_rect)\n",
    "            pygame.display.flip()\n",
    "    # Close the PyGame window.\n",
    "    pygame.quit()\n",
    "    if verbose:\n",
    "        print(\"Program has now exited.\")\n",
    "    return None"
   ]
  },
  {
   "cell_type": "markdown",
   "metadata": {},
   "source": [
    "We shall now use the default parameters of the `julia_animation` function, which will generate $200$ image files of the Julia sets with parameter $j_p = 0.7885e^{ai}$ where the numbers $a$ are chosen at equally spaced intervals in $[0, 2 \\pi]$, and display these image files in a film like animation with the program resolution being $800$ pixels by $600$ pixels."
   ]
  },
  {
   "cell_type": "code",
   "execution_count": 13,
   "metadata": {},
   "outputs": [
    {
     "name": "stdout",
     "output_type": "stream",
     "text": [
      "Please wait while the images are being exported. 100% of all the images has now been exported.\n",
      "All the images has now been exported. Starting Program...\n",
      "Program has now initialised!\n"
     ]
    }
   ],
   "source": [
    "julia_animation()"
   ]
  },
  {
   "cell_type": "markdown",
   "metadata": {},
   "source": [
    "From experimenting with the parameter `r` in the `julia_animation` function, one can see that changing the value of $r$ in $j_p = re^{ai}$ changes the distance between multiple \"clusters\" in the image, and it is only when these \"clusters\" meet that a significant visual effect happens. Upon trial and error, another value of $r$ that creates striking effects is $1.2$, and from this, one can see that there are many values of $r$ that creates such visual effects."
   ]
  },
  {
   "cell_type": "code",
   "execution_count": null,
   "metadata": {},
   "outputs": [],
   "source": [
    "'''\n",
    "TODO: New code cell for different values of r, more refined version as a movie\n",
    "'''"
   ]
  },
  {
   "cell_type": "markdown",
   "metadata": {},
   "source": [
    "<a id='S4.2'></a> \n",
    "#### 4.2 Animation of Mandlebrot Sets"
   ]
  },
  {
   "cell_type": "markdown",
   "metadata": {},
   "source": [
    "Firstly, need to know as to what a Mandelbrot set is. The **Mandelbrot set** is defined as the values of $c$ for which the following recurrence relation is bounded for all $(z_n)_{n \\geq 0}$:\n",
    "\n",
    "$$\n",
    "z_0 = 0  \\quad \\text{and} \\quad z_n = z_{n-1}^2 + c, \\quad \\text{for } n = 1,2,3,\\ldots\n",
    "$$\n",
    "\n",
    "We say that $(z_n)_{n \\geq 0}$ is the Mandelbrot sequence induced by $c$. From this, we can see that $(z_n)_{n \\geq 0}$ only relies on $c$."
   ]
  },
  {
   "cell_type": "code",
   "execution_count": 14,
   "metadata": {},
   "outputs": [],
   "source": [
    "def mandelbrot(c, max_n):\n",
    "    '''\n",
    "    The mandelbrot function calculates the largest term n_max\n",
    "    for which each term z_n of the corresponding Mandelbrot \n",
    "    sequence induced by c is bounded by 2. \n",
    "    '''\n",
    "    # Set the \"zeroth\" term as 0.\n",
    "    z =  0 + 0j\n",
    "    # Set the largest number as 0.\n",
    "    n_max = 0\n",
    "    # Iterate until term is not bounded by 2.\n",
    "    while abs(z) <= 2:\n",
    "        # Derive the next term of the sequence from the current term.\n",
    "        z = (z ** 2) + c\n",
    "        # Increment the largest number n_max by 1.\n",
    "        n_max += 1\n",
    "        # Break the loop early when the largest number n_max reaches \n",
    "        # the maximum number of iterations max_n.\n",
    "        if n_max == max_n:\n",
    "            break\n",
    "    # Return the value of the largest number n_max.\n",
    "    return n_max"
   ]
  },
  {
   "cell_type": "markdown",
   "metadata": {},
   "source": [
    "We shall now create data for our Mandelbrot set. In order to do this, we need to create vectors `x_vector` and `y_vector` in order to create grid matrices `x_matrix` and `y_matrix` as input matricies. The `x_vector` must be a number `n_xpts` of equally spaced intervals between the values `x_min` and `x_max`, and the `y_vector` must be a number `n_ypts` of equally spaced intervals between the values `y_min` and `y_max`."
   ]
  },
  {
   "cell_type": "markdown",
   "metadata": {},
   "source": [
    "We shall create the following function that takes a number `n_xpts` of equally spaced intervals between the values `x_min` and `x_max`, and takes a number `n_ypts` of equally spaced intervals between the values `y_min` and `y_max` and calculates `x_matrix` and `y_matrix`, and inputs the matrices into the `mandelbrot` function to create an output matrix `z_matrix`. In order to generate data needed for the set, we need `x_matrix`, `y_matrix` and `z_matrix`."
   ]
  },
  {
   "cell_type": "code",
   "execution_count": 15,
   "metadata": {},
   "outputs": [],
   "source": [
    "def mandelbrot_data(max_n, x_min, x_max, n_xpts, y_min, y_max, n_ypts):\n",
    "    '''\n",
    "    The mandelbrot_data function calculates the matrices \n",
    "    required for graphing the mandelbrot function.\n",
    "    '''\n",
    "    # Calculate the vectors required for the two matrices required for input.\n",
    "    x_vector = np.linspace(x_min, x_max, n_xpts)\n",
    "    y_vector = np.linspace(y_min, y_max, n_ypts)\n",
    "    x_matrix, y_matrix = np.meshgrid(x_vector, y_vector)\n",
    "    # Create a zero output matrix with the same dimensions as the input matrices.\n",
    "    x_matrix_rows, x_matrix_cols = np.shape(x_matrix)\n",
    "    z_matrix = np.zeros((x_matrix_rows, x_matrix_cols), dtype = int)\n",
    "    # Calculate every element of the output matrix for every \n",
    "    # element in the input matrix using the mandelbrot function.\n",
    "    for i in range(x_matrix_rows):\n",
    "        for j in range(x_matrix_cols):\n",
    "            c = x_matrix[i, j] + y_matrix[i, j] * 1j\n",
    "            z_matrix[i, j] = mandelbrot(c, max_n)\n",
    "    return x_matrix, y_matrix, z_matrix"
   ]
  },
  {
   "cell_type": "markdown",
   "metadata": {},
   "source": [
    "We shall create a folder, so that we can export the images into an appropriate directory entitled \"MANDELBROT_GRAPHS\"."
   ]
  },
  {
   "cell_type": "code",
   "execution_count": 16,
   "metadata": {},
   "outputs": [
    {
     "data": {
      "text/plain": [
       "1"
      ]
     },
     "execution_count": 16,
     "metadata": {},
     "output_type": "execute_result"
    }
   ],
   "source": [
    "# Obtain the current working directory.\n",
    "currwd2 = str(os.getcwd())\n",
    "# Create a subdirectory within the current working directory using the system terminal.\n",
    "createdir2 = \"mkdir \\\"{}//MANDELBROT_GRAPHS\\\"\".format(currwd2)\n",
    "os.system(createdir2)"
   ]
  },
  {
   "cell_type": "markdown",
   "metadata": {},
   "source": [
    "We shall now create a function that generates and exports the Mandelbrot set."
   ]
  },
  {
   "cell_type": "code",
   "execution_count": 17,
   "metadata": {},
   "outputs": [],
   "source": [
    "def mandelbrot_graphpic(max_n, x_min, x_max, n_xpts, y_min, y_max, n_ypts, fig_w, fig_h, filename):\n",
    "    '''\n",
    "    The mandelbrot_graphpic function creates a Mandelbrot graph and exports\n",
    "    the Mandelbrot graph as a picture with default resuloutions.\n",
    "    '''\n",
    "    # Calculate the two input matrices and one output matrix using the mandelbrot_data function.\n",
    "    x_matrix, y_matrix, z_matrix = mandelbrot_data(max_n, x_min, x_max, n_xpts, y_min, y_max, n_ypts)\n",
    "    # Produce a Mandelbrot graph from the given matrices without the axes.\n",
    "    plt.figure(figsize = (fig_w, fig_h))\n",
    "    plt.pcolor(x_matrix, y_matrix, z_matrix, cmap = 'plasma', vmin = 0, vmax = max_n, shading = \"auto\")\n",
    "    plt.axis(\"off\")\n",
    "    # Create a filepath directory string and export  \n",
    "    # the aforementioned Mandelbrot graph into the filepath directory.\n",
    "    currwd = os.getcwd()\n",
    "    filepath = str(currwd) + \"//MANDELBROT_GRAPHS//{}.png\".format(filename)\n",
    "    plt.savefig(filepath, dpi = \"figure\", format = \"png\", bbox_inches = \"tight\", pad_inches = 0)\n",
    "    # To avoid too much memory being used up,  \n",
    "    # close the active pyplot window.\n",
    "    plt.close()\n",
    "    return None"
   ]
  },
  {
   "cell_type": "markdown",
   "metadata": {},
   "source": [
    "Before we create a function that zooms in and out of a Mandelbrot set, we need to create a \"recipe\" for the function.\n",
    "\n",
    "We shall now define as to what \"clicking and dragging\" the mouse is in terms of the actions.\n",
    "\n",
    "> **Definition:** A click and drag of a mouse button consists of the following three actions in succession.\n",
    ">\n",
    "> 1. Pressing down on the left mouse button,\n",
    ">\n",
    "> 2. Moving the mouse, and\n",
    ">\n",
    "> 3. Releasing the left mouse button.\n",
    ">\n",
    "> All of these are stipulated by different events in PyGame.\n",
    "\n",
    "Hence, for our program, the \"recipe\" for a \"cropbox\" is of the following:\n",
    "\n",
    "> 1. If the user presses down the left mouse button, then set drag to be True and obtain position of the mouse (initial position).\n",
    ">\n",
    "> 2. If the user then moves the mouse around, and if Drag is True, then set rect to be True.\n",
    "> \n",
    "> 3. If rect is True, then obtain current poisition of the mouse whenever the mouse moves around and display an outline box based on the initial position of the mouse and the current position of the mouse.\n",
    ">\n",
    "> 4. If the user releases the mouse button, then set rect and drag to be False.\n",
    "\n",
    "PyGame has no definitive function for a button, hence we shall need a \"recipe\" for the buttons in our program, and the \"recipe\" is of the following:\n",
    "\n",
    "> 1. Create a filled box with a shade of green, and position the box with appropriate co-ordinates.\n",
    ">\n",
    "> 2. If the user presses down the left mouse button within the co-ordinates of the button, set button variable to be True, and update the colour of the button to be a lighter green.\n",
    ">\n",
    "> 3. Once the processes initiated by the user or by the button has been completed and the button variable is set to False, the colour of the button will go back to the initial colour, that being green in this case.\n",
    "\n",
    "Using the principles above, we shall now create a program that zooms in and out of the animation, and we shall call the associated function `mandelbrot_program`. Due to the textboxes from within the program, we must set the minimum compatibility resolution width as $680$ pixels."
   ]
  },
  {
   "cell_type": "code",
   "execution_count": 18,
   "metadata": {},
   "outputs": [],
   "source": [
    "def mandelbrot_program(max_n = 100, x_min = -2, x_max = 1, n_xpts = 400, y_min = -1.5, y_max = 1.5, n_ypts = 400, fig_w = 14, fig_h = 12, screen_w = 800, screen_h = 600):\n",
    "    '''\n",
    "    The mandelbrot_program function creates a PyGame/SDL program that\n",
    "    displays a Mandelbrot graph, allowing the user to zoom in and out\n",
    "    the graph. The animation has a resolution width of screen_w pixels\n",
    "    and height of screen_h pixels.\n",
    "    '''\n",
    "    # Set the minimum width resolution for running the program.\n",
    "    appcompatresx = 680\n",
    "    if screen_w < appcompatresx:\n",
    "        print(\"The width resolution you have inputted into the function is too small. You need a width resolution of at least {} pixels.\".format(appcompatresx))\n",
    "        return None\n",
    "    # Try exporting the required images for the program.\n",
    "    try:\n",
    "        mandelbrot_graphpic(max_n, x_min, x_max, n_xpts, y_min, y_max, n_ypts, fig_w, fig_h, \"MandelbrotPic0\")\n",
    "    except:\n",
    "        print(\"Error producing graphs!\")\n",
    "        return None\n",
    "    # Store the input screen size and the size of the rescaled image as tuples.\n",
    "    screen_size = (screen_w, screen_h)\n",
    "    mandelbrot_size = (screen_w, screen_h - 50)\n",
    "    # Store colours as RGB tuples.\n",
    "    white = (255, 255, 255)\n",
    "    black = (0, 0, 0)\n",
    "    grey = (119, 119, 119)\n",
    "    green_notactive = (114, 179, 101)\n",
    "    green_active = (161, 251, 142)\n",
    "    red = (255, 0, 0)\n",
    "    orange = (240, 134, 80)\n",
    "    # Set graph axes limits as lists and add initial values.\n",
    "    x_min_list = []\n",
    "    x_max_list = []\n",
    "    y_min_list = []\n",
    "    y_max_list = []\n",
    "    x_min_list.append(x_min)\n",
    "    x_max_list.append(x_max)\n",
    "    y_min_list.append(y_min)\n",
    "    y_max_list.append(y_max)\n",
    "    # Initialise PyGame and its fonts.\n",
    "    pygame.init()\n",
    "    pygame.font.init()\n",
    "    # Set the screen size and the title of the program.\n",
    "    screen = pygame.display.set_mode(screen_size)\n",
    "    title = \"Animation of Mandelbrot Sets\"\n",
    "    title += \" \"\n",
    "    title += '(Keystroke:  \\'Drag and release\\' to zoom in if the functionality is enabled.)'\n",
    "    pygame.display.set_caption(title)\n",
    "    # Set the path of the Mandelbrot image and load the image to the correct size.\n",
    "    currwd = os.getcwd()\n",
    "    filename = str(currwd) + \"//MANDELBROT_GRAPHS//MandelbrotPic0.png\"\n",
    "    mandelbrot = pygame.image.load(filename)\n",
    "    mandelbrot = pygame.transform.scale(mandelbrot, mandelbrot_size)\n",
    "    # Create and position initial rectangles for Mandelbrot images, drag boxes, and zoom buttons.\n",
    "    mandelbrot_rect = pygame.Rect(0, 0, mandelbrot_size[0], mandelbrot_size[1])\n",
    "    cropbox = pygame.Rect(0, 0, 0, 0)\n",
    "    zoom_in_button_left = screen_size[0] / 2 - 115\n",
    "    zoom_out_button_left = screen_size[0] - 115\n",
    "    zoom_button_top = screen_size[1] - 45\n",
    "    zoom_button_width = 80\n",
    "    zoom_button_height = 40\n",
    "    zoom_in_button = pygame.Rect(zoom_in_button_left, zoom_button_top, zoom_button_width, zoom_button_height)\n",
    "    zoom_out_button = pygame.Rect(zoom_out_button_left, zoom_button_top, zoom_button_width, zoom_button_height)\n",
    "    # Create and position textboxes containing text.\n",
    "    try:\n",
    "        # Attempt to use the Segoe UI font by Microsoft(R).\n",
    "        text = pygame.font.Font(\"segoeui.ttf\", 14)\n",
    "        errortext = pygame.font.Font(\"segoeui.ttf\", 18)\n",
    "    except:\n",
    "        # Use the system Arial font by Monotype(R).\n",
    "        text = pygame.font.SysFont(\"arial\", 14)\n",
    "        errortext = pygame.font.SysFont(\"arial\", 18)\n",
    "    text1 = text.render(\"Click the first button on the right\", True, black)\n",
    "    textbox1 = text1.get_rect()\n",
    "    textbox_centre_x = zoom_in_button_left / 2\n",
    "    textbox1_centre_y = screen_size[1] - 35\n",
    "    textbox1.center = (textbox_centre_x, textbox1_centre_y)\n",
    "    text2 = text.render(\"to enable the zoom in function.\", True, black)\n",
    "    textbox2 = text2.get_rect()\n",
    "    textbox2_centre_y = screen_size[1] - 15\n",
    "    textbox2.left = textbox1.left\n",
    "    textbox2.centery = textbox2_centre_y\n",
    "    text3 = text.render(\"to disable the zoom in function.\", True, black)\n",
    "    textbox3 = text3.get_rect()\n",
    "    textbox3.left = textbox1.left\n",
    "    textbox3.centery = textbox2_centre_y\n",
    "    text4 = text.render(\"Click the button on the right to\", True, black)\n",
    "    textbox4 = text4.get_rect()\n",
    "    textbox4.right = zoom_out_button_left - (zoom_in_button_left - textbox1.right)\n",
    "    textbox4.centery = textbox1_centre_y\n",
    "    text5 = text.render(\"zoom out to the previous image.\", True, black)\n",
    "    textbox5 = text5.get_rect()\n",
    "    textbox5.left = textbox4.left\n",
    "    textbox5.centery = textbox2_centre_y\n",
    "    text6 = text.render(\"Please wait while\", True, black)\n",
    "    textbox6 = text6.get_rect()\n",
    "    textbox6.center = textbox4.center\n",
    "    text7 = text.render(\"it is zooming out.\", True, black)\n",
    "    textbox7 = text7.get_rect()\n",
    "    textbox7.left = textbox6.left\n",
    "    textbox7.centery = textbox5.centery\n",
    "    # Set initial values of variables for later.    \n",
    "    running = True\n",
    "    drag = False\n",
    "    rect = False\n",
    "    zoomin_button = False\n",
    "    zoomin = False\n",
    "    zoomout_button = False\n",
    "    zoomout = False\n",
    "    i = 0\n",
    "    # If running is set to True, continue the program.\n",
    "    while running:\n",
    "        # Obtain the events from system logs.\n",
    "        for event in pygame.event.get():\n",
    "            # If user quits the program, stop running the program.\n",
    "            if event.type == pygame.QUIT:\n",
    "                running = False\n",
    "            # If user down clicks the left mouse button, then look for position and check status of buttons.\n",
    "            elif event.type == pygame.MOUSEBUTTONDOWN:\n",
    "                if event.button == 1:\n",
    "                    if event.pos[1] <= mandelbrot_size[1] and zoomin_button:\n",
    "                        # If the position of the down click is within the image,\n",
    "                        # then enable dragging and obtain the position of the mouse.\n",
    "                        drag = True\n",
    "                        mouse_x1_pos = event.pos[0]\n",
    "                        mouse_y1_pos = event.pos[1]\n",
    "                    # If the position of the down click is within region of the\n",
    "                    # buttons, then set or change the activity statuses of the buttons.\n",
    "                    elif event.pos[0] >= zoom_in_button_left and event.pos[0] <= (zoom_in_button_left + zoom_button_width) and event.pos[1] >= zoom_button_top and event.pos[1] <= (zoom_button_top + zoom_button_height):\n",
    "                        zoomin_button = not zoomin_button\n",
    "                    elif event.pos[0] >= zoom_out_button_left and event.pos[0] <= (zoom_out_button_left + zoom_button_width) and event.pos[1] >= zoom_button_top and event.pos[1] <= (zoom_button_top + zoom_button_height):\n",
    "                        zoomout_button = True\n",
    "            # If user releases the left click button, then set variables where necessary.      \n",
    "            elif event.type == pygame.MOUSEBUTTONUP:\n",
    "                if event.button == 1:\n",
    "                    # Disable dragging.\n",
    "                    drag = False\n",
    "                    # If the zoom in functionality is enabled and rect is True, then set zoomin as True.\n",
    "                    if zoomin_button and rect:\n",
    "                        zoomin = True\n",
    "                    # If the zoom out button is being clicked, then set zoomout as True.\n",
    "                    elif zoomout_button:\n",
    "                        zoomout = True\n",
    "                    # Stop drawing the rectangle.    \n",
    "                    rect = False\n",
    "            # If the zoom in funtionality is enabled and dragging is enabled,\n",
    "            # and the mouse is moving, then obtain the position of the mouse \n",
    "            # and set Rect as True.\n",
    "            elif event.type == pygame.MOUSEMOTION and drag and zoomin_button:\n",
    "                (mouse_x2_pos, mouse_y2_pos) = pygame.mouse.get_pos()\n",
    "                rect = True\n",
    "        # Fill the background with white.\n",
    "        screen.fill(white)\n",
    "        # Depending on the activity status of the buttons, draw\n",
    "        # the appropriate textboxes and buttons onto the screen.\n",
    "        screen.blit(text1, textbox1)\n",
    "        if zoomin_button:\n",
    "            screen.blit(text3, textbox3)\n",
    "            pygame.draw.rect(screen, green_active, zoom_in_button)\n",
    "        else:\n",
    "            screen.blit(text2, textbox2)\n",
    "            pygame.draw.rect(screen, green_notactive, zoom_in_button)\n",
    "        if zoomout_button:\n",
    "            pygame.draw.rect(screen, green_active, zoom_out_button)\n",
    "        else:\n",
    "            screen.blit(text4, textbox4)\n",
    "            screen.blit(text5, textbox5)\n",
    "            pygame.draw.rect(screen, green_notactive, zoom_out_button)\n",
    "        # If rect is True, then calculate the appropriate position and \n",
    "        # size of the rectangle and draw the rectangle onto the screen.\n",
    "        if rect:\n",
    "            rect_width = abs(mouse_x2_pos - mouse_x1_pos)\n",
    "            if mouse_y2_pos <= mandelbrot_size[1]:\n",
    "                rect_height = abs(mouse_y2_pos - mouse_y1_pos)\n",
    "            rect_left = min(mouse_x1_pos, mouse_x2_pos)\n",
    "            rect_top = min(mouse_y1_pos, mouse_y2_pos)\n",
    "            cropbox = pygame.Rect(rect_left, rect_top, rect_width, rect_height)\n",
    "            screen.blit(mandelbrot, mandelbrot_rect)\n",
    "            pygame.draw.rect(screen, grey, cropbox, 2)\n",
    "            pygame.display.flip()\n",
    "        else:\n",
    "            # If zoomin is True, then start zooming in.\n",
    "            if zoomin:\n",
    "                # Display the appropriate message onto the screen.\n",
    "                textwait = errortext.render(\"Please wait while the image is zooming in...\", True, white, orange)\n",
    "                textboxwait = textwait.get_rect()\n",
    "                textboxwait_centre_x = mandelbrot_size[0] / 2\n",
    "                textboxwait_centre_y = mandelbrot_size[1] / 2\n",
    "                textboxwait.center = (textboxwait_centre_x, textboxwait_centre_y)\n",
    "                screen.blit(mandelbrot, mandelbrot_rect)\n",
    "                # Display the current rectangle onto the screen.\n",
    "                pygame.draw.rect(screen, grey, cropbox, 2)\n",
    "                screen.blit(textwait, textboxwait)\n",
    "                pygame.display.flip()\n",
    "                # Linearly interpolate the screen resolution of the rectangle against the axes of\n",
    "                # the corresponding Mandelbrot graph, and add the new axes limits to the list.\n",
    "                y_diff = y_max - y_min\n",
    "                x_diff = x_max - x_min\n",
    "                y_max_old = y_max\n",
    "                x_min_old = x_min\n",
    "                y_max = y_max_old - ((rect_top / mandelbrot_size[1]) * y_diff)\n",
    "                rect_bottom = rect_top + rect_height\n",
    "                y_min = y_max_old - ((rect_bottom / mandelbrot_size[1]) * y_diff)\n",
    "                x_min = x_min_old + ((rect_left / mandelbrot_size[0]) * x_diff)\n",
    "                rect_right = rect_left + rect_width\n",
    "                x_max = x_min_old + ((rect_right / mandelbrot_size[0]) * x_diff)\n",
    "                x_min_list.append(x_min)\n",
    "                x_max_list.append(x_max)\n",
    "                y_min_list.append(y_min)\n",
    "                y_max_list.append(y_max)\n",
    "                # Store the Mandelbrot graph with new axes limits\n",
    "                # into a new image file, and display the new image.\n",
    "                i += 1\n",
    "                mandelbrot_graphpic(max_n, x_min, x_max, n_xpts, y_min, y_max, n_ypts, fig_w, fig_h, \"MandelbrotPic{}\".format(i))\n",
    "                filename = str(currwd) + \"//MANDELBROT_GRAPHS//MandelbrotPic{}.png\".format(i)\n",
    "                mandelbrot = pygame.image.load(filename)\n",
    "                mandelbrot = pygame.transform.scale(mandelbrot, mandelbrot_size)\n",
    "                screen.blit(mandelbrot, mandelbrot_rect)\n",
    "                pygame.display.flip()\n",
    "                # Clear the system events log to avoid bugs.\n",
    "                pygame.event.clear()                \n",
    "                # Set zoomin to False.\n",
    "                zoomin = False\n",
    "            elif not zoomout:\n",
    "                # If zoomin and zoomout is False, then draw \n",
    "                # the current Mandlebrot graph onto the screen.\n",
    "                screen.blit(mandelbrot, mandelbrot_rect)\n",
    "                pygame.display.flip()\n",
    "            # If zoomout is True, then start zooming out where necessary.\n",
    "            if zoomout:\n",
    "                # Check image index.\n",
    "                if i <= 0:\n",
    "                    # Display an error message for one second when user has zoomed out to the maximum.\n",
    "                    texterror1 = errortext.render(\"ERROR: You have zoomed out to the original image!\", True, white, red)\n",
    "                    textboxerror1 = texterror1.get_rect()\n",
    "                    textboxerror1_centre_x = mandelbrot_size[0] / 2\n",
    "                    textboxerror1_centre_y = mandelbrot_size[1] / 2\n",
    "                    textboxerror1.center = (textboxerror1_centre_x, textboxerror1_centre_y)\n",
    "                    screen.blit(mandelbrot, mandelbrot_rect)\n",
    "                    screen.blit(texterror1, textboxerror1)\n",
    "                    pygame.display.flip()\n",
    "                    zoomout = False\n",
    "                    zoomout_button = False\n",
    "                    pygame.time.delay(1000)\n",
    "                    pygame.event.clear()\n",
    "                else:\n",
    "                    # Display the appropriate message onto the screen.\n",
    "                    i -= 1\n",
    "                    screen.blit(text6, textbox6)\n",
    "                    screen.blit(text7, textbox7)\n",
    "                    screen.blit(mandelbrot, mandelbrot_rect)\n",
    "                    pygame.display.flip()\n",
    "                    # Display the previous zoomed out image, and go back to the previous axes limits.\n",
    "                    filename = str(currwd) + \"//MANDELBROT_GRAPHS//MandelbrotPic{}.png\".format(i)\n",
    "                    mandelbrot = pygame.image.load(filename)\n",
    "                    mandelbrot = pygame.transform.scale(mandelbrot, mandelbrot_size)\n",
    "                    x_min = x_min_list[i]\n",
    "                    x_max = x_max_list[i]\n",
    "                    y_min = y_min_list[i]\n",
    "                    y_max = y_max_list[i]\n",
    "                    x_min_list.pop()\n",
    "                    x_max_list.pop()\n",
    "                    y_min_list.pop()\n",
    "                    y_max_list.pop()\n",
    "                    # Clear the system events log to avoid bugs.\n",
    "                    pygame.event.clear()\n",
    "                    # Set zoomout to False, and \"unclick\" the zoom out button.\n",
    "                    zoomout = False\n",
    "                    zoomout_button = False\n",
    "    # Close the PyGame window.\n",
    "    pygame.quit()\n",
    "    return None"
   ]
  },
  {
   "cell_type": "markdown",
   "metadata": {},
   "source": [
    "We shall now call the function with the default variables. This in turn produces a program with resolution of $800$ pixels by $600$ pixels, with the initial Mandelbrot set within the region $[-2, 1] \\times [-1.5, 1.5]$. "
   ]
  },
  {
   "cell_type": "code",
   "execution_count": 19,
   "metadata": {},
   "outputs": [],
   "source": [
    "mandelbrot_program()"
   ]
  },
  {
   "cell_type": "markdown",
   "metadata": {},
   "source": [
    "<a id='S5'></a>\n",
    "### Section 5: Tower of Hanoi "
   ]
  },
  {
   "cell_type": "markdown",
   "metadata": {},
   "source": [
    "TODO: Add introduction to ToH."
   ]
  },
  {
   "cell_type": "markdown",
   "metadata": {},
   "source": [
    "<a id='S5.1'></a> \n",
    "#### 5.1 Definitions and Objectives"
   ]
  },
  {
   "cell_type": "markdown",
   "metadata": {},
   "source": [
    "\n",
    "In this section, we shall look at the necessary definitions and code to describe our objectives accurately in terms of the output of the code.\n",
    "\n",
    "Firstly, we need to make some key definitions. Note that we shall call the pegs from left to right pegs $A$, $B$ and $C$ respectively.\n"
   ]
  },
  {
   "cell_type": "markdown",
   "metadata": {},
   "source": [
    "> **Definition**: In the puzzle, A **move** consists of the following two pieces of information:\n",
    ">\n",
    "> •\tA positive integer $d$ as the disc (of size $d$) being moved, and\n",
    ">\n",
    "> •\tAn indicator of the direction of the move, for which the values can only be Left or Right.\n",
    "\n",
    "> **Definition**: A **peg** is a list of discs. A **configuration** (of the pegs) is the ordered triple $T =  (A, B, C)$ of the pegs mentioned thereof.\n",
    "\n",
    "Remark: We shall explain further what an \"indicator\" means in this context when we implement the class Move in the next section.\n"
   ]
  },
  {
   "cell_type": "markdown",
   "metadata": {},
   "source": [
    "Next, we need to know mathematically what a puzzle is.\n",
    "\n",
    "> **Definition**: A **puzzle** $P$ consists of the following three pieces of information:\n",
    ">\n",
    "> •\tA configuration called an **initial configuration** $T_0$,\n",
    ">\n",
    "> •\tA configuration called an **objective configuration** $T_f$, and\n",
    ">\n",
    "> •\tA set of Rules $R$.\n",
    "\n",
    "Different variants of the Towers of Hanoi has different initial configurations, objective configurations, and rules.\n"
   ]
  },
  {
   "cell_type": "markdown",
   "metadata": {},
   "source": [
    "We shall now introduce a rigorous definition of solving a puzzle.\n",
    "\n",
    "> **Definition**: Given a puzzle, a move $M$ and a configuration $T$, $M$ is **a valid move of $T$ under $P$** if the rules $R$ in $P$ are followed.\n",
    ">\n",
    "> For such a move, the configuration $T$ shall be changed accordingly to T′, which we shall call $T’$ as **the configuration attained by $M$ on $T$** (under $P$).\n",
    "\n",
    "> **Definition**: For a positive integer n, a **solution for the puzzle $P$ with $n$ disks** is a sequence of moves $<M_1, M_2, …, M_s>$ such that the following holds under $P$:\n",
    ">\n",
    "> 1. $T_i$ is the configuration attained by $M_i$ on $T_{i-1}$ ,\n",
    "> 2. $M_i$ is a valid move of $T_{i - 1}$,\n",
    "> 3. $T_s$ is the objective configuration of the puzzle $T_f$,\n",
    ">\n",
    "> for all $1 ≤ i ≤ s$. We shall call $s$ the **length** of the solution. This gives rise to a configuration list under a solution for the puzzle $<T_1, T_2, …, T_s>$.\n"
   ]
  },
  {
   "cell_type": "markdown",
   "metadata": {},
   "source": [
    "Using the terminology, we can state our objectives rigorously.\n",
    "\n",
    "TODO: Add references here\n",
    "\n",
    "> Objective: Given the number of discs $n$, we should find a solution and a configuration list of the following puzzles:\n",
    ">\n",
    "> •\t$P$, the Classical Tower of Hanoi Problem,\n",
    ">\n",
    "> •\t$P$, the No Wrap Variant Problem, where wrap-around is prohibited, and\n",
    ">\n",
    "> •\t$P$, the Bicolor Variant Problem, where the task is to separate 2 colours of discs.\n",
    "\n",
    "Note that the output, namely the solution and the configuration list, shall be useful when we animate the problem in Part (reference here please).\n",
    "\n",
    "It would be convenient for us to define $M$ and $T$ as a type of their own, as it would be easier to produce solutions and configuration lists in Python in that we can realize them as a `list` of a particular type.\n"
   ]
  },
  {
   "cell_type": "markdown",
   "metadata": {},
   "source": [
    "We shall initialise $T$ as a list of lists. The structure of the tower is also noticeably clear from this. Lists are also mutable; hence it shall be easier for us to change the content later."
   ]
  },
  {
   "cell_type": "code",
   "execution_count": null,
   "metadata": {},
   "outputs": [],
   "source": []
  },
  {
   "cell_type": "markdown",
   "metadata": {},
   "source": [
    "In contrast, a move does not have to be mutable. Thus, it would be beneficial to exploit the object-oriented programming aspect of Python (reference here please). Abiding by the definition, we shall define a new class Move that contains the two aspects of disc and direction."
   ]
  },
  {
   "cell_type": "code",
   "execution_count": null,
   "metadata": {},
   "outputs": [],
   "source": []
  },
  {
   "cell_type": "markdown",
   "metadata": {},
   "source": [
    "It is now easier to determine the following types of solutions that we are looking for:\n",
    "\n",
    "-\tA Solution: A `list` of Type `Move`, and\n",
    "\n",
    "-\tA configuration list under a solution: a `list` of type `int list X int list X int list`, where `X` denotes the Cartesian product.\n",
    "\n",
    "From now on, we shall assume that everything shall be of the right type. That is, $n$ shall automatically denote the number of discs by default, and a solution and configuration shall always have the aforementioned type. This is a general programming concept called *duck typing*, and it stems from the following claim:\n",
    "\n",
    "> If something walks and quacks like a duck, then it must be a duck. \n",
    ">\n",
    "> (“Understanding Interfaces in Go – Duncan Leung”)\n",
    "\n",
    "This is a *pythonic* design, for which the concept is explained in their documentation in (Python Software Foundation, 2001)."
   ]
  },
  {
   "cell_type": "markdown",
   "metadata": {},
   "source": [
    "<a id='S5.2'></a> \n",
    "#### 5.2 Producing a Solution"
   ]
  },
  {
   "cell_type": "markdown",
   "metadata": {},
   "source": [
    "Using the above, we shall create a function that solves the puzzles using a powerful technique called **mutual recursion**. We have seen a lot of examples of simple recursion in lectures, but to produce the required solution for this case, we need to harness the power of mutual recursion. That is, we use multiple functions that recursively call each other.\n",
    "\n",
    "TODO: Reference\n",
    "\n",
    "Mutual recursion is a powerful idea, and there are many practical applications. One can see (reference here please) for more examples.\n",
    "\n",
    "In particular, the following pseudocode illustrates the idea. Note that `MoveLeft(n)` produces the solution we need since the objective of the puzzle is to move the discs from peg A to C."
   ]
  },
  {
   "cell_type": "markdown",
   "metadata": {},
   "source": [
    "```\n",
    "DEFINE MoveLeft(n): \\\\ Solution for the classical Puzzle - Move n discs from peg A to C\n",
    "    if n = 1 \\\\ Base Case\n",
    "        return [Move (1, 'Left')]\n",
    "    else:\n",
    "        \\\\ Perform the Following 3 Steps in order:\n",
    "        1. MoveRight(n-1) \\\\ Move the first n-1 discs from peg A to B\n",
    "        2. Move(n, 'Left') \\\\ Move disc n from peg A to C\n",
    "        3. MoveRight(n-1) \\\\ Move the first n-1 discs from peg B to Peg C\n",
    "END\n",
    "\n",
    "DEFINE MoveRight(n): \\\\ Solution for moving n discs from peg C to A\n",
    "    if n = 1 \\\\ Base Case\n",
    "        return [Move(1, 'Right')]\n",
    "    else:\n",
    "        \\\\ Perform the Following 3 Steps in order:\n",
    "        1. MoveLeft(n-1) \\\\ Move the first n-1 discs from peg A to C\n",
    "        2. Move(n, 'Right') \\\\ Move disc n from peg A to B\n",
    "        3. MoveLeft(n-1) \\\\ Move the first n-1 discs from peg C to Peg B\n",
    "END\n",
    "```"
   ]
  },
  {
   "cell_type": "markdown",
   "metadata": {},
   "source": [
    "As seen, the function `MoveLeft` and `MoveRight` recursively call each other, this is an idea we shall keep on using. Now we shall see how it is implemented in Python."
   ]
  },
  {
   "cell_type": "code",
   "execution_count": null,
   "metadata": {},
   "outputs": [],
   "source": []
  },
  {
   "cell_type": "markdown",
   "metadata": {},
   "source": [
    "Note that, other than the recursive call, memoization is implemented. This drastically improves the running time of the command, especially on large $n$. We will look at the space/time complexity issue in the last section.\n",
    "\n",
    "Now let us see the solution to the puzzle with $n = 4$:\n"
   ]
  },
  {
   "cell_type": "code",
   "execution_count": null,
   "metadata": {},
   "outputs": [],
   "source": []
  },
  {
   "cell_type": "markdown",
   "metadata": {},
   "source": [
    "This is not particularly useful, because every element had been masked as an object. In order to see the moves, we can use a for loop:"
   ]
  },
  {
   "cell_type": "code",
   "execution_count": null,
   "metadata": {},
   "outputs": [],
   "source": []
  },
  {
   "cell_type": "markdown",
   "metadata": {},
   "source": [
    "So, we have produced our solution for the classical puzzle as required. We can also investigate the length of the solution:"
   ]
  },
  {
   "cell_type": "code",
   "execution_count": null,
   "metadata": {},
   "outputs": [],
   "source": []
  },
  {
   "cell_type": "markdown",
   "metadata": {},
   "source": [
    "We note that is not hard to show the (optimal) length for this classical version of the puzzle is always $2^n - 1$ (Miodrag Petković, 2009).\n",
    "\n",
    "TODO: Maybe have my own document? Also maybe put this in extension or mention it again."
   ]
  },
  {
   "cell_type": "markdown",
   "metadata": {},
   "source": [
    "We shall now look at different variants of the puzzle. Firstly, we shall deal with the variant where no wrapping is allowed. Another equivalent way of forming this puzzle would be considering the puzzle as the classical variation of the Tower of Hanoi puzzle, with an additional rule that *every move must involve peg $B$*."
   ]
  },
  {
   "cell_type": "markdown",
   "metadata": {},
   "source": [
    "We shall also handle the problem with mutual recursion with a pseudocode algorithm; this one is particularly inspired by the discussion at (reference here please).\n",
    "\n",
    "```\n",
    "DEFINE NoWrap_Left(n): \\\\ Solution for the puzzle - Move n discs from peg A to C\n",
    "    if n = 1: \n",
    "        \\\\ Perform the following 2 steps in order:\n",
    "        1. Move(1, 'Right') \\\\ move disc from A to B\n",
    "        2. Move(1, 'Right') \\\\ move disc from B to C\n",
    "    else:\n",
    "        \\\\ Perform the 5 Steps in Order:\n",
    "        1. NoWrap_Left(n) \\\\ move n-1 from A to C \n",
    "        2. Move(n, 'Right') \\\\ move disc n from A to B\n",
    "        3. NoWrap_Right(n) \\\\ move n-1 from C to A \n",
    "        4. Move(n, 'Right') \\\\ move disc n from B to C\n",
    "        5. NoWrap_Left(n) \\\\move n-1 from A to C \n",
    "END    \n",
    "\n",
    "DEFINE NoWrap_Right(n): \\\\ Solution for Moving n discs from peg C to A\n",
    "    if n = 1:\n",
    "        \\\\ Perform the following 2 steps in order:\n",
    "        1. Move(1, 'Left') \\\\ move disc from C to B\n",
    "        2. Move(1, 'Left') \\\\ move disc from B to A\n",
    "    else:\n",
    "        \\\\ Perform the 5 Steps in Order:\n",
    "        1. NoWrap_Right(n) \\\\ move n-1 from C to A \n",
    "        2. Move(n, 'Left') \\\\ move disc n from C to B\n",
    "        3. NoWrap_Left(n) \\\\ move n-1 from A to C \n",
    "        4. Move(n, 'Left') \\\\ move disc n from B to A\n",
    "        5. NoWrap_Right(n) \\\\move n-1 from C to A \n",
    "END\n",
    "```\n",
    "The implementation is analogous to the classical variant of the puzzle. We shall also have a look at the solution and its length.\n"
   ]
  },
  {
   "cell_type": "code",
   "execution_count": null,
   "metadata": {},
   "outputs": [],
   "source": []
  },
  {
   "cell_type": "markdown",
   "metadata": {},
   "source": [
    "And, in fact, we can show that the (optimal) length of this solution is $3^n -1$ (reference here please). The intuition would be that we use one extra move in every iteration to accommodate the fact that it must pass through peg B."
   ]
  },
  {
   "cell_type": "markdown",
   "metadata": {},
   "source": [
    "Finally, we shall deal with the bicolour variant. Note that this implementation is not optimal, as we would see in the later section.\n",
    "\n",
    "The strategy here is to first move everything to peg $B$ and then redistribute it after changing the bottom two discs. Again, we shall start by introducing pseudocode:\n",
    "\n",
    "```\n",
    "DEFINE ToCenter(n): \\\\ Solution for Moving n discs to peg B\n",
    "    if n = 1:  Move(1, 'Right') \n",
    "    Elif n = 2: [Move(2, 'Left'), Move(1, 'Right')]\n",
    "    else:\n",
    "        if n is even:\n",
    "            \\\\ Perform the 4 Steps in Order:\n",
    "            1. ToCenter(n-2) \\\\ move n-2 discs to peg B\n",
    "            2. Left(n-2) \\\\ move n-2 discs from B to A\n",
    "            3. Move(n, 'Left') \\\\ move n from C to B \n",
    "            4. Right(n-1) \\\\move n-1 discs from A to B \n",
    "        else: \\\\ if n is odd\n",
    "            \\\\ Perform the 4 Steps in Order:\n",
    "            1. ToCenter(n-1) \\\\ move n-1 discs to peg B\n",
    "            2. Right(n-1) \\\\ move n-1 discs from B to C\n",
    "            3. Move(n, 'Right') \\\\ move n from A to B \n",
    "            4. Left(n-1) \\\\move n-1 discs from C to B \n",
    "END    \n",
    "\n",
    "DEFINE Solve_Bicolor(n): \\\\ Solution for the Bicolor Variant\n",
    "    if n is not even, RAISE error\n",
    "    if n = 2: [Move(2, 'Left'), Move(1, 'Left'), Move(2, 'Left')]\n",
    "    else:\n",
    "        \\\\ Perform the 3 Steps in Order:\n",
    "        1. ToCenter(n-1) \\\\ move n-1 discs to peg B\n",
    "        2. Move(n, 'Left') \\\\ move disc n from C to A\n",
    "        3. REVERSE ToCenter(n) \\\\ redistribute the n-1 discs to their opposite pegs\n",
    "END\n",
    "```"
   ]
  },
  {
   "cell_type": "markdown",
   "metadata": {},
   "source": [
    "Note that, for the last step, we shall need to reverse the whole list. In this case, we shall need to create a new function `rev_list` to reverse a list."
   ]
  },
  {
   "cell_type": "code",
   "execution_count": null,
   "metadata": {},
   "outputs": [],
   "source": []
  },
  {
   "cell_type": "markdown",
   "metadata": {},
   "source": [
    "<a id='S5.3'></a> \n",
    "#### 5.3 Identifying Valid Moves"
   ]
  },
  {
   "cell_type": "markdown",
   "metadata": {},
   "source": [
    "In this section, we shall introduce the function `ToH_Valid_Move` in order to detect whether a move $M$ is a valid move of $T$ under $P$. We shall then use it to return the configuration list under a solution. This will achieve the objective set in the first part of our discussion. From here, we shall also present an interactive version of the puzzle.\n",
    "\n",
    "Let us understand what the final goal is before presenting the code."
   ]
  },
  {
   "cell_type": "code",
   "execution_count": null,
   "metadata": {},
   "outputs": [],
   "source": []
  },
  {
   "cell_type": "markdown",
   "metadata": {},
   "source": [
    "The key idea of the ToH_Valid_Move Command is as follows:\n",
    "\n",
    ">1.\tGiven a move `m`, assign a direction of m (i.e., `m.direction`) as Left or Right with a direction number `dir_num`, with the value being `1` when the direction is Right, and `-1` otherwise.\n",
    "> 2.\tGiven the Move `m,` ensure that the disc m.disc is at the top of one of the pegs. Find the peg and call that peg `count`.\n",
    "> 3.\tCalculate the value of `count + dir_num` and assign it to `tar`. This tells us where we can put the disc at the target configuration. If wrapping around is allowed, we can work modulo 3; otherwise `tar` can only be 0, 1 or 2.\n",
    "> 4.\tMutate the configuration such that it becomes the configuration attained by `m` on `config`.\n"
   ]
  },
  {
   "cell_type": "code",
   "execution_count": null,
   "metadata": {},
   "outputs": [],
   "source": []
  },
  {
   "cell_type": "markdown",
   "metadata": {},
   "source": [
    "The key point here is point 4. Due to the process of mutating the original configuration `config`, it will change whenever we call the function, so we do not have to redefine it upon successive calls of the function. \n",
    "\n",
    "This is an immensely powerful design (in technical jargon, he variable `config` is *dynamic*) that will save us some lines when designing the interactive version of the puzzles. The following code block illustrates this idea."
   ]
  },
  {
   "cell_type": "code",
   "execution_count": null,
   "metadata": {},
   "outputs": [],
   "source": []
  },
  {
   "cell_type": "markdown",
   "metadata": {},
   "source": [
    "From here, we shall display the configuration list under a solution for the puzzle. We shall first start with the classical variant."
   ]
  },
  {
   "cell_type": "code",
   "execution_count": null,
   "metadata": {},
   "outputs": [],
   "source": []
  },
  {
   "cell_type": "markdown",
   "metadata": {},
   "source": [
    "We can deal with the no wrap variant and bicolor variant similarly."
   ]
  },
  {
   "cell_type": "code",
   "execution_count": null,
   "metadata": {},
   "outputs": [],
   "source": []
  },
  {
   "cell_type": "markdown",
   "metadata": {},
   "source": [
    "As we can see, the answer of the configuration list indeed matches the definition and the objective configuration. Note that, in the `ToH_BiColor_Solve` function, the output is sub-optimal. For example, note that the output, shown below, after 4 steps,"
   ]
  },
  {
   "cell_type": "markdown",
   "metadata": {},
   "source": [
    "```\n",
    "[[1, 3], [], [2, 4]] <-- HERE\n",
    "Step 1: move disc 2 to the Left\n",
    "[[1, 3], [2], [4]]\n",
    "Step 2: move disc 1 to the Right\n",
    "[[3], [1, 2], [4]]\n",
    "Step 3: move disc 1 to the Left\n",
    "[[1, 3], [2], [4]]\n",
    "Step 4: move disc 2 to the Right\n",
    "[[1, 3], [], [2, 4]] <-- HERE\n",
    "```\n",
    "\n",
    "brings us back to the original configuration, so this does not need to be part of the solution.\n",
    "\n",
    "From here, it is not hard for us to produce an interactive version of the three puzzles, where the user can feed in a move and play until the objective is reached."
   ]
  },
  {
   "cell_type": "code",
   "execution_count": null,
   "metadata": {},
   "outputs": [],
   "source": []
  },
  {
   "cell_type": "markdown",
   "metadata": {},
   "source": [
    "<a id='S5.4'></a> \n",
    "#### 5.4 Animation of the Puzzles"
   ]
  },
  {
   "cell_type": "markdown",
   "metadata": {},
   "source": [
    "In this section, we shall look as to how we can integrate the solution and configuration list such that the puzzles can be displayed as an animation. We also explore more complicated animations.\n",
    "\n",
    "First we shall create a background with a base and 3 pegs, just like the usual Tower of Hanoi setup."
   ]
  },
  {
   "cell_type": "code",
   "execution_count": null,
   "metadata": {},
   "outputs": [],
   "source": []
  },
  {
   "cell_type": "markdown",
   "metadata": {},
   "source": [
    "Now, in order to access and update the background, we just need to use the image, load and bilt command in the PyGame module.\n",
    "\n",
    "Note that we do not want to do the same and save discs as PNG files, and this is because they depend on the configuration, and they will be moved around in the animation.\n"
   ]
  },
  {
   "cell_type": "markdown",
   "metadata": {},
   "source": [
    "Another hurdle to overcome is the fact that discs come in varied sizes. Usually, they are cylinders of the same height, but since we are looking at the puzzle from a side view, we shall treat the discs as rectangles with different widths but the same height.\n",
    "\n",
    "In our implementation, the discs are labelled by the positive integers (which stemmed from the class `Move`), and we can set disc $1$ as $10$ pixels long, disc $2$ as $20$ pixels, ... et cetera.\n"
   ]
  },
  {
   "cell_type": "markdown",
   "metadata": {},
   "source": [
    "If the disc size is fixed, where the discs are placed is uniquely determined by the configuration. We shall take advantage of this and write a function that, given the configuration, outputs where the discs should be drawn.\n",
    "\n",
    "(Note that the `draw` command in `PyGame` only takes from the top left corner TODO: What?, hence the co-ordinates that we return for each disc will be from the top left corner.)\n"
   ]
  },
  {
   "cell_type": "code",
   "execution_count": null,
   "metadata": {},
   "outputs": [],
   "source": []
  },
  {
   "cell_type": "markdown",
   "metadata": {},
   "source": [
    "The `ToH_Get_Coordinate` acts as a helper to our animation functions, and we shall enumerate over the list to draw all the discs in a configuration."
   ]
  },
  {
   "cell_type": "code",
   "execution_count": null,
   "metadata": {},
   "outputs": [],
   "source": []
  },
  {
   "cell_type": "code",
   "execution_count": null,
   "metadata": {},
   "outputs": [],
   "source": []
  },
  {
   "cell_type": "markdown",
   "metadata": {},
   "source": [
    "(Note that the animation shows the configuration before applying the last move, thus it is easy to see that the animation produces the objective configuration.)\n",
    "\n",
    "Now we shall discuss the key difference between implementing this and the other two variants of the puzzle.\n",
    "\n",
    "1.\tThe No Wrap Variant is similar, except with WrapAround = False in the ToH_Valid_Move command.\n",
    "\n",
    "2.\tThe Bicolor Variant: The initial configuration of the discs shall be changed accordingly. We shall also colour the discs red and green instead of blue for visual effects.\n"
   ]
  },
  {
   "cell_type": "code",
   "execution_count": null,
   "metadata": {},
   "outputs": [],
   "source": []
  },
  {
   "cell_type": "code",
   "execution_count": null,
   "metadata": {},
   "outputs": [],
   "source": []
  },
  {
   "cell_type": "markdown",
   "metadata": {},
   "source": [
    "From here, we can let the user choose the mode, discs, and speed factor using an interactive command."
   ]
  },
  {
   "cell_type": "code",
   "execution_count": null,
   "metadata": {},
   "outputs": [],
   "source": []
  },
  {
   "cell_type": "markdown",
   "metadata": {},
   "source": [
    "<a id='S5.5'></a> \n",
    "#### 5.5 Extensions"
   ]
  },
  {
   "cell_type": "markdown",
   "metadata": {},
   "source": [
    "There are a lot of features we can add to the functions introduced in this section. Firstly, we look at implementing a smooth version of ToH_Basic, where the discs transfer smoothly."
   ]
  },
  {
   "cell_type": "code",
   "execution_count": null,
   "metadata": {},
   "outputs": [],
   "source": []
  },
  {
   "cell_type": "markdown",
   "metadata": {},
   "source": [
    "Now as promised in the previous section, we look at different time and space complexity issue. \n",
    "\n",
    "TODO: Some comment on space complexity\n",
    "\n",
    "We shall look at how memoization speeds up the function call for large values of $n$. \n",
    "\n",
    "\n",
    "We first start by implementing the no memoization version of functions that produces a solution, with a suffix `_NoMem` after their usual names in order to distinguish them.\n"
   ]
  },
  {
   "cell_type": "code",
   "execution_count": null,
   "metadata": {},
   "outputs": [],
   "source": []
  },
  {
   "cell_type": "code",
   "execution_count": null,
   "metadata": {},
   "outputs": [],
   "source": []
  },
  {
   "cell_type": "code",
   "execution_count": null,
   "metadata": {},
   "outputs": [],
   "source": []
  },
  {
   "cell_type": "markdown",
   "metadata": {},
   "source": [
    "As seen, as $n$ increases, the run time for no memoization dramatically increases, but with memoization, the running time can be kept to around 400 nanoseconds.\n",
    "\n",
    "TODO: Graphical Representation of this fact?\n",
    "\n",
    "TODO: Iterative design on the functions?"
   ]
  },
  {
   "cell_type": "markdown",
   "metadata": {},
   "source": [
    "<a id='Conc'></a>\n",
    "## Conclusion "
   ]
  },
  {
   "cell_type": "markdown",
   "metadata": {},
   "source": [
    "Throughout the project, we have explained the complex topic of fractals and we have seen examples of how mathematical concepts like recursion can be implemented using various computational techniques. As Mandelbrot himself (Benoît Mandelbrot, 1983) put it:\n",
    "> *“Fractals Geometry reveals that some of the most austerely formal chapters of mathematics had a hidden face: a world of pure plastic beauty unsuspected till now.”*\n",
    ">\n",
    "> Benoît Mandelbrot, 1983\n"
   ]
  },
  {
   "cell_type": "markdown",
   "metadata": {},
   "source": [
    "<a id='Bib'></a>\n",
    "## References and Bibilography"
   ]
  },
  {
   "cell_type": "markdown",
   "metadata": {},
   "source": [
    "<a id='PyGame_Intro'>(Shinners, 2021)</a> Shinners, P. (2021). *Pygame Intro — Pygame v2.1.1 Documentation.* [online] Pygame.org. Available at: http://www.pygame.org/docs/tut/PygameIntro.html [Accessed 5 May 2022]."
   ]
  }
 ],
 "metadata": {
  "interpreter": {
   "hash": "f08154012ddadd8e950e6e9e035c7a7b32c136e7647e9b7c77e02eb723a8bedb"
  },
  "kernelspec": {
   "display_name": "Python 3.9.7 ('base')",
   "language": "python",
   "name": "python3"
  },
  "language_info": {
   "codemirror_mode": {
    "name": "ipython",
    "version": 3
   },
   "file_extension": ".py",
   "mimetype": "text/x-python",
   "name": "python",
   "nbconvert_exporter": "python",
   "pygments_lexer": "ipython3",
   "version": "3.9.7"
  }
 },
 "nbformat": 4,
 "nbformat_minor": 2
}
